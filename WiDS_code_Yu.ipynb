{
 "cells": [
  {
   "cell_type": "markdown",
   "metadata": {},
   "source": [
    "# Code and visualization for the challenge"
   ]
  },
  {
   "cell_type": "code",
   "execution_count": 18,
   "metadata": {},
   "outputs": [],
   "source": [
    "#import lib\n",
    "import numpy as np\n",
    "import pandas as pd\n",
    "import matplotlib.pyplot as plt\n",
    "import scipy\n",
    "from sklearn.model_selection import train_test_split,cross_val_score, GridSearchCV, RandomizedSearchCV\n",
    "from sklearn.ensemble import RandomForestClassifier,RandomForestRegressor,GradientBoostingClassifier ,VotingClassifier\n",
    "from sklearn.metrics import precision_recall_fscore_support, matthews_corrcoef\n",
    "from sklearn.linear_model import LogisticRegression\n",
    "from sklearn.neural_network import MLPClassifier\n",
    "from sklearn.svm import SVC\n",
    "from sklearn import metrics\n",
    "from sklearn.impute import SimpleImputer, KNNImputer\n",
    "from sklearn import preprocessing\n",
    "import missingno as msno \n",
    "import plotly.express as px\n",
    "import plotly.graph_objects as go\n",
    "import plotly.io as pio\n",
    "import plotly.tools as tls \n",
    "from plotly.graph_objs import * "
   ]
  },
  {
   "cell_type": "markdown",
   "metadata": {},
   "source": [
    "## Loading Data\n"
   ]
  },
  {
   "cell_type": "code",
   "execution_count": 19,
   "metadata": {},
   "outputs": [],
   "source": [
    "training_v2 = pd.read_csv(\"Data/training_v2.csv\")\n",
    "y = training_v2['hospital_death']\n",
    "X = training_v2.drop('hospital_death',axis = 1)\n",
    "# remove categorical variables that have too much possible values\n",
    "X = X.drop(columns = ['encounter_id', 'patient_id', 'hospital_id', 'icu_id','apache_2_diagnosis','apache_3j_diagnosis'])\n"
   ]
  },
  {
   "cell_type": "code",
   "execution_count": 41,
   "metadata": {},
   "outputs": [
    {
     "name": "stderr",
     "output_type": "stream",
     "text": [
      "/Users/yuyan/miniconda3/lib/python3.7/site-packages/ipykernel_launcher.py:3: FutureWarning:\n",
      "\n",
      "The signature of `Series.to_csv` was aligned to that of `DataFrame.to_csv`, and argument 'header' will change its default value from False to True: please pass an explicit value to suppress this warning.\n",
      "\n"
     ]
    }
   ],
   "source": [
    "# description dictionary\n",
    "descrip_dict = pd.read_csv(\"Data/WiDS Datathon 2020 Dictionary.csv\")\n",
    "descrip_dict['Variable Name'].to_csv('variables.csv')"
   ]
  },
  {
   "cell_type": "code",
   "execution_count": 21,
   "metadata": {},
   "outputs": [
    {
     "data": {
      "text/plain": [
       "['encounter_id',\n",
       " 'hospital_id',\n",
       " 'patient_id',\n",
       " 'icu_id',\n",
       " 'gcs_eyes_apache',\n",
       " 'gcs_motor_apache',\n",
       " 'gcs_verbal_apache']"
      ]
     },
     "execution_count": 21,
     "metadata": {},
     "output_type": "execute_result"
    }
   ],
   "source": [
    "l, = np.where(descrip_dict['Data Type']== 'integer')\n",
    "temp = [descrip_dict['Variable Name'].iloc[i] for i in l]\n",
    "temp"
   ]
  },
  {
   "cell_type": "code",
   "execution_count": null,
   "metadata": {},
   "outputs": [],
   "source": []
  },
  {
   "cell_type": "code",
   "execution_count": 22,
   "metadata": {},
   "outputs": [
    {
     "data": {
      "text/plain": [
       "['ethnicity',\n",
       " 'gender',\n",
       " 'hospital_admit_source',\n",
       " 'icu_admit_source',\n",
       " 'icu_stay_type',\n",
       " 'icu_type',\n",
       " 'apache_3j_bodysystem',\n",
       " 'apache_2_bodysystem']"
      ]
     },
     "execution_count": 22,
     "metadata": {},
     "output_type": "execute_result"
    }
   ],
   "source": [
    "# get categories data\n",
    "l, = np.where(descrip_dict['Data Type']=='string')\n",
    "categories = [descrip_dict['Variable Name'].iloc[i] for i in l]\n",
    "categories = categories[1:len(categories)]\n",
    "# error in description data\n",
    "categories.remove('icu_admit_type')\n",
    "categories.remove('apache_2_diagnosis')\n",
    "categories.remove('apache_3j_diagnosis')\n",
    "categories"
   ]
  },
  {
   "cell_type": "markdown",
   "metadata": {},
   "source": [
    "## Missing data Exploration \n",
    "Summary of missing data\n"
   ]
  },
  {
   "cell_type": "code",
   "execution_count": 23,
   "metadata": {},
   "outputs": [
    {
     "name": "stdout",
     "output_type": "stream",
     "text": [
      "top10 missing variables: \n",
      "gender               25\n",
      "icu_admit_source    112\n",
      "d1_heartrate_max    145\n",
      "d1_heartrate_min    145\n",
      "d1_sysbp_min        159\n",
      "d1_sysbp_max        159\n",
      "d1_diasbp_max       165\n",
      "d1_diasbp_min       165\n",
      "d1_mbp_min          220\n",
      "d1_mbp_max          220\n",
      "dtype: int64\n",
      "bottom10 missing variables: \n",
      "h1_mbp_invasive_max       74844\n",
      "h1_sysbp_invasive_max     74915\n",
      "h1_sysbp_invasive_min     74915\n",
      "h1_diasbp_invasive_max    74928\n",
      "h1_diasbp_invasive_min    74928\n",
      "h1_creatinine_min         74957\n",
      "h1_creatinine_max         74957\n",
      "h1_bun_max                75091\n",
      "h1_bun_min                75091\n",
      "h1_platelets_min          75673\n",
      "h1_platelets_max          75673\n",
      "h1_calcium_min            75863\n",
      "h1_calcium_max            75863\n",
      "h1_arterial_po2_max       75945\n",
      "h1_arterial_po2_min       75945\n",
      "h1_wbc_min                75953\n",
      "h1_wbc_max                75953\n",
      "h1_arterial_pco2_max      75959\n",
      "h1_arterial_pco2_min      75959\n",
      "h1_hco3_max               76094\n",
      "h1_hco3_min               76094\n",
      "h1_arterial_ph_min        76424\n",
      "h1_arterial_ph_max        76424\n",
      "h1_pao2fio2ratio_min      80195\n",
      "h1_pao2fio2ratio_max      80195\n",
      "h1_albumin_min            83824\n",
      "h1_albumin_max            83824\n",
      "h1_lactate_min            84369\n",
      "h1_lactate_max            84369\n",
      "h1_bilirubin_min          84619\n",
      "dtype: int64\n",
      "Index(['urineoutput_apache', 'd1_albumin_min', 'd1_albumin_max',\n",
      "       'h1_glucose_min', 'h1_glucose_max', 'd1_bilirubin_max',\n",
      "       'd1_bilirubin_min', 'albumin_apache', 'h1_inr_max', 'h1_inr_min',\n",
      "       'd1_inr_min', 'd1_inr_max', 'bilirubin_apache', 'd1_arterial_po2_max',\n",
      "       'd1_arterial_po2_min', 'd1_arterial_pco2_max', 'd1_arterial_pco2_min',\n",
      "       'd1_arterial_ph_max', 'd1_arterial_ph_min', 'd1_pao2fio2ratio_max',\n",
      "       'd1_pao2fio2ratio_min', 'd1_mbp_invasive_max', 'd1_mbp_invasive_min',\n",
      "       'd1_sysbp_invasive_min', 'd1_sysbp_invasive_max',\n",
      "       'd1_diasbp_invasive_min', 'd1_diasbp_invasive_max', 'd1_lactate_min',\n",
      "       'd1_lactate_max', 'paco2_for_ph_apache', 'fio2_apache', 'pao2_apache',\n",
      "       'paco2_apache', 'ph_apache', 'h1_potassium_max', 'h1_potassium_min',\n",
      "       'h1_sodium_max', 'h1_sodium_min', 'h1_hemaglobin_max',\n",
      "       'h1_hemaglobin_min', 'h1_hematocrit_min', 'h1_hematocrit_max',\n",
      "       'h1_mbp_invasive_min', 'h1_mbp_invasive_max', 'h1_sysbp_invasive_max',\n",
      "       'h1_sysbp_invasive_min', 'h1_diasbp_invasive_max',\n",
      "       'h1_diasbp_invasive_min', 'h1_creatinine_min', 'h1_creatinine_max',\n",
      "       'h1_bun_max', 'h1_bun_min', 'h1_platelets_min', 'h1_platelets_max',\n",
      "       'h1_calcium_min', 'h1_calcium_max', 'h1_arterial_po2_max',\n",
      "       'h1_arterial_po2_min', 'h1_wbc_min', 'h1_wbc_max',\n",
      "       'h1_arterial_pco2_max', 'h1_arterial_pco2_min', 'h1_hco3_max',\n",
      "       'h1_hco3_min', 'h1_arterial_ph_min', 'h1_arterial_ph_max',\n",
      "       'h1_pao2fio2ratio_min', 'h1_pao2fio2ratio_max', 'h1_albumin_min',\n",
      "       'h1_albumin_max', 'h1_lactate_min', 'h1_lactate_max',\n",
      "       'h1_bilirubin_min', 'h1_bilirubin_max'],\n",
      "      dtype='object')\n"
     ]
    }
   ],
   "source": [
    "# get the high and low missing values\n",
    "# auxillary matrix\n",
    "aux_mat= pd.isnull(X)\n",
    "a = aux_mat.sum(axis = 0, skipna = True)\n",
    "a = a.sort_values()\n",
    "print(\"top10 missing variables: \")\n",
    "# remove non-missing variables\n",
    "a = a[a!=0]\n",
    "\n",
    "print( a[0:10])\n",
    "print(\"bottom10 missing variables: \")\n",
    "print( a[len(a)-31:len(a)-1])\n",
    "cutting_thres = 0.5\n",
    "high_miss_list = a[a>aux_mat.shape[0]*cutting_thres].index\n",
    "print(high_miss_list)\n"
   ]
  },
  {
   "cell_type": "code",
   "execution_count": null,
   "metadata": {},
   "outputs": [],
   "source": []
  },
  {
   "cell_type": "code",
   "execution_count": null,
   "metadata": {},
   "outputs": [],
   "source": []
  },
  {
   "cell_type": "code",
   "execution_count": 13,
   "metadata": {},
   "outputs": [
    {
     "data": {
      "text/plain": [
       "<matplotlib.axes._subplots.AxesSubplot at 0x1382e7c50>"
      ]
     },
     "execution_count": 13,
     "metadata": {},
     "output_type": "execute_result"
    },
    {
     "data": {
      "image/png": "[encoded data removed]",
      "text/plain": [
       "<Figure size 1728x720 with 2 Axes>"
      ]
     },
     "metadata": {
      "needs_background": "light"
     },
     "output_type": "display_data"
    }
   ],
   "source": [
    "# missing data distribution\n",
    "msno.bar(X, sort = 'ascending') "
   ]
  },
  {
   "cell_type": "code",
   "execution_count": 21,
   "metadata": {},
   "outputs": [
    {
     "data": {
      "text/plain": [
       "<matplotlib.axes._subplots.AxesSubplot at 0x1204fb6a0>"
      ]
     },
     "execution_count": 21,
     "metadata": {},
     "output_type": "execute_result"
    },
    {
     "data": {
      "image/png": "[encoded data removed]",
      "text/plain": [
       "<Figure size 1440x864 with 2 Axes>"
      ]
     },
     "metadata": {
      "needs_background": "light"
     },
     "output_type": "display_data"
    }
   ],
   "source": [
    "# heatmap\n",
    "msno.heatmap(X, labels=False)"
   ]
  },
  {
   "cell_type": "code",
   "execution_count": 7,
   "metadata": {},
   "outputs": [
    {
     "name": "stdout",
     "output_type": "stream",
     "text": [
      "12850      0\n",
      "8286       0\n",
      "10228      0\n",
      "42849      0\n",
      "41618      0\n",
      "        ... \n",
      "13063    156\n",
      "12563    156\n",
      "90275    158\n",
      "33104    166\n",
      "3011     167\n",
      "Length: 91713, dtype: int64\n",
      "PointbiserialrResult(correlation=-0.1225517660874609, pvalue=9.211407356565366e-304)\n"
     ]
    }
   ],
   "source": [
    "# Association between missingness and death rate\n",
    "p_miss = aux_mat.sum(axis = 1, skipna = True)\n",
    "print(p_miss.sort_values())\n",
    "print(scipy.stats.pointbiserialr(y, p_miss))"
   ]
  },
  {
   "cell_type": "code",
   "execution_count": 8,
   "metadata": {},
   "outputs": [
    {
     "name": "stderr",
     "output_type": "stream",
     "text": [
      "/Users/yuyan/miniconda3/lib/python3.7/site-packages/sklearn/metrics/_classification.py:900: RuntimeWarning:\n",
      "\n",
      "invalid value encountered in double_scalars\n",
      "\n"
     ]
    }
   ],
   "source": [
    "d = {}\n",
    "for col in aux_mat.columns:\n",
    "    d[col] = matthews_corrcoef(y, aux_mat[col])\n",
    "dd = pd.Series(d)"
   ]
  },
  {
   "cell_type": "code",
   "execution_count": 11,
   "metadata": {},
   "outputs": [
    {
     "name": "stdout",
     "output_type": "stream",
     "text": [
      "d1_arterial_po2_min    -0.200287\n",
      "d1_arterial_po2_max    -0.200287\n",
      "d1_arterial_pco2_max   -0.200038\n",
      "d1_arterial_pco2_min   -0.200038\n",
      "d1_arterial_ph_max     -0.196743\n",
      "d1_arterial_ph_min     -0.196743\n",
      "d1_pao2fio2ratio_min   -0.191633\n",
      "d1_pao2fio2ratio_max   -0.191633\n",
      "d1_lactate_max         -0.179123\n",
      "d1_lactate_min         -0.179123\n",
      "dtype: float64\n",
      "h1_diasbp_invasive_min    0.018133\n",
      "height                    0.024283\n",
      "d1_temp_min               0.029015\n",
      "d1_temp_max               0.029015\n",
      "urineoutput_apache        0.037316\n",
      "temp_apache               0.038383\n",
      "gcs_motor_apache          0.044953\n",
      "gcs_eyes_apache           0.044953\n",
      "gcs_verbal_apache         0.044953\n",
      "age                       0.051312\n",
      "dtype: float64\n"
     ]
    }
   ],
   "source": [
    "dd = dd.sort_values()\n",
    "print(dd[0:10])\n",
    "print(dd[169:179])"
   ]
  },
  {
   "cell_type": "code",
   "execution_count": 38,
   "metadata": {},
   "outputs": [],
   "source": [
    "dd = pd.DataFrame.from_dict(d)"
   ]
  },
  {
   "cell_type": "markdown",
   "metadata": {},
   "source": [
    "## Missing data imputation\n",
    "\n",
    "Find the best missing data imputation method\n",
    "1. simple imputation\n",
    "2. replace with indicator\n",
    "3. KNN imputation"
   ]
  },
  {
   "cell_type": "markdown",
   "metadata": {},
   "source": [
    "### simple imputation"
   ]
  },
  {
   "cell_type": "code",
   "execution_count": 24,
   "metadata": {},
   "outputs": [
    {
     "data": {
      "text/plain": [
       "0"
      ]
     },
     "execution_count": 24,
     "metadata": {},
     "output_type": "execute_result"
    }
   ],
   "source": [
    "# simple imputation\n",
    "categorical = pd.get_dummies(X[categories], dummy_na=True)\n",
    "continuous = X.drop(columns=categories)\n",
    "\n",
    "imp = SimpleImputer(strategy = 'mean')\n",
    "new_data = pd.DataFrame(imp.fit_transform(continuous))\n",
    "new_data.columns = continuous.columns\n",
    "\n",
    "new_X = new_data\n",
    "#new_X = pd.concat([new_data, categorical], axis=1, sort=False)\n",
    "\n",
    "#print(\"X\",X.shape)\n",
    "pd.isnull(new_X).sum().sum()"
   ]
  },
  {
   "cell_type": "code",
   "execution_count": 25,
   "metadata": {},
   "outputs": [
    {
     "data": {
      "text/plain": [
       "Index(['I_albumin_apache', 'I_bilirubin_apache', 'I_fio2_apache',\n",
       "       'I_paco2_apache', 'I_paco2_for_ph_apache', 'I_pao2_apache',\n",
       "       'I_ph_apache', 'I_urineoutput_apache', 'I_d1_diasbp_invasive_max',\n",
       "       'I_d1_diasbp_invasive_min', 'I_d1_mbp_invasive_max',\n",
       "       'I_d1_mbp_invasive_min', 'I_d1_sysbp_invasive_max',\n",
       "       'I_d1_sysbp_invasive_min', 'I_h1_diasbp_invasive_max',\n",
       "       'I_h1_diasbp_invasive_min', 'I_h1_mbp_invasive_max',\n",
       "       'I_h1_mbp_invasive_min', 'I_h1_sysbp_invasive_max',\n",
       "       'I_h1_sysbp_invasive_min', 'I_d1_albumin_max', 'I_d1_albumin_min',\n",
       "       'I_d1_bilirubin_max', 'I_d1_bilirubin_min', 'I_d1_inr_max',\n",
       "       'I_d1_inr_min', 'I_d1_lactate_max', 'I_d1_lactate_min',\n",
       "       'I_h1_albumin_max', 'I_h1_albumin_min', 'I_h1_bilirubin_max',\n",
       "       'I_h1_bilirubin_min', 'I_h1_bun_max', 'I_h1_bun_min',\n",
       "       'I_h1_calcium_max', 'I_h1_calcium_min', 'I_h1_creatinine_max',\n",
       "       'I_h1_creatinine_min', 'I_h1_glucose_max', 'I_h1_glucose_min',\n",
       "       'I_h1_hco3_max', 'I_h1_hco3_min', 'I_h1_hemaglobin_max',\n",
       "       'I_h1_hemaglobin_min', 'I_h1_hematocrit_max', 'I_h1_hematocrit_min',\n",
       "       'I_h1_inr_max', 'I_h1_inr_min', 'I_h1_lactate_max', 'I_h1_lactate_min',\n",
       "       'I_h1_platelets_max', 'I_h1_platelets_min', 'I_h1_potassium_max',\n",
       "       'I_h1_potassium_min', 'I_h1_sodium_max', 'I_h1_sodium_min',\n",
       "       'I_h1_wbc_max', 'I_h1_wbc_min', 'I_d1_arterial_pco2_max',\n",
       "       'I_d1_arterial_pco2_min', 'I_d1_arterial_ph_max',\n",
       "       'I_d1_arterial_ph_min', 'I_d1_arterial_po2_max',\n",
       "       'I_d1_arterial_po2_min', 'I_d1_pao2fio2ratio_max',\n",
       "       'I_d1_pao2fio2ratio_min', 'I_h1_arterial_pco2_max',\n",
       "       'I_h1_arterial_pco2_min', 'I_h1_arterial_ph_max',\n",
       "       'I_h1_arterial_ph_min', 'I_h1_arterial_po2_max',\n",
       "       'I_h1_arterial_po2_min', 'I_h1_pao2fio2ratio_max',\n",
       "       'I_h1_pao2fio2ratio_min'],\n",
       "      dtype='object')"
      ]
     },
     "execution_count": 25,
     "metadata": {},
     "output_type": "execute_result"
    }
   ],
   "source": [
    "high_aux_mat = aux_mat.drop(columns = aux_mat.columns.difference(high_miss_list))\n",
    "high_aux_mat.columns = [\"I_\" + s for s in high_aux_mat.columns]\n",
    "high_aux_mat.columns"
   ]
  },
  {
   "cell_type": "code",
   "execution_count": 26,
   "metadata": {},
   "outputs": [],
   "source": [
    "X_train, X_test ,y_train, y_test = train_test_split(new_X, y, test_size=0.2, random_state=1)\n"
   ]
  },
  {
   "cell_type": "code",
   "execution_count": 27,
   "metadata": {},
   "outputs": [
    {
     "name": "stdout",
     "output_type": "stream",
     "text": [
      "Fitting 5 folds for each of 5 candidates, totalling 25 fits\n"
     ]
    },
    {
     "name": "stderr",
     "output_type": "stream",
     "text": [
      "[Parallel(n_jobs=-1)]: Using backend LokyBackend with 8 concurrent workers.\n",
      "[Parallel(n_jobs=-1)]: Done  23 out of  25 | elapsed: 48.4min remaining:  4.2min\n",
      "[Parallel(n_jobs=-1)]: Done  25 out of  25 | elapsed: 48.6min finished\n"
     ]
    },
    {
     "name": "stdout",
     "output_type": "stream",
     "text": [
      "{'n_estimators': 105, 'max_features': 'sqrt', 'max_depth': 10, 'bootstrap': False}\n"
     ]
    }
   ],
   "source": [
    "n_estimators = [int(x) for x in np.linspace(start = 10, stop = 200, num = 19)]\n",
    "learning_rate = [x for x in np.linspace(start = 0.01, stop = 1, num = 19)]\n",
    "max_features = ['auto', 'sqrt']\n",
    "max_depth = [int(x) for x in np.linspace(1, 20, num = 19)]\n",
    "max_depth.append(None)\n",
    "bootstrap = [True, False]\n",
    "random_grid = {'n_estimators': n_estimators,\n",
    "               'max_features': max_features,\n",
    "               'max_depth': max_depth,\n",
    "               'bootstrap': bootstrap}\n",
    "\n",
    "rf = RandomForestRegressor()\n",
    "rf_random = RandomizedSearchCV(estimator = rf, param_distributions = random_grid, n_iter = 5, cv = 5, verbose=2, random_state=42, n_jobs = -1)\n",
    "rf_random.fit(X_train, y_train)\n",
    "print(rf_random.best_params_)\n",
    "best_random = rf_random.best_estimator_"
   ]
  },
  {
   "cell_type": "code",
   "execution_count": null,
   "metadata": {},
   "outputs": [],
   "source": []
  },
  {
   "cell_type": "code",
   "execution_count": 28,
   "metadata": {},
   "outputs": [
    {
     "data": {
      "text/plain": [
       "0.8853941774411161"
      ]
     },
     "execution_count": 28,
     "metadata": {},
     "output_type": "execute_result"
    }
   ],
   "source": [
    "predictions = best_random.predict(X_test)\n",
    "#print(precision_recall_fscore_support(y_test, predictions, average='binary'))\n",
    "fpr, tpr, thresholds = metrics.roc_curve(y_test, predictions, pos_label=1)\n",
    "metrics.auc(fpr, tpr)"
   ]
  },
  {
   "cell_type": "code",
   "execution_count": 29,
   "metadata": {},
   "outputs": [
    {
     "data": {
      "text/plain": [
       "0.9275421952378311"
      ]
     },
     "execution_count": 29,
     "metadata": {},
     "output_type": "execute_result"
    }
   ],
   "source": [
    "predictions = best_random.predict(X_train)\n",
    "#print(precision_recall_fscore_support(y_train, predictions, average='binary'))\n",
    "fpr, tpr, thresholds = metrics.roc_curve(y_train, predictions, pos_label=1)\n",
    "metrics.auc(fpr, tpr)"
   ]
  },
  {
   "cell_type": "code",
   "execution_count": 8,
   "metadata": {},
   "outputs": [
    {
     "data": {
      "text/plain": [
       "0"
      ]
     },
     "execution_count": 8,
     "metadata": {},
     "output_type": "execute_result"
    }
   ],
   "source": [
    "# simple imputation\n",
    "categorical = pd.get_dummies(X[categories], dummy_na=True)\n",
    "continuous = X.drop(columns=categories)\n",
    "\n",
    "imp = SimpleImputer(strategy = 'most_frequent')\n",
    "new_data = pd.DataFrame(imp.fit_transform(continuous))\n",
    "new_data.columns = continuous.columns\n",
    "\n",
    "new_X = new_data\n",
    "#new_X = pd.concat([new_data, categorical], axis=1, sort=False)\n",
    "\n",
    "#print(\"X\",X.shape)\n",
    "pd.isnull(new_X).sum().sum()"
   ]
  },
  {
   "cell_type": "code",
   "execution_count": 9,
   "metadata": {},
   "outputs": [
    {
     "data": {
      "text/plain": [
       "Index(['I_albumin_apache', 'I_bilirubin_apache', 'I_fio2_apache',\n",
       "       'I_paco2_apache', 'I_paco2_for_ph_apache', 'I_pao2_apache',\n",
       "       'I_ph_apache', 'I_urineoutput_apache', 'I_d1_diasbp_invasive_max',\n",
       "       'I_d1_diasbp_invasive_min', 'I_d1_mbp_invasive_max',\n",
       "       'I_d1_mbp_invasive_min', 'I_d1_sysbp_invasive_max',\n",
       "       'I_d1_sysbp_invasive_min', 'I_h1_diasbp_invasive_max',\n",
       "       'I_h1_diasbp_invasive_min', 'I_h1_mbp_invasive_max',\n",
       "       'I_h1_mbp_invasive_min', 'I_h1_sysbp_invasive_max',\n",
       "       'I_h1_sysbp_invasive_min', 'I_d1_albumin_max', 'I_d1_albumin_min',\n",
       "       'I_d1_bilirubin_max', 'I_d1_bilirubin_min', 'I_d1_inr_max',\n",
       "       'I_d1_inr_min', 'I_d1_lactate_max', 'I_d1_lactate_min',\n",
       "       'I_h1_albumin_max', 'I_h1_albumin_min', 'I_h1_bilirubin_max',\n",
       "       'I_h1_bilirubin_min', 'I_h1_bun_max', 'I_h1_bun_min',\n",
       "       'I_h1_calcium_max', 'I_h1_calcium_min', 'I_h1_creatinine_max',\n",
       "       'I_h1_creatinine_min', 'I_h1_glucose_max', 'I_h1_glucose_min',\n",
       "       'I_h1_hco3_max', 'I_h1_hco3_min', 'I_h1_hemaglobin_max',\n",
       "       'I_h1_hemaglobin_min', 'I_h1_hematocrit_max', 'I_h1_hematocrit_min',\n",
       "       'I_h1_inr_max', 'I_h1_inr_min', 'I_h1_lactate_max', 'I_h1_lactate_min',\n",
       "       'I_h1_platelets_max', 'I_h1_platelets_min', 'I_h1_potassium_max',\n",
       "       'I_h1_potassium_min', 'I_h1_sodium_max', 'I_h1_sodium_min',\n",
       "       'I_h1_wbc_max', 'I_h1_wbc_min', 'I_d1_arterial_pco2_max',\n",
       "       'I_d1_arterial_pco2_min', 'I_d1_arterial_ph_max',\n",
       "       'I_d1_arterial_ph_min', 'I_d1_arterial_po2_max',\n",
       "       'I_d1_arterial_po2_min', 'I_d1_pao2fio2ratio_max',\n",
       "       'I_d1_pao2fio2ratio_min', 'I_h1_arterial_pco2_max',\n",
       "       'I_h1_arterial_pco2_min', 'I_h1_arterial_ph_max',\n",
       "       'I_h1_arterial_ph_min', 'I_h1_arterial_po2_max',\n",
       "       'I_h1_arterial_po2_min', 'I_h1_pao2fio2ratio_max',\n",
       "       'I_h1_pao2fio2ratio_min'],\n",
       "      dtype='object')"
      ]
     },
     "execution_count": 9,
     "metadata": {},
     "output_type": "execute_result"
    }
   ],
   "source": [
    "high_aux_mat = aux_mat.drop(columns = aux_mat.columns.difference(high_miss_list))\n",
    "high_aux_mat.columns = [\"I_\" + s for s in high_aux_mat.columns]\n",
    "high_aux_mat.columns"
   ]
  },
  {
   "cell_type": "code",
   "execution_count": 10,
   "metadata": {},
   "outputs": [],
   "source": [
    "X_train, X_test ,y_train, y_test = train_test_split(new_X, y, test_size=0.2, random_state=1)\n"
   ]
  },
  {
   "cell_type": "code",
   "execution_count": 11,
   "metadata": {},
   "outputs": [
    {
     "name": "stdout",
     "output_type": "stream",
     "text": [
      "Fitting 5 folds for each of 5 candidates, totalling 25 fits\n"
     ]
    },
    {
     "name": "stderr",
     "output_type": "stream",
     "text": [
      "[Parallel(n_jobs=-1)]: Using backend LokyBackend with 8 concurrent workers.\n",
      "[Parallel(n_jobs=-1)]: Done  23 out of  25 | elapsed: 17.1min remaining:  1.5min\n",
      "[Parallel(n_jobs=-1)]: Done  25 out of  25 | elapsed: 17.2min finished\n"
     ]
    },
    {
     "name": "stdout",
     "output_type": "stream",
     "text": [
      "{'n_estimators': 105, 'max_features': 'sqrt', 'max_depth': 10, 'bootstrap': False}\n"
     ]
    }
   ],
   "source": [
    "n_estimators = [int(x) for x in np.linspace(start = 10, stop = 200, num = 19)]\n",
    "learning_rate = [x for x in np.linspace(start = 0.01, stop = 1, num = 19)]\n",
    "max_features = ['auto', 'sqrt']\n",
    "max_depth = [int(x) for x in np.linspace(1, 20, num = 19)]\n",
    "max_depth.append(None)\n",
    "bootstrap = [True, False]\n",
    "random_grid = {'n_estimators': n_estimators,\n",
    "               'max_features': max_features,\n",
    "               'max_depth': max_depth,\n",
    "               'bootstrap': bootstrap}\n",
    "\n",
    "rf = RandomForestRegressor()\n",
    "rf_random = RandomizedSearchCV(estimator = rf, param_distributions = random_grid, n_iter = 5, cv = 5, verbose=2, random_state=42, n_jobs = -1)\n",
    "rf_random.fit(X_train, y_train)\n",
    "print(rf_random.best_params_)\n",
    "best_random = rf_random.best_estimator_"
   ]
  },
  {
   "cell_type": "code",
   "execution_count": 12,
   "metadata": {},
   "outputs": [
    {
     "data": {
      "text/plain": [
       "0.883090035575931"
      ]
     },
     "execution_count": 12,
     "metadata": {},
     "output_type": "execute_result"
    }
   ],
   "source": [
    "predictions = best_random.predict(X_test)\n",
    "#print(precision_recall_fscore_support(y_test, predictions, average='binary'))\n",
    "fpr, tpr, thresholds = metrics.roc_curve(y_test, predictions, pos_label=1)\n",
    "metrics.auc(fpr, tpr)"
   ]
  },
  {
   "cell_type": "code",
   "execution_count": 13,
   "metadata": {},
   "outputs": [
    {
     "data": {
      "text/plain": [
       "0.9244067320328199"
      ]
     },
     "execution_count": 13,
     "metadata": {},
     "output_type": "execute_result"
    }
   ],
   "source": [
    "predictions = best_random.predict(X_train)\n",
    "#print(precision_recall_fscore_support(y_train, predictions, average='binary'))\n",
    "fpr, tpr, thresholds = metrics.roc_curve(y_train, predictions, pos_label=1)\n",
    "metrics.auc(fpr, tpr)"
   ]
  },
  {
   "cell_type": "markdown",
   "metadata": {},
   "source": [
    "### missing indicators"
   ]
  },
  {
   "cell_type": "code",
   "execution_count": 89,
   "metadata": {},
   "outputs": [],
   "source": [
    "new_X = aux_mat\n",
    "pd.isnull(new_X).sum().sum()\n",
    "X_train, X_test ,y_train, y_test = train_test_split(new_X, y, test_size=0.2, random_state=1)\n"
   ]
  },
  {
   "cell_type": "code",
   "execution_count": 93,
   "metadata": {},
   "outputs": [
    {
     "name": "stdout",
     "output_type": "stream",
     "text": [
      "Fitting 5 folds for each of 5 candidates, totalling 25 fits\n",
      "[CV] n_estimators=157, max_features=auto, max_depth=12, bootstrap=False \n"
     ]
    },
    {
     "name": "stderr",
     "output_type": "stream",
     "text": [
      "[Parallel(n_jobs=1)]: Using backend SequentialBackend with 1 concurrent workers.\n"
     ]
    },
    {
     "name": "stdout",
     "output_type": "stream",
     "text": [
      "[CV]  n_estimators=157, max_features=auto, max_depth=12, bootstrap=False, total= 1.4min\n",
      "[CV] n_estimators=157, max_features=auto, max_depth=12, bootstrap=False \n"
     ]
    },
    {
     "name": "stderr",
     "output_type": "stream",
     "text": [
      "[Parallel(n_jobs=1)]: Done   1 out of   1 | elapsed:  1.4min remaining:    0.0s\n"
     ]
    },
    {
     "name": "stdout",
     "output_type": "stream",
     "text": [
      "[CV]  n_estimators=157, max_features=auto, max_depth=12, bootstrap=False, total= 1.4min\n",
      "[CV] n_estimators=157, max_features=auto, max_depth=12, bootstrap=False \n",
      "[CV]  n_estimators=157, max_features=auto, max_depth=12, bootstrap=False, total= 1.4min\n",
      "[CV] n_estimators=157, max_features=auto, max_depth=12, bootstrap=False \n",
      "[CV]  n_estimators=157, max_features=auto, max_depth=12, bootstrap=False, total= 1.4min\n",
      "[CV] n_estimators=157, max_features=auto, max_depth=12, bootstrap=False \n",
      "[CV]  n_estimators=157, max_features=auto, max_depth=12, bootstrap=False, total= 1.5min\n",
      "[CV] n_estimators=157, max_features=sqrt, max_depth=14, bootstrap=True \n",
      "[CV]  n_estimators=157, max_features=sqrt, max_depth=14, bootstrap=True, total=   8.6s\n",
      "[CV] n_estimators=157, max_features=sqrt, max_depth=14, bootstrap=True \n",
      "[CV]  n_estimators=157, max_features=sqrt, max_depth=14, bootstrap=True, total=   8.5s\n",
      "[CV] n_estimators=157, max_features=sqrt, max_depth=14, bootstrap=True \n",
      "[CV]  n_estimators=157, max_features=sqrt, max_depth=14, bootstrap=True, total=   8.4s\n",
      "[CV] n_estimators=157, max_features=sqrt, max_depth=14, bootstrap=True \n",
      "[CV]  n_estimators=157, max_features=sqrt, max_depth=14, bootstrap=True, total=   8.2s\n",
      "[CV] n_estimators=157, max_features=sqrt, max_depth=14, bootstrap=True \n",
      "[CV]  n_estimators=157, max_features=sqrt, max_depth=14, bootstrap=True, total=   7.8s\n",
      "[CV] n_estimators=200, max_features=sqrt, max_depth=13, bootstrap=True \n",
      "[CV]  n_estimators=200, max_features=sqrt, max_depth=13, bootstrap=True, total=   8.9s\n",
      "[CV] n_estimators=200, max_features=sqrt, max_depth=13, bootstrap=True \n",
      "[CV]  n_estimators=200, max_features=sqrt, max_depth=13, bootstrap=True, total=   9.6s\n",
      "[CV] n_estimators=200, max_features=sqrt, max_depth=13, bootstrap=True \n",
      "[CV]  n_estimators=200, max_features=sqrt, max_depth=13, bootstrap=True, total=   9.9s\n",
      "[CV] n_estimators=200, max_features=sqrt, max_depth=13, bootstrap=True \n",
      "[CV]  n_estimators=200, max_features=sqrt, max_depth=13, bootstrap=True, total=   9.5s\n",
      "[CV] n_estimators=200, max_features=sqrt, max_depth=13, bootstrap=True \n",
      "[CV]  n_estimators=200, max_features=sqrt, max_depth=13, bootstrap=True, total=   9.5s\n",
      "[CV] n_estimators=157, max_features=sqrt, max_depth=8, bootstrap=True \n",
      "[CV]  n_estimators=157, max_features=sqrt, max_depth=8, bootstrap=True, total=   4.2s\n",
      "[CV] n_estimators=157, max_features=sqrt, max_depth=8, bootstrap=True \n",
      "[CV]  n_estimators=157, max_features=sqrt, max_depth=8, bootstrap=True, total=   4.0s\n",
      "[CV] n_estimators=157, max_features=sqrt, max_depth=8, bootstrap=True \n",
      "[CV]  n_estimators=157, max_features=sqrt, max_depth=8, bootstrap=True, total=   4.0s\n",
      "[CV] n_estimators=157, max_features=sqrt, max_depth=8, bootstrap=True \n",
      "[CV]  n_estimators=157, max_features=sqrt, max_depth=8, bootstrap=True, total=   4.2s\n",
      "[CV] n_estimators=157, max_features=sqrt, max_depth=8, bootstrap=True \n",
      "[CV]  n_estimators=157, max_features=sqrt, max_depth=8, bootstrap=True, total=   3.9s\n",
      "[CV] n_estimators=115, max_features=auto, max_depth=13, bootstrap=True \n",
      "[CV]  n_estimators=115, max_features=auto, max_depth=13, bootstrap=True, total=  47.0s\n",
      "[CV] n_estimators=115, max_features=auto, max_depth=13, bootstrap=True \n",
      "[CV]  n_estimators=115, max_features=auto, max_depth=13, bootstrap=True, total=  49.6s\n",
      "[CV] n_estimators=115, max_features=auto, max_depth=13, bootstrap=True \n",
      "[CV]  n_estimators=115, max_features=auto, max_depth=13, bootstrap=True, total=  47.3s\n",
      "[CV] n_estimators=115, max_features=auto, max_depth=13, bootstrap=True \n",
      "[CV]  n_estimators=115, max_features=auto, max_depth=13, bootstrap=True, total=  50.1s\n",
      "[CV] n_estimators=115, max_features=auto, max_depth=13, bootstrap=True \n",
      "[CV]  n_estimators=115, max_features=auto, max_depth=13, bootstrap=True, total=  48.5s\n"
     ]
    },
    {
     "name": "stderr",
     "output_type": "stream",
     "text": [
      "[Parallel(n_jobs=1)]: Done  25 out of  25 | elapsed: 12.9min finished\n"
     ]
    },
    {
     "name": "stdout",
     "output_type": "stream",
     "text": [
      "{'n_estimators': 200, 'max_features': 'sqrt', 'max_depth': 13, 'bootstrap': True}\n"
     ]
    }
   ],
   "source": [
    "n_estimators = [int(x) for x in np.linspace(start = 10, stop = 200, num = 19)]\n",
    "learning_rate = [x for x in np.linspace(start = 0.01, stop = 1, num = 19)]\n",
    "max_features = ['auto', 'sqrt']\n",
    "max_depth = [int(x) for x in np.linspace(1, 20, num = 19)]\n",
    "max_depth.append(None)\n",
    "bootstrap = [True, False]\n",
    "random_grid = {'n_estimators': n_estimators,\n",
    "               'max_features': max_features,\n",
    "               'max_depth': max_depth,\n",
    "               'bootstrap': bootstrap}\n",
    "\n",
    "rf = RandomForestRegressor()\n",
    "rf_random = RandomizedSearchCV(estimator = rf, param_distributions = random_grid, n_iter = 5, cv = 5, verbose=2, random_state=2)#\n",
    "rf_random.fit(X_train, y_train)\n",
    "print(rf_random.best_params_)\n",
    "best_random = rf_random.best_estimator_"
   ]
  },
  {
   "cell_type": "code",
   "execution_count": 94,
   "metadata": {},
   "outputs": [
    {
     "data": {
      "text/plain": [
       "0.7817200582335161"
      ]
     },
     "execution_count": 94,
     "metadata": {},
     "output_type": "execute_result"
    }
   ],
   "source": [
    "predictions = best_random.predict(X_test)\n",
    "#print(precision_recall_fscore_support(y_test, predictions, average='binary'))\n",
    "fpr, tpr, thresholds = metrics.roc_curve(y_test, predictions, pos_label=1)\n",
    "metrics.auc(fpr, tpr)"
   ]
  },
  {
   "cell_type": "code",
   "execution_count": 95,
   "metadata": {},
   "outputs": [
    {
     "data": {
      "text/plain": [
       "0.8370099976929171"
      ]
     },
     "execution_count": 95,
     "metadata": {},
     "output_type": "execute_result"
    }
   ],
   "source": [
    "predictions = best_random.predict(X_train)\n",
    "#print(precision_recall_fscore_support(y_train, predictions, average='binary'))\n",
    "fpr, tpr, thresholds = metrics.roc_curve(y_train, predictions, pos_label=1)\n",
    "metrics.auc(fpr, tpr)"
   ]
  },
  {
   "cell_type": "code",
   "execution_count": 14,
   "metadata": {},
   "outputs": [],
   "source": [
    "# only for high list\n",
    "high_aux_mat = aux_mat.drop(columns = aux_mat.columns.difference(high_miss_list))\n",
    "new_X = high_aux_mat\n",
    "pd.isnull(new_X).sum().sum()\n",
    "X_train, X_test ,y_train, y_test = train_test_split(new_X, y, test_size=0.2, random_state=1)\n"
   ]
  },
  {
   "cell_type": "code",
   "execution_count": 15,
   "metadata": {},
   "outputs": [
    {
     "name": "stdout",
     "output_type": "stream",
     "text": [
      "Fitting 5 folds for each of 5 candidates, totalling 25 fits\n",
      "[CV] n_estimators=157, max_features=auto, max_depth=12, bootstrap=False \n"
     ]
    },
    {
     "name": "stderr",
     "output_type": "stream",
     "text": [
      "[Parallel(n_jobs=1)]: Using backend SequentialBackend with 1 concurrent workers.\n"
     ]
    },
    {
     "name": "stdout",
     "output_type": "stream",
     "text": [
      "[CV]  n_estimators=157, max_features=auto, max_depth=12, bootstrap=False, total=  29.3s\n",
      "[CV] n_estimators=157, max_features=auto, max_depth=12, bootstrap=False \n"
     ]
    },
    {
     "name": "stderr",
     "output_type": "stream",
     "text": [
      "[Parallel(n_jobs=1)]: Done   1 out of   1 | elapsed:   29.3s remaining:    0.0s\n"
     ]
    },
    {
     "name": "stdout",
     "output_type": "stream",
     "text": [
      "[CV]  n_estimators=157, max_features=auto, max_depth=12, bootstrap=False, total=  29.5s\n",
      "[CV] n_estimators=157, max_features=auto, max_depth=12, bootstrap=False \n",
      "[CV]  n_estimators=157, max_features=auto, max_depth=12, bootstrap=False, total=  33.3s\n",
      "[CV] n_estimators=157, max_features=auto, max_depth=12, bootstrap=False \n",
      "[CV]  n_estimators=157, max_features=auto, max_depth=12, bootstrap=False, total=  28.6s\n",
      "[CV] n_estimators=157, max_features=auto, max_depth=12, bootstrap=False \n",
      "[CV]  n_estimators=157, max_features=auto, max_depth=12, bootstrap=False, total=  29.1s\n",
      "[CV] n_estimators=157, max_features=sqrt, max_depth=14, bootstrap=True \n",
      "[CV]  n_estimators=157, max_features=sqrt, max_depth=14, bootstrap=True, total=   4.5s\n",
      "[CV] n_estimators=157, max_features=sqrt, max_depth=14, bootstrap=True \n",
      "[CV]  n_estimators=157, max_features=sqrt, max_depth=14, bootstrap=True, total=   4.5s\n",
      "[CV] n_estimators=157, max_features=sqrt, max_depth=14, bootstrap=True \n",
      "[CV]  n_estimators=157, max_features=sqrt, max_depth=14, bootstrap=True, total=   4.6s\n",
      "[CV] n_estimators=157, max_features=sqrt, max_depth=14, bootstrap=True \n",
      "[CV]  n_estimators=157, max_features=sqrt, max_depth=14, bootstrap=True, total=   4.5s\n",
      "[CV] n_estimators=157, max_features=sqrt, max_depth=14, bootstrap=True \n",
      "[CV]  n_estimators=157, max_features=sqrt, max_depth=14, bootstrap=True, total=   4.5s\n",
      "[CV] n_estimators=200, max_features=sqrt, max_depth=13, bootstrap=True \n",
      "[CV]  n_estimators=200, max_features=sqrt, max_depth=13, bootstrap=True, total=   5.2s\n",
      "[CV] n_estimators=200, max_features=sqrt, max_depth=13, bootstrap=True \n",
      "[CV]  n_estimators=200, max_features=sqrt, max_depth=13, bootstrap=True, total=   5.2s\n",
      "[CV] n_estimators=200, max_features=sqrt, max_depth=13, bootstrap=True \n",
      "[CV]  n_estimators=200, max_features=sqrt, max_depth=13, bootstrap=True, total=   5.2s\n",
      "[CV] n_estimators=200, max_features=sqrt, max_depth=13, bootstrap=True \n",
      "[CV]  n_estimators=200, max_features=sqrt, max_depth=13, bootstrap=True, total=   5.2s\n",
      "[CV] n_estimators=200, max_features=sqrt, max_depth=13, bootstrap=True \n",
      "[CV]  n_estimators=200, max_features=sqrt, max_depth=13, bootstrap=True, total=   5.2s\n",
      "[CV] n_estimators=157, max_features=sqrt, max_depth=8, bootstrap=True \n",
      "[CV]  n_estimators=157, max_features=sqrt, max_depth=8, bootstrap=True, total=   2.6s\n",
      "[CV] n_estimators=157, max_features=sqrt, max_depth=8, bootstrap=True \n",
      "[CV]  n_estimators=157, max_features=sqrt, max_depth=8, bootstrap=True, total=   2.6s\n",
      "[CV] n_estimators=157, max_features=sqrt, max_depth=8, bootstrap=True \n",
      "[CV]  n_estimators=157, max_features=sqrt, max_depth=8, bootstrap=True, total=   3.6s\n",
      "[CV] n_estimators=157, max_features=sqrt, max_depth=8, bootstrap=True \n",
      "[CV]  n_estimators=157, max_features=sqrt, max_depth=8, bootstrap=True, total=   3.4s\n",
      "[CV] n_estimators=157, max_features=sqrt, max_depth=8, bootstrap=True \n",
      "[CV]  n_estimators=157, max_features=sqrt, max_depth=8, bootstrap=True, total=   3.5s\n",
      "[CV] n_estimators=115, max_features=auto, max_depth=13, bootstrap=True \n",
      "[CV]  n_estimators=115, max_features=auto, max_depth=13, bootstrap=True, total=  19.5s\n",
      "[CV] n_estimators=115, max_features=auto, max_depth=13, bootstrap=True \n",
      "[CV]  n_estimators=115, max_features=auto, max_depth=13, bootstrap=True, total=  15.1s\n",
      "[CV] n_estimators=115, max_features=auto, max_depth=13, bootstrap=True \n",
      "[CV]  n_estimators=115, max_features=auto, max_depth=13, bootstrap=True, total=  14.8s\n",
      "[CV] n_estimators=115, max_features=auto, max_depth=13, bootstrap=True \n",
      "[CV]  n_estimators=115, max_features=auto, max_depth=13, bootstrap=True, total=  16.3s\n",
      "[CV] n_estimators=115, max_features=auto, max_depth=13, bootstrap=True \n",
      "[CV]  n_estimators=115, max_features=auto, max_depth=13, bootstrap=True, total=  19.1s\n"
     ]
    },
    {
     "name": "stderr",
     "output_type": "stream",
     "text": [
      "[Parallel(n_jobs=1)]: Done  25 out of  25 | elapsed:  5.0min finished\n"
     ]
    },
    {
     "name": "stdout",
     "output_type": "stream",
     "text": [
      "{'n_estimators': 157, 'max_features': 'sqrt', 'max_depth': 8, 'bootstrap': True}\n"
     ]
    }
   ],
   "source": [
    "n_estimators = [int(x) for x in np.linspace(start = 10, stop = 200, num = 19)]\n",
    "learning_rate = [x for x in np.linspace(start = 0.01, stop = 1, num = 19)]\n",
    "max_features = ['auto', 'sqrt']\n",
    "max_depth = [int(x) for x in np.linspace(1, 20, num = 19)]\n",
    "max_depth.append(None)\n",
    "bootstrap = [True, False]\n",
    "random_grid = {'n_estimators': n_estimators,\n",
    "               'max_features': max_features,\n",
    "               'max_depth': max_depth,\n",
    "               'bootstrap': bootstrap}\n",
    "\n",
    "rf = RandomForestRegressor()\n",
    "rf_random = RandomizedSearchCV(estimator = rf, param_distributions = random_grid, n_iter = 5, cv = 5, verbose=2, random_state=2)#\n",
    "rf_random.fit(X_train, y_train)\n",
    "print(rf_random.best_params_)\n",
    "best_random = rf_random.best_estimator_"
   ]
  },
  {
   "cell_type": "code",
   "execution_count": 16,
   "metadata": {},
   "outputs": [
    {
     "data": {
      "text/plain": [
       "0.7649436334893122"
      ]
     },
     "execution_count": 16,
     "metadata": {},
     "output_type": "execute_result"
    }
   ],
   "source": [
    "predictions = best_random.predict(X_test)\n",
    "#print(precision_recall_fscore_support(y_test, predictions, average='binary'))\n",
    "fpr, tpr, thresholds = metrics.roc_curve(y_test, predictions, pos_label=1)\n",
    "metrics.auc(fpr, tpr)"
   ]
  },
  {
   "cell_type": "code",
   "execution_count": 17,
   "metadata": {},
   "outputs": [
    {
     "data": {
      "text/plain": [
       "0.7651425473016675"
      ]
     },
     "execution_count": 17,
     "metadata": {},
     "output_type": "execute_result"
    }
   ],
   "source": [
    "predictions = best_random.predict(X_train)\n",
    "#print(precision_recall_fscore_support(y_train, predictions, average='binary'))\n",
    "fpr, tpr, thresholds = metrics.roc_curve(y_train, predictions, pos_label=1)\n",
    "metrics.auc(fpr, tpr)"
   ]
  },
  {
   "cell_type": "markdown",
   "metadata": {},
   "source": [
    "Using only high missing variables still got a fairly good auc and has small bias."
   ]
  },
  {
   "cell_type": "markdown",
   "metadata": {},
   "source": [
    "### KNNimputer"
   ]
  },
  {
   "cell_type": "code",
   "execution_count": 30,
   "metadata": {},
   "outputs": [
    {
     "data": {
      "text/plain": [
       "0"
      ]
     },
     "execution_count": 30,
     "metadata": {},
     "output_type": "execute_result"
    }
   ],
   "source": [
    "new_X = pd.read_csv('Data/knnimpute.csv')\n",
    "#new_X = pd.concat([new_data, categorical], axis=1, sort=False)\n",
    "\n",
    "#print(\"X\",X.shape)\n",
    "pd.isnull(new_X).sum().sum()"
   ]
  },
  {
   "cell_type": "code",
   "execution_count": 31,
   "metadata": {},
   "outputs": [],
   "source": [
    "X_train, X_test ,y_train, y_test = train_test_split(new_X, y, test_size=0.2, random_state=1)\n"
   ]
  },
  {
   "cell_type": "code",
   "execution_count": 32,
   "metadata": {},
   "outputs": [
    {
     "name": "stdout",
     "output_type": "stream",
     "text": [
      "Fitting 5 folds for each of 5 candidates, totalling 25 fits\n"
     ]
    },
    {
     "name": "stderr",
     "output_type": "stream",
     "text": [
      "[Parallel(n_jobs=-1)]: Using backend LokyBackend with 8 concurrent workers.\n",
      "[Parallel(n_jobs=-1)]: Done  23 out of  25 | elapsed: 41.8min remaining:  3.6min\n",
      "[Parallel(n_jobs=-1)]: Done  25 out of  25 | elapsed: 42.2min finished\n"
     ]
    },
    {
     "name": "stdout",
     "output_type": "stream",
     "text": [
      "{'n_estimators': 105, 'max_features': 'sqrt', 'max_depth': 10, 'bootstrap': False}\n"
     ]
    }
   ],
   "source": [
    "n_estimators = [int(x) for x in np.linspace(start = 10, stop = 200, num = 19)]\n",
    "learning_rate = [x for x in np.linspace(start = 0.01, stop = 1, num = 19)]\n",
    "max_features = ['auto', 'sqrt']\n",
    "max_depth = [int(x) for x in np.linspace(1, 20, num = 19)]\n",
    "max_depth.append(None)\n",
    "bootstrap = [True, False]\n",
    "random_grid = {'n_estimators': n_estimators,\n",
    "               'max_features': max_features,\n",
    "               'max_depth': max_depth,\n",
    "               'bootstrap': bootstrap}\n",
    "\n",
    "rf = RandomForestRegressor()\n",
    "rf_random = RandomizedSearchCV(estimator = rf, param_distributions = random_grid, n_iter = 5, cv = 5, verbose=2, random_state=42, n_jobs = -1)\n",
    "rf_random.fit(X_train, y_train)\n",
    "print(rf_random.best_params_)\n",
    "best_random = rf_random.best_estimator_"
   ]
  },
  {
   "cell_type": "code",
   "execution_count": 33,
   "metadata": {},
   "outputs": [
    {
     "data": {
      "text/plain": [
       "0.8839563253116792"
      ]
     },
     "execution_count": 33,
     "metadata": {},
     "output_type": "execute_result"
    }
   ],
   "source": [
    "predictions = best_random.predict(X_test)\n",
    "#print(precision_recall_fscore_support(y_train, predictions, average='binary'))\n",
    "fpr, tpr, thresholds = metrics.roc_curve(y_test, predictions, pos_label=1)\n",
    "metrics.auc(fpr, tpr)"
   ]
  },
  {
   "cell_type": "code",
   "execution_count": 34,
   "metadata": {},
   "outputs": [
    {
     "data": {
      "text/plain": [
       "0.9316433729095213"
      ]
     },
     "execution_count": 34,
     "metadata": {},
     "output_type": "execute_result"
    }
   ],
   "source": [
    "predictions = best_random.predict(X_train)\n",
    "#print(precision_recall_fscore_support(y_train, predictions, average='binary'))\n",
    "fpr, tpr, thresholds = metrics.roc_curve(y_train, predictions, pos_label=1)\n",
    "metrics.auc(fpr, tpr)"
   ]
  },
  {
   "cell_type": "markdown",
   "metadata": {
    "scrolled": true
   },
   "source": [
    "## Feature importance"
   ]
  },
  {
   "cell_type": "code",
   "execution_count": null,
   "metadata": {},
   "outputs": [],
   "source": [
    "# select the best imputer and combine with high indicators\n"
   ]
  },
  {
   "cell_type": "code",
   "execution_count": 36,
   "metadata": {},
   "outputs": [
    {
     "data": {
      "text/plain": [
       "0"
      ]
     },
     "execution_count": 36,
     "metadata": {},
     "output_type": "execute_result"
    }
   ],
   "source": [
    "# simple imputation\n",
    "categorical = pd.get_dummies(X[categories], dummy_na=True)\n",
    "continuous = X.drop(columns=categories)\n",
    "\n",
    "imp = SimpleImputer(strategy = 'mean')\n",
    "new_data = pd.DataFrame(imp.fit_transform(continuous))\n",
    "new_data.columns = continuous.columns\n",
    "\n",
    "high_aux_mat = aux_mat.drop(columns = aux_mat.columns.difference(high_miss_list))\n",
    "high_aux_mat.columns = [\"I_\" + s for s in high_aux_mat.columns]\n",
    "\n",
    "new_X = pd.concat([new_data, categorical, high_aux_mat], axis=1, sort=False)\n",
    "\n",
    "#print(\"X\",X.shape)\n",
    "pd.isnull(new_X).sum().sum()"
   ]
  },
  {
   "cell_type": "code",
   "execution_count": 82,
   "metadata": {},
   "outputs": [
    {
     "name": "stdout",
     "output_type": "stream",
     "text": [
      "top10 missing variables: \n",
      "d1_heartrate_max    145\n",
      "d1_heartrate_min    145\n",
      "d1_sysbp_max        159\n",
      "d1_sysbp_min        159\n",
      "d1_diasbp_max       165\n",
      "d1_diasbp_min       165\n",
      "d1_mbp_min          220\n",
      "d1_mbp_max          220\n",
      "d1_spo2_max         333\n",
      "d1_spo2_min         333\n",
      "dtype: int64\n",
      "bottom10 missing variables: \n",
      "h1_hco3_min             76094\n",
      "h1_arterial_ph_min      76424\n",
      "h1_arterial_ph_max      76424\n",
      "h1_pao2fio2ratio_max    80195\n",
      "h1_pao2fio2ratio_min    80195\n",
      "h1_albumin_min          83824\n",
      "h1_albumin_max          83824\n",
      "h1_lactate_max          84369\n",
      "h1_lactate_min          84369\n",
      "h1_bilirubin_min        84619\n",
      "dtype: int64\n",
      "Index(['urineoutput_apache', 'd1_albumin_max', 'd1_albumin_min',\n",
      "       'h1_glucose_min', 'h1_glucose_max', 'd1_bilirubin_max',\n",
      "       'd1_bilirubin_min', 'albumin_apache', 'h1_inr_max', 'h1_inr_min',\n",
      "       'd1_inr_max', 'd1_inr_min', 'bilirubin_apache', 'd1_arterial_po2_max',\n",
      "       'd1_arterial_po2_min', 'd1_arterial_pco2_max', 'd1_arterial_pco2_min',\n",
      "       'd1_arterial_ph_max', 'd1_arterial_ph_min', 'd1_pao2fio2ratio_max',\n",
      "       'd1_pao2fio2ratio_min', 'd1_mbp_invasive_min', 'd1_mbp_invasive_max',\n",
      "       'd1_sysbp_invasive_max', 'd1_sysbp_invasive_min',\n",
      "       'd1_diasbp_invasive_max', 'd1_diasbp_invasive_min', 'd1_lactate_min',\n",
      "       'd1_lactate_max', 'fio2_apache', 'paco2_apache', 'paco2_for_ph_apache',\n",
      "       'ph_apache', 'pao2_apache', 'h1_potassium_min', 'h1_potassium_max',\n",
      "       'h1_sodium_min', 'h1_sodium_max', 'h1_hemaglobin_max',\n",
      "       'h1_hemaglobin_min', 'h1_hematocrit_min', 'h1_hematocrit_max',\n",
      "       'h1_mbp_invasive_min', 'h1_mbp_invasive_max', 'h1_sysbp_invasive_min',\n",
      "       'h1_sysbp_invasive_max', 'h1_diasbp_invasive_min',\n",
      "       'h1_diasbp_invasive_max', 'h1_creatinine_min', 'h1_creatinine_max',\n",
      "       'h1_bun_max', 'h1_bun_min', 'h1_platelets_max', 'h1_platelets_min',\n",
      "       'h1_calcium_min', 'h1_calcium_max', 'h1_arterial_po2_max',\n",
      "       'h1_arterial_po2_min', 'h1_wbc_min', 'h1_wbc_max',\n",
      "       'h1_arterial_pco2_max', 'h1_arterial_pco2_min', 'h1_hco3_max',\n",
      "       'h1_hco3_min', 'h1_arterial_ph_min', 'h1_arterial_ph_max',\n",
      "       'h1_pao2fio2ratio_max', 'h1_pao2fio2ratio_min', 'h1_albumin_min',\n",
      "       'h1_albumin_max', 'h1_lactate_max', 'h1_lactate_min',\n",
      "       'h1_bilirubin_min', 'h1_bilirubin_max'],\n",
      "      dtype='object')\n"
     ]
    }
   ],
   "source": [
    "# get the high and low missing values\n",
    "# auxillary matrix\n",
    "aux_mat= pd.isnull(continuous)\n",
    "a = aux_mat.sum(axis = 0, skipna = True)\n",
    "a = a.sort_values()\n",
    "print(\"top10 missing variables: \")\n",
    "# remove non-missing variables\n",
    "a = a[a!=0]\n",
    "print( a[0:10])\n",
    "print(\"bottom10 missing variables: \")\n",
    "print( a[len(a)-11:len(a)-1])\n",
    "cutting_thres = 0.5\n",
    "high_miss_list = a[a>aux_mat.shape[0]*cutting_thres].index\n",
    "print(high_miss_list)"
   ]
  },
  {
   "cell_type": "code",
   "execution_count": 37,
   "metadata": {},
   "outputs": [],
   "source": [
    "X_train, X_test ,y_train, y_test = train_test_split(new_X, y, test_size=0.2, random_state=1)\n"
   ]
  },
  {
   "cell_type": "markdown",
   "metadata": {},
   "source": [
    "### Random forest"
   ]
  },
  {
   "cell_type": "code",
   "execution_count": 84,
   "metadata": {},
   "outputs": [
    {
     "name": "stdout",
     "output_type": "stream",
     "text": [
      "Fitting 5 folds for each of 5 candidates, totalling 25 fits\n"
     ]
    },
    {
     "name": "stderr",
     "output_type": "stream",
     "text": [
      "[Parallel(n_jobs=-1)]: Using backend LokyBackend with 8 concurrent workers.\n",
      "[Parallel(n_jobs=-1)]: Done  23 out of  25 | elapsed: 49.0min remaining:  4.3min\n",
      "[Parallel(n_jobs=-1)]: Done  25 out of  25 | elapsed: 49.2min finished\n"
     ]
    },
    {
     "name": "stdout",
     "output_type": "stream",
     "text": [
      "{'n_estimators': 105, 'max_features': 'sqrt', 'max_depth': 10, 'bootstrap': False}\n"
     ]
    }
   ],
   "source": [
    "n_estimators = [int(x) for x in np.linspace(start = 10, stop = 200, num = 19)]\n",
    "learning_rate = [x for x in np.linspace(start = 0.01, stop = 1, num = 19)]\n",
    "max_features = ['auto', 'sqrt']\n",
    "max_depth = [int(x) for x in np.linspace(1, 20, num = 19)]\n",
    "max_depth.append(None)\n",
    "bootstrap = [True, False]\n",
    "random_grid = {'n_estimators': n_estimators,\n",
    "               'max_features': max_features,\n",
    "               'max_depth': max_depth,\n",
    "               'bootstrap': bootstrap}\n",
    "\n",
    "rf = RandomForestRegressor()\n",
    "rf_random = RandomizedSearchCV(estimator = rf, param_distributions = random_grid, n_iter = 5, cv = 5, verbose=2, random_state=42, n_jobs = -1)\n",
    "rf_random.fit(X_train, y_train)\n",
    "print(rf_random.best_params_)\n",
    "best_random = rf_random.best_estimator_"
   ]
  },
  {
   "cell_type": "code",
   "execution_count": 85,
   "metadata": {},
   "outputs": [
    {
     "data": {
      "text/plain": [
       "0.8859220841418517"
      ]
     },
     "execution_count": 85,
     "metadata": {},
     "output_type": "execute_result"
    }
   ],
   "source": [
    "predictions = best_random.predict(X_test)\n",
    "#print(precision_recall_fscore_support(y_test, predictions, average='binary'))\n",
    "fpr, tpr, thresholds = metrics.roc_curve(y_test, predictions, pos_label=1)\n",
    "metrics.auc(fpr, tpr)"
   ]
  },
  {
   "cell_type": "code",
   "execution_count": 86,
   "metadata": {},
   "outputs": [
    {
     "data": {
      "text/plain": [
       "0.9297800238836051"
      ]
     },
     "execution_count": 86,
     "metadata": {},
     "output_type": "execute_result"
    }
   ],
   "source": [
    "predictions = best_random.predict(X_train)\n",
    "#print(precision_recall_fscore_support(y_train, predictions, average='binary'))\n",
    "fpr, tpr, thresholds = metrics.roc_curve(y_train, predictions, pos_label=1)\n",
    "metrics.auc(fpr, tpr)"
   ]
  },
  {
   "cell_type": "code",
   "execution_count": 87,
   "metadata": {},
   "outputs": [
    {
     "data": {
      "text/html": [
       "<div>\n",
       "<style scoped>\n",
       "    .dataframe tbody tr th:only-of-type {\n",
       "        vertical-align: middle;\n",
       "    }\n",
       "\n",
       "    .dataframe tbody tr th {\n",
       "        vertical-align: top;\n",
       "    }\n",
       "\n",
       "    .dataframe thead th {\n",
       "        text-align: right;\n",
       "    }\n",
       "</style>\n",
       "<table border=\"1\" class=\"dataframe\">\n",
       "  <thead>\n",
       "    <tr style=\"text-align: right;\">\n",
       "      <th></th>\n",
       "      <th>importance</th>\n",
       "    </tr>\n",
       "  </thead>\n",
       "  <tbody>\n",
       "    <tr>\n",
       "      <th>apache_4a_icu_death_prob</th>\n",
       "      <td>0.124882</td>\n",
       "    </tr>\n",
       "    <tr>\n",
       "      <th>apache_4a_hospital_death_prob</th>\n",
       "      <td>0.098725</td>\n",
       "    </tr>\n",
       "    <tr>\n",
       "      <th>d1_lactate_min</th>\n",
       "      <td>0.049879</td>\n",
       "    </tr>\n",
       "    <tr>\n",
       "      <th>d1_lactate_max</th>\n",
       "      <td>0.031210</td>\n",
       "    </tr>\n",
       "    <tr>\n",
       "      <th>d1_sysbp_min</th>\n",
       "      <td>0.029045</td>\n",
       "    </tr>\n",
       "    <tr>\n",
       "      <th>gcs_motor_apache</th>\n",
       "      <td>0.026301</td>\n",
       "    </tr>\n",
       "    <tr>\n",
       "      <th>d1_arterial_ph_min</th>\n",
       "      <td>0.022069</td>\n",
       "    </tr>\n",
       "    <tr>\n",
       "      <th>d1_temp_min</th>\n",
       "      <td>0.019710</td>\n",
       "    </tr>\n",
       "    <tr>\n",
       "      <th>d1_spo2_min</th>\n",
       "      <td>0.019645</td>\n",
       "    </tr>\n",
       "    <tr>\n",
       "      <th>d1_sysbp_noninvasive_min</th>\n",
       "      <td>0.019248</td>\n",
       "    </tr>\n",
       "    <tr>\n",
       "      <th>gcs_eyes_apache</th>\n",
       "      <td>0.018474</td>\n",
       "    </tr>\n",
       "    <tr>\n",
       "      <th>gcs_verbal_apache</th>\n",
       "      <td>0.016077</td>\n",
       "    </tr>\n",
       "    <tr>\n",
       "      <th>d1_heartrate_min</th>\n",
       "      <td>0.015198</td>\n",
       "    </tr>\n",
       "    <tr>\n",
       "      <th>ventilated_apache</th>\n",
       "      <td>0.014953</td>\n",
       "    </tr>\n",
       "    <tr>\n",
       "      <th>ph_apache</th>\n",
       "      <td>0.012001</td>\n",
       "    </tr>\n",
       "  </tbody>\n",
       "</table>\n",
       "</div>"
      ],
      "text/plain": [
       "                               importance\n",
       "apache_4a_icu_death_prob         0.124882\n",
       "apache_4a_hospital_death_prob    0.098725\n",
       "d1_lactate_min                   0.049879\n",
       "d1_lactate_max                   0.031210\n",
       "d1_sysbp_min                     0.029045\n",
       "gcs_motor_apache                 0.026301\n",
       "d1_arterial_ph_min               0.022069\n",
       "d1_temp_min                      0.019710\n",
       "d1_spo2_min                      0.019645\n",
       "d1_sysbp_noninvasive_min         0.019248\n",
       "gcs_eyes_apache                  0.018474\n",
       "gcs_verbal_apache                0.016077\n",
       "d1_heartrate_min                 0.015198\n",
       "ventilated_apache                0.014953\n",
       "ph_apache                        0.012001"
      ]
     },
     "execution_count": 87,
     "metadata": {},
     "output_type": "execute_result"
    }
   ],
   "source": [
    "importances = best_random.feature_importances_\n",
    "feats = {} # a dict to hold feature_name: feature_importance\n",
    "for feature, importance in zip(X_train.columns, importances):\n",
    "    feats[feature] = importance #add the name/value pair \n",
    "importances = pd.DataFrame.from_dict(feats, orient='index').rename(columns={0: 'importance'})\n",
    "\n",
    "importances = importances.sort_values(by='importance',ascending= False)\n",
    "importances[0:15]"
   ]
  },
  {
   "cell_type": "code",
   "execution_count": 112,
   "metadata": {},
   "outputs": [
    {
     "data": {
      "text/plain": [
       "-0.002717490071351314"
      ]
     },
     "execution_count": 112,
     "metadata": {},
     "output_type": "execute_result"
    }
   ],
   "source": [
    "high_aux_mat.columns\n",
    "non_high = [i[2:len(i)] for i in high_aux_mat.columns]\n",
    "high_i = [X_train.columns.get_loc(i) for i in high_aux_mat.columns]\n",
    "non_high_i = [X_train.columns.get_loc(i) for i in non_high]\n",
    "high_f = best_random.feature_importances_[high_i]\n",
    "non_high_f =  best_random.feature_importances_[non_high_i]\n",
    "diff = high_f - non_high_f\n",
    "np.mean(diff)"
   ]
  },
  {
   "cell_type": "code",
   "execution_count": null,
   "metadata": {},
   "outputs": [],
   "source": []
  },
  {
   "cell_type": "markdown",
   "metadata": {},
   "source": [
    "### LASSO"
   ]
  },
  {
   "cell_type": "code",
   "execution_count": null,
   "metadata": {},
   "outputs": [],
   "source": []
  },
  {
   "cell_type": "code",
   "execution_count": null,
   "metadata": {},
   "outputs": [],
   "source": []
  },
  {
   "cell_type": "code",
   "execution_count": null,
   "metadata": {},
   "outputs": [],
   "source": []
  },
  {
   "cell_type": "markdown",
   "metadata": {},
   "source": [
    "### Logistic regression\n"
   ]
  },
  {
   "cell_type": "code",
   "execution_count": 108,
   "metadata": {},
   "outputs": [
    {
     "name": "stderr",
     "output_type": "stream",
     "text": [
      "/Users/yuyan/miniconda3/lib/python3.7/site-packages/sklearn/linear_model/_logistic.py:940: ConvergenceWarning:\n",
      "\n",
      "lbfgs failed to converge (status=1):\n",
      "STOP: TOTAL NO. of ITERATIONS REACHED LIMIT.\n",
      "\n",
      "Increase the number of iterations (max_iter) or scale the data as shown in:\n",
      "    https://scikit-learn.org/stable/modules/preprocessing.html\n",
      "Please also refer to the documentation for alternative solver options:\n",
      "    https://scikit-learn.org/stable/modules/linear_model.html#logistic-regression\n",
      "\n"
     ]
    },
    {
     "name": "stdout",
     "output_type": "stream",
     "text": [
      "(0.6201232032854209, 0.18910457107075768, 0.28982725527831094, None)\n"
     ]
    },
    {
     "data": {
      "text/plain": [
       "0.5890285783814316"
      ]
     },
     "execution_count": 108,
     "metadata": {},
     "output_type": "execute_result"
    }
   ],
   "source": [
    "clf = LogisticRegression(random_state=0).fit(X_train, y_train)\n",
    "predictions = clf.predict(X_test)\n",
    "print(precision_recall_fscore_support(y_test, predictions, average='binary'))\n",
    "fpr, tpr, thresholds = metrics.roc_curve(y_test, predictions, pos_label=1)\n",
    "metrics.auc(fpr, tpr)"
   ]
  },
  {
   "cell_type": "code",
   "execution_count": 109,
   "metadata": {},
   "outputs": [
    {
     "name": "stdout",
     "output_type": "stream",
     "text": [
      "(0.6258992805755396, 0.17901234567901234, 0.2784, None)\n"
     ]
    },
    {
     "data": {
      "text/plain": [
       "0.5844653090323118"
      ]
     },
     "execution_count": 109,
     "metadata": {},
     "output_type": "execute_result"
    }
   ],
   "source": [
    "predictions = clf.predict(X_train)\n",
    "print(precision_recall_fscore_support(y_train, predictions, average='binary'))\n",
    "fpr, tpr, thresholds = metrics.roc_curve(y_train, predictions, pos_label=1)\n",
    "metrics.auc(fpr, tpr)"
   ]
  },
  {
   "cell_type": "code",
   "execution_count": 110,
   "metadata": {},
   "outputs": [],
   "source": [
    "feats = {} # a dict to hold feature_name: feature_importance\n",
    "for feature, co_ef in zip(X_train.columns, clf.coef_[0]):\n",
    "    feats[feature] = co_ef \n",
    "\n",
    "co_efs = pd.DataFrame.from_dict(feats, orient='index').rename(columns={0: 'co_ef'})\n",
    "co_efs = co_efs.sort_values(by='co_ef',ascending= False)\n"
   ]
  },
  {
   "cell_type": "code",
   "execution_count": 111,
   "metadata": {},
   "outputs": [
    {
     "data": {
      "text/plain": [
       "-0.0009058737415662931"
      ]
     },
     "execution_count": 111,
     "metadata": {},
     "output_type": "execute_result"
    }
   ],
   "source": [
    "high_aux_mat.columns\n",
    "non_high = [i[2:len(i)] for i in high_aux_mat.columns]\n",
    "high_i = [X_train.columns.get_loc(i) for i in high_aux_mat.columns]\n",
    "non_high_i = [X_train.columns.get_loc(i) for i in non_high]\n",
    "high_f = np.array([float(i) for i in clf.coef_[0][high_i]])\n",
    "non_high_f = np.array([float(i) for i in clf.coef_[0][non_high_i]])\n",
    "diff = high_f - non_high_f\n",
    "np.mean(diff)"
   ]
  },
  {
   "cell_type": "code",
   "execution_count": null,
   "metadata": {},
   "outputs": [],
   "source": []
  },
  {
   "cell_type": "code",
   "execution_count": null,
   "metadata": {},
   "outputs": [],
   "source": []
  },
  {
   "cell_type": "code",
   "execution_count": null,
   "metadata": {},
   "outputs": [],
   "source": []
  },
  {
   "cell_type": "code",
   "execution_count": null,
   "metadata": {},
   "outputs": [],
   "source": []
  },
  {
   "cell_type": "code",
   "execution_count": null,
   "metadata": {},
   "outputs": [],
   "source": []
  },
  {
   "cell_type": "code",
   "execution_count": null,
   "metadata": {},
   "outputs": [],
   "source": []
  },
  {
   "cell_type": "code",
   "execution_count": null,
   "metadata": {},
   "outputs": [],
   "source": []
  },
  {
   "cell_type": "code",
   "execution_count": null,
   "metadata": {},
   "outputs": [],
   "source": []
  },
  {
   "cell_type": "markdown",
   "metadata": {},
   "source": [
    "### Boosting methods\n",
    "Yu"
   ]
  },
  {
   "cell_type": "code",
   "execution_count": 35,
   "metadata": {},
   "outputs": [
    {
     "name": "stdout",
     "output_type": "stream",
     "text": [
      "(0.6963064295485636, 0.3187226048841578, 0.43728522336769765, None)\n"
     ]
    },
    {
     "data": {
      "text/plain": [
       "0.6527328538573423"
      ]
     },
     "execution_count": 35,
     "metadata": {},
     "output_type": "execute_result"
    }
   ],
   "source": [
    "GBC = GradientBoostingClassifier(random_state = 1)\n",
    "GBC.fit(X_train, y_train)\n",
    "predictions = GBC.predict(X_test)\n",
    "print(precision_recall_fscore_support(y_test, predictions, average='binary'))\n",
    "fpr, tpr, thresholds = metrics.roc_curve(y_test, predictions, pos_label=1)\n",
    "metrics.auc(fpr, tpr)"
   ]
  },
  {
   "cell_type": "code",
   "execution_count": null,
   "metadata": {},
   "outputs": [],
   "source": []
  },
  {
   "cell_type": "code",
   "execution_count": 114,
   "metadata": {},
   "outputs": [
    {
     "ename": "ValueError",
     "evalue": "The estimator RandomForestRegressor should be a classifier.",
     "output_type": "error",
     "traceback": [
      "\u001b[0;31m---------------------------------------------------------------------------\u001b[0m",
      "\u001b[0;31mValueError\u001b[0m                                Traceback (most recent call last)",
      "\u001b[0;32m<ipython-input-114-732ff8754092>\u001b[0m in \u001b[0;36m<module>\u001b[0;34m\u001b[0m\n\u001b[1;32m      1\u001b[0m \u001b[0mvotingC\u001b[0m \u001b[0;34m=\u001b[0m \u001b[0mVotingClassifier\u001b[0m\u001b[0;34m(\u001b[0m\u001b[0mestimators\u001b[0m\u001b[0;34m=\u001b[0m\u001b[0;34m[\u001b[0m\u001b[0;34m(\u001b[0m\u001b[0;34m'rfc'\u001b[0m\u001b[0;34m,\u001b[0m \u001b[0mrf\u001b[0m\u001b[0;34m)\u001b[0m\u001b[0;34m,\u001b[0m\u001b[0;34m(\u001b[0m\u001b[0;34m'gbc'\u001b[0m\u001b[0;34m,\u001b[0m\u001b[0mGBC\u001b[0m\u001b[0;34m)\u001b[0m\u001b[0;34m]\u001b[0m\u001b[0;34m,\u001b[0m \u001b[0mvoting\u001b[0m\u001b[0;34m=\u001b[0m\u001b[0;34m'soft'\u001b[0m\u001b[0;34m)\u001b[0m\u001b[0;34m\u001b[0m\u001b[0;34m\u001b[0m\u001b[0m\n\u001b[0;32m----> 2\u001b[0;31m \u001b[0mvotingC\u001b[0m \u001b[0;34m=\u001b[0m \u001b[0mvotingC\u001b[0m\u001b[0;34m.\u001b[0m\u001b[0mfit\u001b[0m\u001b[0;34m(\u001b[0m\u001b[0mX_train\u001b[0m\u001b[0;34m,\u001b[0m \u001b[0my_train\u001b[0m\u001b[0;34m)\u001b[0m\u001b[0;34m\u001b[0m\u001b[0;34m\u001b[0m\u001b[0m\n\u001b[0m\u001b[1;32m      3\u001b[0m \u001b[0mpredictions\u001b[0m \u001b[0;34m=\u001b[0m \u001b[0mvotingC\u001b[0m\u001b[0;34m.\u001b[0m\u001b[0mpredict\u001b[0m\u001b[0;34m(\u001b[0m\u001b[0mX_test\u001b[0m\u001b[0;34m)\u001b[0m\u001b[0;34m\u001b[0m\u001b[0;34m\u001b[0m\u001b[0m\n\u001b[1;32m      4\u001b[0m \u001b[0mprint\u001b[0m\u001b[0;34m(\u001b[0m\u001b[0mprecision_recall_fscore_support\u001b[0m\u001b[0;34m(\u001b[0m\u001b[0my_test\u001b[0m\u001b[0;34m,\u001b[0m \u001b[0mpredictions\u001b[0m\u001b[0;34m,\u001b[0m \u001b[0maverage\u001b[0m\u001b[0;34m=\u001b[0m\u001b[0;34m'binary'\u001b[0m\u001b[0;34m)\u001b[0m\u001b[0;34m)\u001b[0m\u001b[0;34m\u001b[0m\u001b[0;34m\u001b[0m\u001b[0m\n\u001b[1;32m      5\u001b[0m \u001b[0mfpr\u001b[0m\u001b[0;34m,\u001b[0m \u001b[0mtpr\u001b[0m\u001b[0;34m,\u001b[0m \u001b[0mthresholds\u001b[0m \u001b[0;34m=\u001b[0m \u001b[0mmetrics\u001b[0m\u001b[0;34m.\u001b[0m\u001b[0mroc_curve\u001b[0m\u001b[0;34m(\u001b[0m\u001b[0my_test\u001b[0m\u001b[0;34m,\u001b[0m \u001b[0mpredictions\u001b[0m\u001b[0;34m,\u001b[0m \u001b[0mpos_label\u001b[0m\u001b[0;34m=\u001b[0m\u001b[0;36m1\u001b[0m\u001b[0;34m)\u001b[0m\u001b[0;34m\u001b[0m\u001b[0;34m\u001b[0m\u001b[0m\n",
      "\u001b[0;32m~/miniconda3/lib/python3.7/site-packages/sklearn/ensemble/_voting.py\u001b[0m in \u001b[0;36mfit\u001b[0;34m(self, X, y, sample_weight)\u001b[0m\n\u001b[1;32m    220\u001b[0m         \u001b[0mtransformed_y\u001b[0m \u001b[0;34m=\u001b[0m \u001b[0mself\u001b[0m\u001b[0;34m.\u001b[0m\u001b[0mle_\u001b[0m\u001b[0;34m.\u001b[0m\u001b[0mtransform\u001b[0m\u001b[0;34m(\u001b[0m\u001b[0my\u001b[0m\u001b[0;34m)\u001b[0m\u001b[0;34m\u001b[0m\u001b[0;34m\u001b[0m\u001b[0m\n\u001b[1;32m    221\u001b[0m \u001b[0;34m\u001b[0m\u001b[0m\n\u001b[0;32m--> 222\u001b[0;31m         \u001b[0;32mreturn\u001b[0m \u001b[0msuper\u001b[0m\u001b[0;34m(\u001b[0m\u001b[0;34m)\u001b[0m\u001b[0;34m.\u001b[0m\u001b[0mfit\u001b[0m\u001b[0;34m(\u001b[0m\u001b[0mX\u001b[0m\u001b[0;34m,\u001b[0m \u001b[0mtransformed_y\u001b[0m\u001b[0;34m,\u001b[0m \u001b[0msample_weight\u001b[0m\u001b[0;34m)\u001b[0m\u001b[0;34m\u001b[0m\u001b[0;34m\u001b[0m\u001b[0m\n\u001b[0m\u001b[1;32m    223\u001b[0m \u001b[0;34m\u001b[0m\u001b[0m\n\u001b[1;32m    224\u001b[0m     \u001b[0;32mdef\u001b[0m \u001b[0mpredict\u001b[0m\u001b[0;34m(\u001b[0m\u001b[0mself\u001b[0m\u001b[0;34m,\u001b[0m \u001b[0mX\u001b[0m\u001b[0;34m)\u001b[0m\u001b[0;34m:\u001b[0m\u001b[0;34m\u001b[0m\u001b[0;34m\u001b[0m\u001b[0m\n",
      "\u001b[0;32m~/miniconda3/lib/python3.7/site-packages/sklearn/ensemble/_voting.py\u001b[0m in \u001b[0;36mfit\u001b[0;34m(self, X, y, sample_weight)\u001b[0m\n\u001b[1;32m     55\u001b[0m     \u001b[0;32mdef\u001b[0m \u001b[0mfit\u001b[0m\u001b[0;34m(\u001b[0m\u001b[0mself\u001b[0m\u001b[0;34m,\u001b[0m \u001b[0mX\u001b[0m\u001b[0;34m,\u001b[0m \u001b[0my\u001b[0m\u001b[0;34m,\u001b[0m \u001b[0msample_weight\u001b[0m\u001b[0;34m=\u001b[0m\u001b[0;32mNone\u001b[0m\u001b[0;34m)\u001b[0m\u001b[0;34m:\u001b[0m\u001b[0;34m\u001b[0m\u001b[0;34m\u001b[0m\u001b[0m\n\u001b[1;32m     56\u001b[0m         \u001b[0;34m\"\"\"Get common fit operations.\"\"\"\u001b[0m\u001b[0;34m\u001b[0m\u001b[0;34m\u001b[0m\u001b[0m\n\u001b[0;32m---> 57\u001b[0;31m         \u001b[0mnames\u001b[0m\u001b[0;34m,\u001b[0m \u001b[0mclfs\u001b[0m \u001b[0;34m=\u001b[0m \u001b[0mself\u001b[0m\u001b[0;34m.\u001b[0m\u001b[0m_validate_estimators\u001b[0m\u001b[0;34m(\u001b[0m\u001b[0;34m)\u001b[0m\u001b[0;34m\u001b[0m\u001b[0;34m\u001b[0m\u001b[0m\n\u001b[0m\u001b[1;32m     58\u001b[0m \u001b[0;34m\u001b[0m\u001b[0m\n\u001b[1;32m     59\u001b[0m         if (self.weights is not None and\n",
      "\u001b[0;32m~/miniconda3/lib/python3.7/site-packages/sklearn/ensemble/_base.py\u001b[0m in \u001b[0;36m_validate_estimators\u001b[0;34m(self)\u001b[0m\n\u001b[1;32m    247\u001b[0m                 raise ValueError(\n\u001b[1;32m    248\u001b[0m                     \"The estimator {} should be a {}.\".format(\n\u001b[0;32m--> 249\u001b[0;31m                         \u001b[0mest\u001b[0m\u001b[0;34m.\u001b[0m\u001b[0m__class__\u001b[0m\u001b[0;34m.\u001b[0m\u001b[0m__name__\u001b[0m\u001b[0;34m,\u001b[0m \u001b[0mis_estimator_type\u001b[0m\u001b[0;34m.\u001b[0m\u001b[0m__name__\u001b[0m\u001b[0;34m[\u001b[0m\u001b[0;36m3\u001b[0m\u001b[0;34m:\u001b[0m\u001b[0;34m]\u001b[0m\u001b[0;34m\u001b[0m\u001b[0;34m\u001b[0m\u001b[0m\n\u001b[0m\u001b[1;32m    250\u001b[0m                     )\n\u001b[1;32m    251\u001b[0m                 )\n",
      "\u001b[0;31mValueError\u001b[0m: The estimator RandomForestRegressor should be a classifier."
     ]
    }
   ],
   "source": [
    "votingC = VotingClassifier(estimators=[('rfc', rf),('gbc',GBC)], voting='soft')\n",
    "votingC = votingC.fit(X_train, y_train)\n",
    "predictions = votingC.predict(X_test)\n",
    "print(precision_recall_fscore_support(y_test, predictions, average='binary'))\n",
    "fpr, tpr, thresholds = metrics.roc_curve(y_test, predictions, pos_label=1)\n",
    "metrics.auc(fpr, tpr)"
   ]
  },
  {
   "cell_type": "markdown",
   "metadata": {},
   "source": [
    "### Adaboost"
   ]
  },
  {
   "cell_type": "code",
   "execution_count": 115,
   "metadata": {},
   "outputs": [
    {
     "name": "stdout",
     "output_type": "stream",
     "text": [
      "(0.6350710900473934, 0.33562930494677523, 0.4391642769356821, None)\n"
     ]
    },
    {
     "data": {
      "text/plain": [
       "0.6586184265089783"
      ]
     },
     "execution_count": 115,
     "metadata": {},
     "output_type": "execute_result"
    }
   ],
   "source": [
    "from sklearn.ensemble import AdaBoostClassifier\n",
    "clf = AdaBoostClassifier(n_estimators=100, random_state=0)\n",
    "clf.fit(X_train, y_train)\n",
    "predictions = clf.predict(X_test)\n",
    "print(precision_recall_fscore_support(y_test, predictions, average='binary'))\n",
    "fpr, tpr, thresholds = metrics.roc_curve(y_test, predictions, pos_label=1)\n",
    "metrics.auc(fpr, tpr)"
   ]
  },
  {
   "cell_type": "code",
   "execution_count": 116,
   "metadata": {},
   "outputs": [
    {
     "name": "stdout",
     "output_type": "stream",
     "text": [
      "(0.673469387755102, 0.34472934472934474, 0.4560301507537688, None)\n"
     ]
    },
    {
     "data": {
      "text/plain": [
       "0.6644901868907118"
      ]
     },
     "execution_count": 116,
     "metadata": {},
     "output_type": "execute_result"
    }
   ],
   "source": [
    "predictions = clf.predict(X_train)\n",
    "print(precision_recall_fscore_support(y_train, predictions, average='binary'))\n",
    "fpr, tpr, thresholds = metrics.roc_curve(y_train, predictions, pos_label=1)\n",
    "metrics.auc(fpr, tpr)"
   ]
  },
  {
   "cell_type": "markdown",
   "metadata": {},
   "source": [
    "### XGBoost"
   ]
  },
  {
   "cell_type": "code",
   "execution_count": 117,
   "metadata": {},
   "outputs": [
    {
     "data": {
      "text/plain": [
       "0.881936029583715"
      ]
     },
     "execution_count": 117,
     "metadata": {},
     "output_type": "execute_result"
    }
   ],
   "source": [
    "import xgboost as xgb\n",
    "from xgboost.sklearn import XGBClassifier, XGBRegressor\n",
    "'''\n",
    "def modelfit(alg, X_train, y_train,useTrainCV=True, cv_folds=5, early_stopping_rounds=50):\n",
    "    \n",
    "    if useTrainCV:\n",
    "        xgb_param = alg.get_xgb_params()\n",
    "        xgtrain = xgb.DMatrix(X_train)#, label=X_train.values)\n",
    "        cvresult = xgb.cv(xgb_param, xgtrain, num_boost_round=alg.get_params()['n_estimators'], nfold=cv_folds,\n",
    "            metrics='auc', early_stopping_rounds=early_stopping_rounds)#, show_progress=False)\n",
    "        alg.set_params(n_estimators=cvresult.shape[0])\n",
    "    \n",
    "    #Fit the algorithm on the data\n",
    "    alg.fit(X_train, y_train,eval_metric='auc')\n",
    "        \n",
    "    #Predict training set:\n",
    "    dtrain_predictions = alg.predict(X_train)\n",
    "    dtrain_predprob = alg.predict_proba(X_train)[:,1]\n",
    "        \n",
    "    #Print model report:\n",
    "    print(\"\\nModel Report\")\n",
    "    print(\"Accuracy : %.4g\" % metrics.accuracy_score(y_train, dtrain_predictions))\n",
    "    print(\"AUC Score (Train): %f\" % metrics.roc_auc_score(y_train, dtrain_predprob))\n",
    "                    \n",
    "    feat_imp = pd.Series(alg.booster().get_fscore()).sort_values(ascending=False)\n",
    "    feat_imp.plot(kind='bar', title='Feature Importances')\n",
    "    plt.ylabel('Feature Importance Score')\n",
    "\n",
    "    \n",
    "    \n",
    "#predictors = [x for x in train.columns if x not in [target, IDcol]]\n",
    "xgb1 = XGBClassifier(\n",
    " learning_rate =0.1,\n",
    " n_estimators=1000,\n",
    " max_depth=5,\n",
    " min_child_weight=1,\n",
    " gamma=0,\n",
    " subsample=0.8,\n",
    " colsample_bytree=0.8,\n",
    " objective= 'binary:logistic',\n",
    " nthread=4,\n",
    " scale_pos_weight=1,\n",
    " seed=27)\n",
    "modelfit(xgb1, X_train,y_train)\n",
    "'''\n",
    "from sklearn.datasets import dump_svmlight_file\n",
    "dump_svmlight_file(X_train,y_train, \"X.train\")\n",
    "dump_svmlight_file(X_test,y_test, \"X.test\")\n",
    "'''\n",
    "Xlearning_rate =0.1,\n",
    " n_estimators=1000,\n",
    " max_depth=5,\n",
    " min_child_weight=1,\n",
    " gamma=0,\n",
    " subsample=0.8,\n",
    " colsample_bytree=0.8,\n",
    " objective= 'binary:logistic')\n",
    "XGBRegressor(objective ='reg:linear', colsample_bytree = 0.3, learning_rate = 0.1,\n",
    "                max_depth = 5, alpha = 10, n_estimators = 10)'''\n",
    "model = XGBRegressor(n_estimators = 25, max_depth = 5)\n",
    "model.fit(X_train, y_train)\n",
    "prob = model.predict(X_test)\n",
    "predictions = prob\n",
    "#print(precision_recall_fscore_support(y_test, predictions, average='binary'))\n",
    "fpr, tpr, thresholds = metrics.roc_curve(y_test, predictions, pos_label=1)\n",
    "metrics.auc(fpr, tpr)"
   ]
  },
  {
   "cell_type": "code",
   "execution_count": 118,
   "metadata": {},
   "outputs": [
    {
     "data": {
      "text/plain": [
       "0.9171459890135114"
      ]
     },
     "execution_count": 118,
     "metadata": {},
     "output_type": "execute_result"
    }
   ],
   "source": [
    "prob = model.predict(X_train)\n",
    "predictions = prob\n",
    "#print(precision_recall_fscore_support(y_test, predictions, average='binary'))\n",
    "fpr, tpr, thresholds = metrics.roc_curve(y_train, predictions, pos_label=1)\n",
    "metrics.auc(fpr, tpr)"
   ]
  },
  {
   "cell_type": "code",
   "execution_count": null,
   "metadata": {},
   "outputs": [],
   "source": []
  },
  {
   "cell_type": "markdown",
   "metadata": {},
   "source": [
    "### Neural Net"
   ]
  },
  {
   "cell_type": "code",
   "execution_count": 119,
   "metadata": {},
   "outputs": [],
   "source": [
    "from sklearn.neural_network import MLPClassifier"
   ]
  },
  {
   "cell_type": "code",
   "execution_count": 120,
   "metadata": {},
   "outputs": [
    {
     "name": "stdout",
     "output_type": "stream",
     "text": [
      "(73370, 313)\n",
      "(73370,)\n",
      "(18343, 313)\n",
      "(18343,)\n"
     ]
    }
   ],
   "source": [
    "print(X_train.shape)\n",
    "print(y_train.shape)\n",
    "print(X_test.shape)\n",
    "print(y_test.shape)\n"
   ]
  },
  {
   "cell_type": "code",
   "execution_count": 121,
   "metadata": {},
   "outputs": [
    {
     "name": "stdout",
     "output_type": "stream",
     "text": [
      "[0 0 0 ... 0 0 0]\n",
      "(0.0, 0.0, 0.0, None)\n"
     ]
    },
    {
     "name": "stderr",
     "output_type": "stream",
     "text": [
      "/Users/yuyan/miniconda3/lib/python3.7/site-packages/sklearn/metrics/_classification.py:1272: UndefinedMetricWarning:\n",
      "\n",
      "Precision and F-score are ill-defined and being set to 0.0 due to no predicted samples. Use `zero_division` parameter to control this behavior.\n",
      "\n"
     ]
    },
    {
     "data": {
      "text/plain": [
       "0.5"
      ]
     },
     "execution_count": 121,
     "metadata": {},
     "output_type": "execute_result"
    }
   ],
   "source": [
    "clf = MLPClassifier(solver='sgd', activation='relu',alpha=1e-4,hidden_layer_sizes=(142,142,), random_state=1, max_iter = 500)\n",
    "clf.fit(X_train, y_train)\n",
    "predictions = clf.predict(X_test)\n",
    "print(predictions)\n",
    "print(precision_recall_fscore_support(y_test, predictions, average='binary'))\n",
    "fpr, tpr, thresholds = metrics.roc_curve(y_test, predictions, pos_label=1)\n",
    "metrics.auc(fpr, tpr)\n"
   ]
  },
  {
   "cell_type": "code",
   "execution_count": 122,
   "metadata": {},
   "outputs": [
    {
     "name": "stdout",
     "output_type": "stream",
     "text": [
      "(0.0, 0.0, 0.0, None)\n"
     ]
    },
    {
     "name": "stderr",
     "output_type": "stream",
     "text": [
      "/Users/yuyan/miniconda3/lib/python3.7/site-packages/sklearn/metrics/_classification.py:1272: UndefinedMetricWarning:\n",
      "\n",
      "Precision and F-score are ill-defined and being set to 0.0 due to no predicted samples. Use `zero_division` parameter to control this behavior.\n",
      "\n"
     ]
    },
    {
     "data": {
      "text/plain": [
       "0.5"
      ]
     },
     "execution_count": 122,
     "metadata": {},
     "output_type": "execute_result"
    }
   ],
   "source": [
    "predictions = clf.predict(X_train)\n",
    "print(precision_recall_fscore_support(y_train, predictions, average='binary'))\n",
    "fpr, tpr, thresholds = metrics.roc_curve(y_train, predictions, pos_label=1)\n",
    "metrics.auc(fpr, tpr)"
   ]
  },
  {
   "cell_type": "code",
   "execution_count": 123,
   "metadata": {},
   "outputs": [
    {
     "name": "stderr",
     "output_type": "stream",
     "text": [
      "/Users/yuyan/miniconda3/lib/python3.7/site-packages/tensorflow/python/framework/dtypes.py:516: FutureWarning:\n",
      "\n",
      "Passing (type, 1) or '1type' as a synonym of type is deprecated; in a future version of numpy, it will be understood as (type, (1,)) / '(1,)type'.\n",
      "\n",
      "/Users/yuyan/miniconda3/lib/python3.7/site-packages/tensorflow/python/framework/dtypes.py:517: FutureWarning:\n",
      "\n",
      "Passing (type, 1) or '1type' as a synonym of type is deprecated; in a future version of numpy, it will be understood as (type, (1,)) / '(1,)type'.\n",
      "\n",
      "/Users/yuyan/miniconda3/lib/python3.7/site-packages/tensorflow/python/framework/dtypes.py:518: FutureWarning:\n",
      "\n",
      "Passing (type, 1) or '1type' as a synonym of type is deprecated; in a future version of numpy, it will be understood as (type, (1,)) / '(1,)type'.\n",
      "\n",
      "/Users/yuyan/miniconda3/lib/python3.7/site-packages/tensorflow/python/framework/dtypes.py:519: FutureWarning:\n",
      "\n",
      "Passing (type, 1) or '1type' as a synonym of type is deprecated; in a future version of numpy, it will be understood as (type, (1,)) / '(1,)type'.\n",
      "\n",
      "/Users/yuyan/miniconda3/lib/python3.7/site-packages/tensorflow/python/framework/dtypes.py:520: FutureWarning:\n",
      "\n",
      "Passing (type, 1) or '1type' as a synonym of type is deprecated; in a future version of numpy, it will be understood as (type, (1,)) / '(1,)type'.\n",
      "\n",
      "/Users/yuyan/miniconda3/lib/python3.7/site-packages/tensorflow/python/framework/dtypes.py:525: FutureWarning:\n",
      "\n",
      "Passing (type, 1) or '1type' as a synonym of type is deprecated; in a future version of numpy, it will be understood as (type, (1,)) / '(1,)type'.\n",
      "\n",
      "/Users/yuyan/miniconda3/lib/python3.7/site-packages/tensorboard/compat/tensorflow_stub/dtypes.py:541: FutureWarning:\n",
      "\n",
      "Passing (type, 1) or '1type' as a synonym of type is deprecated; in a future version of numpy, it will be understood as (type, (1,)) / '(1,)type'.\n",
      "\n",
      "/Users/yuyan/miniconda3/lib/python3.7/site-packages/tensorboard/compat/tensorflow_stub/dtypes.py:542: FutureWarning:\n",
      "\n",
      "Passing (type, 1) or '1type' as a synonym of type is deprecated; in a future version of numpy, it will be understood as (type, (1,)) / '(1,)type'.\n",
      "\n",
      "/Users/yuyan/miniconda3/lib/python3.7/site-packages/tensorboard/compat/tensorflow_stub/dtypes.py:543: FutureWarning:\n",
      "\n",
      "Passing (type, 1) or '1type' as a synonym of type is deprecated; in a future version of numpy, it will be understood as (type, (1,)) / '(1,)type'.\n",
      "\n",
      "/Users/yuyan/miniconda3/lib/python3.7/site-packages/tensorboard/compat/tensorflow_stub/dtypes.py:544: FutureWarning:\n",
      "\n",
      "Passing (type, 1) or '1type' as a synonym of type is deprecated; in a future version of numpy, it will be understood as (type, (1,)) / '(1,)type'.\n",
      "\n",
      "/Users/yuyan/miniconda3/lib/python3.7/site-packages/tensorboard/compat/tensorflow_stub/dtypes.py:545: FutureWarning:\n",
      "\n",
      "Passing (type, 1) or '1type' as a synonym of type is deprecated; in a future version of numpy, it will be understood as (type, (1,)) / '(1,)type'.\n",
      "\n",
      "/Users/yuyan/miniconda3/lib/python3.7/site-packages/tensorboard/compat/tensorflow_stub/dtypes.py:550: FutureWarning:\n",
      "\n",
      "Passing (type, 1) or '1type' as a synonym of type is deprecated; in a future version of numpy, it will be understood as (type, (1,)) / '(1,)type'.\n",
      "\n"
     ]
    }
   ],
   "source": [
    "import tensorflow as tf\n",
    "from tensorflow.keras.layers import Dropout\n",
    "from tensorflow.keras.models import Sequential \n",
    "from tensorflow.keras.layers import Dense\n",
    "from tensorflow.keras.optimizers import SGD"
   ]
  },
  {
   "cell_type": "code",
   "execution_count": 124,
   "metadata": {},
   "outputs": [
    {
     "name": "stdout",
     "output_type": "stream",
     "text": [
      "WARNING:tensorflow:From /Users/yuyan/miniconda3/lib/python3.7/site-packages/tensorflow/python/ops/init_ops.py:1251: calling VarianceScaling.__init__ (from tensorflow.python.ops.init_ops) with dtype is deprecated and will be removed in a future version.\n",
      "Instructions for updating:\n",
      "Call initializer instance with the dtype argument instead of passing it to the constructor\n",
      "WARNING:tensorflow:From /Users/yuyan/miniconda3/lib/python3.7/site-packages/tensorflow/python/ops/nn_impl.py:180: add_dispatch_support.<locals>.wrapper (from tensorflow.python.ops.array_ops) is deprecated and will be removed in a future version.\n",
      "Instructions for updating:\n",
      "Use tf.where in 2.0, which has the same broadcast rule as np.where\n"
     ]
    },
    {
     "data": {
      "text/plain": [
       "<tensorflow.python.keras.callbacks.History at 0x14d6f3940>"
      ]
     },
     "execution_count": 124,
     "metadata": {},
     "output_type": "execute_result"
    }
   ],
   "source": [
    "model = Sequential()\n",
    "#variables = X_train_test.shape[1]\n",
    "model.add(Dense(132, input_dim=X_train.shape[1], activation='relu'))\n",
    "model.add(Dropout(0.2))\n",
    "model.add(Dense(132, activation='relu'))\n",
    "model.add(Dropout(0.2))\n",
    "model.add(Dense(132, activation='relu'))\n",
    "model.add(Dense(132, activation='relu'))\n",
    "model.add(Dense(132, activation='relu'))\n",
    "\n",
    "#model.add(Dropout(0.2))\n",
    "model.add(Dense(1, activation='sigmoid'))\n",
    "\n",
    "# define optimizer\n",
    "opt = tf.keras.optimizers.Adam(0.01)\n",
    "\n",
    "# compile the model\n",
    "model.compile(optimizer=opt, loss='binary_crossentropy', metrics=['accuracy', 'binary_crossentropy'])#tf.keras.metrics.AUC()])\n",
    "\n",
    "\n",
    "# fit the model\n",
    "\n",
    "model.fit(X_train, y_train, epochs=500, batch_size=500, verbose=0)#, class_weight = class_weights)\n"
   ]
  },
  {
   "cell_type": "code",
   "execution_count": 125,
   "metadata": {},
   "outputs": [
    {
     "data": {
      "text/plain": [
       "0.5001339397791498"
      ]
     },
     "execution_count": 125,
     "metadata": {},
     "output_type": "execute_result"
    }
   ],
   "source": [
    "predictions = model.predict(X_test)\n",
    "fpr, tpr, thresholds = metrics.roc_curve(y_test, predictions, pos_label=1)\n",
    "metrics.auc(fpr, tpr)"
   ]
  },
  {
   "cell_type": "code",
   "execution_count": 126,
   "metadata": {},
   "outputs": [
    {
     "data": {
      "text/plain": [
       "0.5000716820689047"
      ]
     },
     "execution_count": 126,
     "metadata": {},
     "output_type": "execute_result"
    }
   ],
   "source": [
    "predictions = model.predict(X_train)\n",
    "fpr, tpr, thresholds = metrics.roc_curve(y_train, predictions, pos_label=1)\n",
    "metrics.auc(fpr, tpr)"
   ]
  },
  {
   "cell_type": "code",
   "execution_count": null,
   "metadata": {},
   "outputs": [],
   "source": []
  },
  {
   "cell_type": "code",
   "execution_count": null,
   "metadata": {},
   "outputs": [],
   "source": []
  }
 ],
 "metadata": {
  "kernelspec": {
   "display_name": "Python 3",
   "language": "python",
   "name": "python3"
  },
  "language_info": {
   "codemirror_mode": {
    "name": "ipython",
    "version": 3
   },
   "file_extension": ".py",
   "mimetype": "text/x-python",
   "name": "python",
   "nbconvert_exporter": "python",
   "pygments_lexer": "ipython3",
   "version": "3.7.3"
  }
 },
 "nbformat": 4,
 "nbformat_minor": 4
}
