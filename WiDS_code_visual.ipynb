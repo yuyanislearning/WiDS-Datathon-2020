{
 "cells": [
  {
   "cell_type": "markdown",
   "metadata": {},
   "source": [
    "# Code and visualization for the challenge"
   ]
  },
  {
   "cell_type": "code",
   "execution_count": 1,
   "metadata": {},
   "outputs": [],
   "source": [
    "#import lib\n",
    "import numpy as np\n",
    "import pandas as pd\n",
    "import matplotlib.pyplot as plt\n",
    "from sklearn.model_selection import train_test_split\n",
    "from sklearn.ensemble import RandomForestClassifier\n",
    "from sklearn.metrics import precision_recall_fscore_support\n",
    "from sklearn.linear_model import LogisticRegression\n",
    "from sklearn.neural_network import MLPClassifier\n",
    "from sklearn.svm import SVC\n"
   ]
  },
  {
   "cell_type": "markdown",
   "metadata": {},
   "source": []
  },
  {
   "cell_type": "code",
   "execution_count": 57,
   "metadata": {},
   "outputs": [],
   "source": [
    "training_v2 = pd.read_csv(\"Data/training_v2.csv\")\n",
    "test = pd.read_csv(\"Data/unlabeled.csv\")\n",
    "y = training_v2['hospital_death']\n",
    "X = training_v2\n",
    "X = training_v2.drop('hospital_death',axis = 1)"
   ]
  },
  {
   "cell_type": "code",
   "execution_count": 3,
   "metadata": {},
   "outputs": [],
   "source": [
    "descrip_dict = pd.read_csv(\"Data/WiDS Datathon 2020 Dictionary.csv\",index_col = ['Variable Name'])"
   ]
  },
  {
   "cell_type": "code",
   "execution_count": 21,
   "metadata": {},
   "outputs": [
    {
     "data": {
      "text/html": [
       "<div>\n",
       "<style scoped>\n",
       "    .dataframe tbody tr th:only-of-type {\n",
       "        vertical-align: middle;\n",
       "    }\n",
       "\n",
       "    .dataframe tbody tr th {\n",
       "        vertical-align: top;\n",
       "    }\n",
       "\n",
       "    .dataframe thead th {\n",
       "        text-align: right;\n",
       "    }\n",
       "</style>\n",
       "<table border=\"1\" class=\"dataframe\">\n",
       "  <thead>\n",
       "    <tr style=\"text-align: right;\">\n",
       "      <th></th>\n",
       "      <th>Category</th>\n",
       "      <th>Unit of Measure</th>\n",
       "      <th>Data Type</th>\n",
       "      <th>Description</th>\n",
       "      <th>Example</th>\n",
       "    </tr>\n",
       "    <tr>\n",
       "      <th>Variable Name</th>\n",
       "      <th></th>\n",
       "      <th></th>\n",
       "      <th></th>\n",
       "      <th></th>\n",
       "      <th></th>\n",
       "    </tr>\n",
       "  </thead>\n",
       "  <tbody>\n",
       "    <tr>\n",
       "      <td>encounter_id</td>\n",
       "      <td>identifier</td>\n",
       "      <td>None</td>\n",
       "      <td>integer</td>\n",
       "      <td>Unique identifier associated with a patient un...</td>\n",
       "      <td>None</td>\n",
       "    </tr>\n",
       "    <tr>\n",
       "      <td>hospital_id</td>\n",
       "      <td>identifier</td>\n",
       "      <td>None</td>\n",
       "      <td>integer</td>\n",
       "      <td>Unique identifier associated with a hospital</td>\n",
       "      <td>None</td>\n",
       "    </tr>\n",
       "    <tr>\n",
       "      <td>patient_id</td>\n",
       "      <td>identifier</td>\n",
       "      <td>None</td>\n",
       "      <td>integer</td>\n",
       "      <td>Unique identifier associated with a patient</td>\n",
       "      <td>None</td>\n",
       "    </tr>\n",
       "    <tr>\n",
       "      <td>hospital_death</td>\n",
       "      <td>demographic</td>\n",
       "      <td>None</td>\n",
       "      <td>binary</td>\n",
       "      <td>Whether the patient died during this hospitali...</td>\n",
       "      <td>0</td>\n",
       "    </tr>\n",
       "    <tr>\n",
       "      <td>age</td>\n",
       "      <td>demographic</td>\n",
       "      <td>Years</td>\n",
       "      <td>numeric</td>\n",
       "      <td>The age of the patient on unit admission</td>\n",
       "      <td>None</td>\n",
       "    </tr>\n",
       "    <tr>\n",
       "      <td>...</td>\n",
       "      <td>...</td>\n",
       "      <td>...</td>\n",
       "      <td>...</td>\n",
       "      <td>...</td>\n",
       "      <td>...</td>\n",
       "    </tr>\n",
       "    <tr>\n",
       "      <td>lymphoma</td>\n",
       "      <td>APACHE comorbidity</td>\n",
       "      <td>None</td>\n",
       "      <td>binary</td>\n",
       "      <td>Whether the patient has been diagnosed with no...</td>\n",
       "      <td>1</td>\n",
       "    </tr>\n",
       "    <tr>\n",
       "      <td>solid_tumor_with_metastasis</td>\n",
       "      <td>APACHE comorbidity</td>\n",
       "      <td>None</td>\n",
       "      <td>binary</td>\n",
       "      <td>Whether the patient has been diagnosed with an...</td>\n",
       "      <td>1</td>\n",
       "    </tr>\n",
       "    <tr>\n",
       "      <td>apache_3j_bodysystem</td>\n",
       "      <td>APACHE grouping</td>\n",
       "      <td>None</td>\n",
       "      <td>string</td>\n",
       "      <td>Admission diagnosis group for APACHE III</td>\n",
       "      <td>Cardiovascular</td>\n",
       "    </tr>\n",
       "    <tr>\n",
       "      <td>apache_2_bodysystem</td>\n",
       "      <td>APACHE grouping</td>\n",
       "      <td>None</td>\n",
       "      <td>string</td>\n",
       "      <td>Admission diagnosis group for APACHE II</td>\n",
       "      <td>Respiratory</td>\n",
       "    </tr>\n",
       "    <tr>\n",
       "      <td>pred</td>\n",
       "      <td>GOSSIS example prediction</td>\n",
       "      <td>None</td>\n",
       "      <td>numeric</td>\n",
       "      <td>Example mortality prediction, shared as a 'bas...</td>\n",
       "      <td>0.000921</td>\n",
       "    </tr>\n",
       "  </tbody>\n",
       "</table>\n",
       "<p>188 rows × 5 columns</p>\n",
       "</div>"
      ],
      "text/plain": [
       "                                              Category Unit of Measure  \\\n",
       "Variable Name                                                            \n",
       "encounter_id                                identifier            None   \n",
       "hospital_id                                 identifier            None   \n",
       "patient_id                                  identifier            None   \n",
       "hospital_death                             demographic            None   \n",
       "age                                        demographic           Years   \n",
       "...                                                ...             ...   \n",
       "lymphoma                            APACHE comorbidity            None   \n",
       "solid_tumor_with_metastasis         APACHE comorbidity            None   \n",
       "apache_3j_bodysystem                   APACHE grouping            None   \n",
       "apache_2_bodysystem                    APACHE grouping            None   \n",
       "pred                         GOSSIS example prediction            None   \n",
       "\n",
       "                            Data Type  \\\n",
       "Variable Name                           \n",
       "encounter_id                  integer   \n",
       "hospital_id                   integer   \n",
       "patient_id                    integer   \n",
       "hospital_death                 binary   \n",
       "age                           numeric   \n",
       "...                               ...   \n",
       "lymphoma                       binary   \n",
       "solid_tumor_with_metastasis    binary   \n",
       "apache_3j_bodysystem           string   \n",
       "apache_2_bodysystem            string   \n",
       "pred                          numeric   \n",
       "\n",
       "                                                                   Description  \\\n",
       "Variable Name                                                                    \n",
       "encounter_id                 Unique identifier associated with a patient un...   \n",
       "hospital_id                       Unique identifier associated with a hospital   \n",
       "patient_id                         Unique identifier associated with a patient   \n",
       "hospital_death               Whether the patient died during this hospitali...   \n",
       "age                                   The age of the patient on unit admission   \n",
       "...                                                                        ...   \n",
       "lymphoma                     Whether the patient has been diagnosed with no...   \n",
       "solid_tumor_with_metastasis  Whether the patient has been diagnosed with an...   \n",
       "apache_3j_bodysystem                  Admission diagnosis group for APACHE III   \n",
       "apache_2_bodysystem                    Admission diagnosis group for APACHE II   \n",
       "pred                         Example mortality prediction, shared as a 'bas...   \n",
       "\n",
       "                                    Example  \n",
       "Variable Name                                \n",
       "encounter_id                           None  \n",
       "hospital_id                            None  \n",
       "patient_id                             None  \n",
       "hospital_death                            0  \n",
       "age                                    None  \n",
       "...                                     ...  \n",
       "lymphoma                                  1  \n",
       "solid_tumor_with_metastasis               1  \n",
       "apache_3j_bodysystem         Cardiovascular  \n",
       "apache_2_bodysystem             Respiratory  \n",
       "pred                               0.000921  \n",
       "\n",
       "[188 rows x 5 columns]"
      ]
     },
     "execution_count": 21,
     "metadata": {},
     "output_type": "execute_result"
    }
   ],
   "source": [
    "descrip_dict"
   ]
  },
  {
   "cell_type": "markdown",
   "metadata": {},
   "source": [
    "### Missing data ###\n",
    "Tina\n",
    "Reference:\n",
    "1. [A New Insight Into Missing Data in Intensive Care Unit Patient Profiles: Observational Study\n",
    "](https://www.ncbi.nlm.nih.gov/pmc/articles/PMC6329436/)\n",
    "    - Using this, we convert variables with the most missing data to another type of indicator called missingness. 0 if missing var \n",
    " \n",
    "Summary of missing data\n",
    "\n",
    "Select and fill in important variables that miss a lot of data"
   ]
  },
  {
   "cell_type": "code",
   "execution_count": 5,
   "metadata": {},
   "outputs": [
    {
     "ename": "ImportError",
     "evalue": "No module named 'missingno'",
     "output_type": "error",
     "traceback": [
      "\u001b[0;31m---------------------------------------------------------------------------\u001b[0m",
      "\u001b[0;31mImportError\u001b[0m                               Traceback (most recent call last)",
      "\u001b[0;32m<ipython-input-5-abdd83f3dcff>\u001b[0m in \u001b[0;36m<module>\u001b[0;34m()\u001b[0m\n\u001b[1;32m      1\u001b[0m \u001b[0;31m#import chart_studio.plotly as py\u001b[0m\u001b[0;34m\u001b[0m\u001b[0;34m\u001b[0m\u001b[0m\n\u001b[0;32m----> 2\u001b[0;31m \u001b[0;32mimport\u001b[0m \u001b[0mmissingno\u001b[0m \u001b[0;32mas\u001b[0m \u001b[0mmsno\u001b[0m\u001b[0;34m\u001b[0m\u001b[0m\n\u001b[0m\u001b[1;32m      3\u001b[0m \u001b[0;32mimport\u001b[0m \u001b[0mplotly\u001b[0m\u001b[0;34m.\u001b[0m\u001b[0mexpress\u001b[0m \u001b[0;32mas\u001b[0m \u001b[0mpx\u001b[0m\u001b[0;34m\u001b[0m\u001b[0m\n\u001b[1;32m      4\u001b[0m \u001b[0;32mimport\u001b[0m \u001b[0mplotly\u001b[0m\u001b[0;34m.\u001b[0m\u001b[0mgraph_objects\u001b[0m \u001b[0;32mas\u001b[0m \u001b[0mgo\u001b[0m\u001b[0;34m\u001b[0m\u001b[0m\n\u001b[1;32m      5\u001b[0m \u001b[0;32mimport\u001b[0m \u001b[0mplotly\u001b[0m\u001b[0;34m.\u001b[0m\u001b[0mio\u001b[0m \u001b[0;32mas\u001b[0m \u001b[0mpio\u001b[0m\u001b[0;34m\u001b[0m\u001b[0m\n",
      "\u001b[0;31mImportError\u001b[0m: No module named 'missingno'"
     ]
    }
   ],
   "source": [
    "#import chart_studio.plotly as py\n",
    "import missingno as msno \n",
    "import plotly.express as px\n",
    "import plotly.graph_objects as go\n",
    "import plotly.io as pio"
   ]
  },
  {
   "cell_type": "code",
   "execution_count": 23,
   "metadata": {},
   "outputs": [],
   "source": [
    "import plotly.tools as tls \n",
    "from plotly.graph_objs import * "
   ]
  },
  {
   "cell_type": "code",
   "execution_count": 24,
   "metadata": {},
   "outputs": [],
   "source": [
    "total_patient_data = X.index.nunique()\n",
    "high_miss_var = []\n",
    "miss_perct = []\n",
    "threshold = .50 # variables that have missing 60% \n",
    "\n",
    "#X.isnull().sum()\n",
    "\n",
    "for var in X.columns:\n",
    "    count = 0 \n",
    "    for value in X[var].values:\n",
    "        if pd.isnull(value):    \n",
    "            count = count + 1     \n",
    "    miss_rate = (count/total_patient_data)\n",
    "    if miss_rate >= threshold:\n",
    "        high_miss_var.append(var)\n",
    "        miss_perct.append(miss_rate)\n",
    "missing_stat = pd.DataFrame(miss_perct, columns = ['miss_rate'], index = high_miss_var)\n"
   ]
  },
  {
   "cell_type": "markdown",
   "metadata": {},
   "source": [
    "Variables that have high percentages of missing values are illustrated below"
   ]
  },
  {
   "cell_type": "code",
   "execution_count": 25,
   "metadata": {
    "scrolled": true
   },
   "outputs": [
    {
     "data": {
      "application/vnd.plotly.v1+json": {
       "config": {
        "plotlyServerURL": "https://plot.ly"
       },
       "data": [
        {
         "alignmentgroup": "True",
         "hoverlabel": {
          "namelength": 0
         },
         "hovertemplate": "x=%{x}<br>miss_rate=%{y}",
         "legendgroup": "",
         "marker": {
          "color": "#636efa"
         },
         "name": "",
         "offsetgroup": "",
         "orientation": "v",
         "showlegend": false,
         "textposition": "auto",
         "type": "bar",
         "x": [
          "albumin_apache",
          "bilirubin_apache",
          "fio2_apache",
          "paco2_apache",
          "paco2_for_ph_apache",
          "pao2_apache",
          "ph_apache",
          "urineoutput_apache",
          "d1_diasbp_invasive_max",
          "d1_diasbp_invasive_min",
          "d1_mbp_invasive_max",
          "d1_mbp_invasive_min",
          "d1_sysbp_invasive_max",
          "d1_sysbp_invasive_min",
          "h1_diasbp_invasive_max",
          "h1_diasbp_invasive_min",
          "h1_mbp_invasive_max",
          "h1_mbp_invasive_min",
          "h1_sysbp_invasive_max",
          "h1_sysbp_invasive_min",
          "d1_albumin_max",
          "d1_albumin_min",
          "d1_bilirubin_max",
          "d1_bilirubin_min",
          "d1_inr_max",
          "d1_inr_min",
          "d1_lactate_max",
          "d1_lactate_min",
          "h1_albumin_max",
          "h1_albumin_min",
          "h1_bilirubin_max",
          "h1_bilirubin_min",
          "h1_bun_max",
          "h1_bun_min",
          "h1_calcium_max",
          "h1_calcium_min",
          "h1_creatinine_max",
          "h1_creatinine_min",
          "h1_glucose_max",
          "h1_glucose_min",
          "h1_hco3_max",
          "h1_hco3_min",
          "h1_hemaglobin_max",
          "h1_hemaglobin_min",
          "h1_hematocrit_max",
          "h1_hematocrit_min",
          "h1_inr_max",
          "h1_inr_min",
          "h1_lactate_max",
          "h1_lactate_min",
          "h1_platelets_max",
          "h1_platelets_min",
          "h1_potassium_max",
          "h1_potassium_min",
          "h1_sodium_max",
          "h1_sodium_min",
          "h1_wbc_max",
          "h1_wbc_min",
          "d1_arterial_pco2_max",
          "d1_arterial_pco2_min",
          "d1_arterial_ph_max",
          "d1_arterial_ph_min",
          "d1_arterial_po2_max",
          "d1_arterial_po2_min",
          "d1_pao2fio2ratio_max",
          "d1_pao2fio2ratio_min",
          "h1_arterial_pco2_max",
          "h1_arterial_pco2_min",
          "h1_arterial_ph_max",
          "h1_arterial_ph_min",
          "h1_arterial_po2_max",
          "h1_arterial_po2_min",
          "h1_pao2fio2ratio_max",
          "h1_pao2fio2ratio_min"
         ],
         "xaxis": "x",
         "y": [
          0.5929257575261958,
          0.6338686990939125,
          0.7727148822958577,
          0.7727148822958577,
          0.7727148822958577,
          0.7727148822958577,
          0.7727148822958577,
          0.534253595455388,
          0.7412689585991081,
          0.7412689585991081,
          0.7390119176125522,
          0.7390119176125522,
          0.7409963691079782,
          0.7409963691079782,
          0.8169834156553597,
          0.8169834156553597,
          0.816067514965163,
          0.816067514965163,
          0.8168416691199721,
          0.8168416691199721,
          0.5353221462606174,
          0.5353221462606174,
          0.5852278302966865,
          0.5852278302966865,
          0.6317643082223894,
          0.6317643082223894,
          0.7457612334129294,
          0.7457612334129294,
          0.9139816601790368,
          0.9139816601790368,
          0.9226500059969688,
          0.9226500059969688,
          0.8187606991375268,
          0.8187606991375268,
          0.8271782626236194,
          0.8271782626236194,
          0.8172996194650703,
          0.8172996194650703,
          0.5736809394524223,
          0.5736809394524223,
          0.8296969895216599,
          0.8296969895216599,
          0.7973024543957782,
          0.7973024543957782,
          0.8005408175504019,
          0.8005408175504019,
          0.6317643082223894,
          0.6317643082223894,
          0.9199241110856694,
          0.9199241110856694,
          0.8251065824910319,
          0.8251065824910319,
          0.7861698995780315,
          0.7861698995780315,
          0.7917852430953082,
          0.7917852430953082,
          0.8281595847916872,
          0.8281595847916872,
          0.6462660691505021,
          0.6462660691505021,
          0.6555559190082104,
          0.6555559190082104,
          0.6461679369336953,
          0.6461679369336953,
          0.7197234852201978,
          0.7197234852201978,
          0.8282250062695583,
          0.8282250062695583,
          0.8332951708045752,
          0.8332951708045752,
          0.8280723561545256,
          0.8280723561545256,
          0.874412569646615,
          0.874412569646615
         ],
         "yaxis": "y"
        }
       ],
       "layout": {
        "barmode": "relative",
        "legend": {
         "tracegroupgap": 0
        },
        "margin": {
         "t": 60
        },
        "template": {
         "data": {
          "bar": [
           {
            "error_x": {
             "color": "#2a3f5f"
            },
            "error_y": {
             "color": "#2a3f5f"
            },
            "marker": {
             "line": {
              "color": "#E5ECF6",
              "width": 0.5
             }
            },
            "type": "bar"
           }
          ],
          "barpolar": [
           {
            "marker": {
             "line": {
              "color": "#E5ECF6",
              "width": 0.5
             }
            },
            "type": "barpolar"
           }
          ],
          "carpet": [
           {
            "aaxis": {
             "endlinecolor": "#2a3f5f",
             "gridcolor": "white",
             "linecolor": "white",
             "minorgridcolor": "white",
             "startlinecolor": "#2a3f5f"
            },
            "baxis": {
             "endlinecolor": "#2a3f5f",
             "gridcolor": "white",
             "linecolor": "white",
             "minorgridcolor": "white",
             "startlinecolor": "#2a3f5f"
            },
            "type": "carpet"
           }
          ],
          "choropleth": [
           {
            "colorbar": {
             "outlinewidth": 0,
             "ticks": ""
            },
            "type": "choropleth"
           }
          ],
          "contour": [
           {
            "colorbar": {
             "outlinewidth": 0,
             "ticks": ""
            },
            "colorscale": [
             [
              0,
              "#0d0887"
             ],
             [
              0.1111111111111111,
              "#46039f"
             ],
             [
              0.2222222222222222,
              "#7201a8"
             ],
             [
              0.3333333333333333,
              "#9c179e"
             ],
             [
              0.4444444444444444,
              "#bd3786"
             ],
             [
              0.5555555555555556,
              "#d8576b"
             ],
             [
              0.6666666666666666,
              "#ed7953"
             ],
             [
              0.7777777777777778,
              "#fb9f3a"
             ],
             [
              0.8888888888888888,
              "#fdca26"
             ],
             [
              1,
              "#f0f921"
             ]
            ],
            "type": "contour"
           }
          ],
          "contourcarpet": [
           {
            "colorbar": {
             "outlinewidth": 0,
             "ticks": ""
            },
            "type": "contourcarpet"
           }
          ],
          "heatmap": [
           {
            "colorbar": {
             "outlinewidth": 0,
             "ticks": ""
            },
            "colorscale": [
             [
              0,
              "#0d0887"
             ],
             [
              0.1111111111111111,
              "#46039f"
             ],
             [
              0.2222222222222222,
              "#7201a8"
             ],
             [
              0.3333333333333333,
              "#9c179e"
             ],
             [
              0.4444444444444444,
              "#bd3786"
             ],
             [
              0.5555555555555556,
              "#d8576b"
             ],
             [
              0.6666666666666666,
              "#ed7953"
             ],
             [
              0.7777777777777778,
              "#fb9f3a"
             ],
             [
              0.8888888888888888,
              "#fdca26"
             ],
             [
              1,
              "#f0f921"
             ]
            ],
            "type": "heatmap"
           }
          ],
          "heatmapgl": [
           {
            "colorbar": {
             "outlinewidth": 0,
             "ticks": ""
            },
            "colorscale": [
             [
              0,
              "#0d0887"
             ],
             [
              0.1111111111111111,
              "#46039f"
             ],
             [
              0.2222222222222222,
              "#7201a8"
             ],
             [
              0.3333333333333333,
              "#9c179e"
             ],
             [
              0.4444444444444444,
              "#bd3786"
             ],
             [
              0.5555555555555556,
              "#d8576b"
             ],
             [
              0.6666666666666666,
              "#ed7953"
             ],
             [
              0.7777777777777778,
              "#fb9f3a"
             ],
             [
              0.8888888888888888,
              "#fdca26"
             ],
             [
              1,
              "#f0f921"
             ]
            ],
            "type": "heatmapgl"
           }
          ],
          "histogram": [
           {
            "marker": {
             "colorbar": {
              "outlinewidth": 0,
              "ticks": ""
             }
            },
            "type": "histogram"
           }
          ],
          "histogram2d": [
           {
            "colorbar": {
             "outlinewidth": 0,
             "ticks": ""
            },
            "colorscale": [
             [
              0,
              "#0d0887"
             ],
             [
              0.1111111111111111,
              "#46039f"
             ],
             [
              0.2222222222222222,
              "#7201a8"
             ],
             [
              0.3333333333333333,
              "#9c179e"
             ],
             [
              0.4444444444444444,
              "#bd3786"
             ],
             [
              0.5555555555555556,
              "#d8576b"
             ],
             [
              0.6666666666666666,
              "#ed7953"
             ],
             [
              0.7777777777777778,
              "#fb9f3a"
             ],
             [
              0.8888888888888888,
              "#fdca26"
             ],
             [
              1,
              "#f0f921"
             ]
            ],
            "type": "histogram2d"
           }
          ],
          "histogram2dcontour": [
           {
            "colorbar": {
             "outlinewidth": 0,
             "ticks": ""
            },
            "colorscale": [
             [
              0,
              "#0d0887"
             ],
             [
              0.1111111111111111,
              "#46039f"
             ],
             [
              0.2222222222222222,
              "#7201a8"
             ],
             [
              0.3333333333333333,
              "#9c179e"
             ],
             [
              0.4444444444444444,
              "#bd3786"
             ],
             [
              0.5555555555555556,
              "#d8576b"
             ],
             [
              0.6666666666666666,
              "#ed7953"
             ],
             [
              0.7777777777777778,
              "#fb9f3a"
             ],
             [
              0.8888888888888888,
              "#fdca26"
             ],
             [
              1,
              "#f0f921"
             ]
            ],
            "type": "histogram2dcontour"
           }
          ],
          "mesh3d": [
           {
            "colorbar": {
             "outlinewidth": 0,
             "ticks": ""
            },
            "type": "mesh3d"
           }
          ],
          "parcoords": [
           {
            "line": {
             "colorbar": {
              "outlinewidth": 0,
              "ticks": ""
             }
            },
            "type": "parcoords"
           }
          ],
          "pie": [
           {
            "automargin": true,
            "type": "pie"
           }
          ],
          "scatter": [
           {
            "marker": {
             "colorbar": {
              "outlinewidth": 0,
              "ticks": ""
             }
            },
            "type": "scatter"
           }
          ],
          "scatter3d": [
           {
            "line": {
             "colorbar": {
              "outlinewidth": 0,
              "ticks": ""
             }
            },
            "marker": {
             "colorbar": {
              "outlinewidth": 0,
              "ticks": ""
             }
            },
            "type": "scatter3d"
           }
          ],
          "scattercarpet": [
           {
            "marker": {
             "colorbar": {
              "outlinewidth": 0,
              "ticks": ""
             }
            },
            "type": "scattercarpet"
           }
          ],
          "scattergeo": [
           {
            "marker": {
             "colorbar": {
              "outlinewidth": 0,
              "ticks": ""
             }
            },
            "type": "scattergeo"
           }
          ],
          "scattergl": [
           {
            "marker": {
             "colorbar": {
              "outlinewidth": 0,
              "ticks": ""
             }
            },
            "type": "scattergl"
           }
          ],
          "scattermapbox": [
           {
            "marker": {
             "colorbar": {
              "outlinewidth": 0,
              "ticks": ""
             }
            },
            "type": "scattermapbox"
           }
          ],
          "scatterpolar": [
           {
            "marker": {
             "colorbar": {
              "outlinewidth": 0,
              "ticks": ""
             }
            },
            "type": "scatterpolar"
           }
          ],
          "scatterpolargl": [
           {
            "marker": {
             "colorbar": {
              "outlinewidth": 0,
              "ticks": ""
             }
            },
            "type": "scatterpolargl"
           }
          ],
          "scatterternary": [
           {
            "marker": {
             "colorbar": {
              "outlinewidth": 0,
              "ticks": ""
             }
            },
            "type": "scatterternary"
           }
          ],
          "surface": [
           {
            "colorbar": {
             "outlinewidth": 0,
             "ticks": ""
            },
            "colorscale": [
             [
              0,
              "#0d0887"
             ],
             [
              0.1111111111111111,
              "#46039f"
             ],
             [
              0.2222222222222222,
              "#7201a8"
             ],
             [
              0.3333333333333333,
              "#9c179e"
             ],
             [
              0.4444444444444444,
              "#bd3786"
             ],
             [
              0.5555555555555556,
              "#d8576b"
             ],
             [
              0.6666666666666666,
              "#ed7953"
             ],
             [
              0.7777777777777778,
              "#fb9f3a"
             ],
             [
              0.8888888888888888,
              "#fdca26"
             ],
             [
              1,
              "#f0f921"
             ]
            ],
            "type": "surface"
           }
          ],
          "table": [
           {
            "cells": {
             "fill": {
              "color": "#EBF0F8"
             },
             "line": {
              "color": "white"
             }
            },
            "header": {
             "fill": {
              "color": "#C8D4E3"
             },
             "line": {
              "color": "white"
             }
            },
            "type": "table"
           }
          ]
         },
         "layout": {
          "annotationdefaults": {
           "arrowcolor": "#2a3f5f",
           "arrowhead": 0,
           "arrowwidth": 1
          },
          "coloraxis": {
           "colorbar": {
            "outlinewidth": 0,
            "ticks": ""
           }
          },
          "colorscale": {
           "diverging": [
            [
             0,
             "#8e0152"
            ],
            [
             0.1,
             "#c51b7d"
            ],
            [
             0.2,
             "#de77ae"
            ],
            [
             0.3,
             "#f1b6da"
            ],
            [
             0.4,
             "#fde0ef"
            ],
            [
             0.5,
             "#f7f7f7"
            ],
            [
             0.6,
             "#e6f5d0"
            ],
            [
             0.7,
             "#b8e186"
            ],
            [
             0.8,
             "#7fbc41"
            ],
            [
             0.9,
             "#4d9221"
            ],
            [
             1,
             "#276419"
            ]
           ],
           "sequential": [
            [
             0,
             "#0d0887"
            ],
            [
             0.1111111111111111,
             "#46039f"
            ],
            [
             0.2222222222222222,
             "#7201a8"
            ],
            [
             0.3333333333333333,
             "#9c179e"
            ],
            [
             0.4444444444444444,
             "#bd3786"
            ],
            [
             0.5555555555555556,
             "#d8576b"
            ],
            [
             0.6666666666666666,
             "#ed7953"
            ],
            [
             0.7777777777777778,
             "#fb9f3a"
            ],
            [
             0.8888888888888888,
             "#fdca26"
            ],
            [
             1,
             "#f0f921"
            ]
           ],
           "sequentialminus": [
            [
             0,
             "#0d0887"
            ],
            [
             0.1111111111111111,
             "#46039f"
            ],
            [
             0.2222222222222222,
             "#7201a8"
            ],
            [
             0.3333333333333333,
             "#9c179e"
            ],
            [
             0.4444444444444444,
             "#bd3786"
            ],
            [
             0.5555555555555556,
             "#d8576b"
            ],
            [
             0.6666666666666666,
             "#ed7953"
            ],
            [
             0.7777777777777778,
             "#fb9f3a"
            ],
            [
             0.8888888888888888,
             "#fdca26"
            ],
            [
             1,
             "#f0f921"
            ]
           ]
          },
          "colorway": [
           "#636efa",
           "#EF553B",
           "#00cc96",
           "#ab63fa",
           "#FFA15A",
           "#19d3f3",
           "#FF6692",
           "#B6E880",
           "#FF97FF",
           "#FECB52"
          ],
          "font": {
           "color": "#2a3f5f"
          },
          "geo": {
           "bgcolor": "white",
           "lakecolor": "white",
           "landcolor": "#E5ECF6",
           "showlakes": true,
           "showland": true,
           "subunitcolor": "white"
          },
          "hoverlabel": {
           "align": "left"
          },
          "hovermode": "closest",
          "mapbox": {
           "style": "light"
          },
          "paper_bgcolor": "white",
          "plot_bgcolor": "#E5ECF6",
          "polar": {
           "angularaxis": {
            "gridcolor": "white",
            "linecolor": "white",
            "ticks": ""
           },
           "bgcolor": "#E5ECF6",
           "radialaxis": {
            "gridcolor": "white",
            "linecolor": "white",
            "ticks": ""
           }
          },
          "scene": {
           "xaxis": {
            "backgroundcolor": "#E5ECF6",
            "gridcolor": "white",
            "gridwidth": 2,
            "linecolor": "white",
            "showbackground": true,
            "ticks": "",
            "zerolinecolor": "white"
           },
           "yaxis": {
            "backgroundcolor": "#E5ECF6",
            "gridcolor": "white",
            "gridwidth": 2,
            "linecolor": "white",
            "showbackground": true,
            "ticks": "",
            "zerolinecolor": "white"
           },
           "zaxis": {
            "backgroundcolor": "#E5ECF6",
            "gridcolor": "white",
            "gridwidth": 2,
            "linecolor": "white",
            "showbackground": true,
            "ticks": "",
            "zerolinecolor": "white"
           }
          },
          "shapedefaults": {
           "line": {
            "color": "#2a3f5f"
           }
          },
          "ternary": {
           "aaxis": {
            "gridcolor": "white",
            "linecolor": "white",
            "ticks": ""
           },
           "baxis": {
            "gridcolor": "white",
            "linecolor": "white",
            "ticks": ""
           },
           "bgcolor": "#E5ECF6",
           "caxis": {
            "gridcolor": "white",
            "linecolor": "white",
            "ticks": ""
           }
          },
          "title": {
           "x": 0.05
          },
          "xaxis": {
           "automargin": true,
           "gridcolor": "white",
           "linecolor": "white",
           "ticks": "",
           "title": {
            "standoff": 15
           },
           "zerolinecolor": "white",
           "zerolinewidth": 2
          },
          "yaxis": {
           "automargin": true,
           "gridcolor": "white",
           "linecolor": "white",
           "ticks": "",
           "title": {
            "standoff": 15
           },
           "zerolinecolor": "white",
           "zerolinewidth": 2
          }
         }
        },
        "xaxis": {
         "anchor": "y",
         "domain": [
          0,
          1
         ],
         "title": {
          "text": "x"
         }
        },
        "yaxis": {
         "anchor": "x",
         "domain": [
          0,
          1
         ],
         "title": {
          "text": "miss_rate"
         }
        }
       }
      },
      "text/html": [
       "<div>\n",
       "        \n",
       "        \n",
       "            <div id=\"d1f27642-af91-4f99-92ea-1f466e65c947\" class=\"plotly-graph-div\" style=\"height:525px; width:100%;\"></div>\n",
       "            <script type=\"text/javascript\">\n",
       "                require([\"plotly\"], function(Plotly) {\n",
       "                    window.PLOTLYENV=window.PLOTLYENV || {};\n",
       "                    \n",
       "                if (document.getElementById(\"d1f27642-af91-4f99-92ea-1f466e65c947\")) {\n",
       "                    Plotly.newPlot(\n",
       "                        'd1f27642-af91-4f99-92ea-1f466e65c947',\n",
       "                        [{\"alignmentgroup\": \"True\", \"hoverlabel\": {\"namelength\": 0}, \"hovertemplate\": \"x=%{x}<br>miss_rate=%{y}\", \"legendgroup\": \"\", \"marker\": {\"color\": \"#636efa\"}, \"name\": \"\", \"offsetgroup\": \"\", \"orientation\": \"v\", \"showlegend\": false, \"textposition\": \"auto\", \"type\": \"bar\", \"x\": [\"albumin_apache\", \"bilirubin_apache\", \"fio2_apache\", \"paco2_apache\", \"paco2_for_ph_apache\", \"pao2_apache\", \"ph_apache\", \"urineoutput_apache\", \"d1_diasbp_invasive_max\", \"d1_diasbp_invasive_min\", \"d1_mbp_invasive_max\", \"d1_mbp_invasive_min\", \"d1_sysbp_invasive_max\", \"d1_sysbp_invasive_min\", \"h1_diasbp_invasive_max\", \"h1_diasbp_invasive_min\", \"h1_mbp_invasive_max\", \"h1_mbp_invasive_min\", \"h1_sysbp_invasive_max\", \"h1_sysbp_invasive_min\", \"d1_albumin_max\", \"d1_albumin_min\", \"d1_bilirubin_max\", \"d1_bilirubin_min\", \"d1_inr_max\", \"d1_inr_min\", \"d1_lactate_max\", \"d1_lactate_min\", \"h1_albumin_max\", \"h1_albumin_min\", \"h1_bilirubin_max\", \"h1_bilirubin_min\", \"h1_bun_max\", \"h1_bun_min\", \"h1_calcium_max\", \"h1_calcium_min\", \"h1_creatinine_max\", \"h1_creatinine_min\", \"h1_glucose_max\", \"h1_glucose_min\", \"h1_hco3_max\", \"h1_hco3_min\", \"h1_hemaglobin_max\", \"h1_hemaglobin_min\", \"h1_hematocrit_max\", \"h1_hematocrit_min\", \"h1_inr_max\", \"h1_inr_min\", \"h1_lactate_max\", \"h1_lactate_min\", \"h1_platelets_max\", \"h1_platelets_min\", \"h1_potassium_max\", \"h1_potassium_min\", \"h1_sodium_max\", \"h1_sodium_min\", \"h1_wbc_max\", \"h1_wbc_min\", \"d1_arterial_pco2_max\", \"d1_arterial_pco2_min\", \"d1_arterial_ph_max\", \"d1_arterial_ph_min\", \"d1_arterial_po2_max\", \"d1_arterial_po2_min\", \"d1_pao2fio2ratio_max\", \"d1_pao2fio2ratio_min\", \"h1_arterial_pco2_max\", \"h1_arterial_pco2_min\", \"h1_arterial_ph_max\", \"h1_arterial_ph_min\", \"h1_arterial_po2_max\", \"h1_arterial_po2_min\", \"h1_pao2fio2ratio_max\", \"h1_pao2fio2ratio_min\"], \"xaxis\": \"x\", \"y\": [0.5929257575261958, 0.6338686990939125, 0.7727148822958577, 0.7727148822958577, 0.7727148822958577, 0.7727148822958577, 0.7727148822958577, 0.534253595455388, 0.7412689585991081, 0.7412689585991081, 0.7390119176125522, 0.7390119176125522, 0.7409963691079782, 0.7409963691079782, 0.8169834156553597, 0.8169834156553597, 0.816067514965163, 0.816067514965163, 0.8168416691199721, 0.8168416691199721, 0.5353221462606174, 0.5353221462606174, 0.5852278302966865, 0.5852278302966865, 0.6317643082223894, 0.6317643082223894, 0.7457612334129294, 0.7457612334129294, 0.9139816601790368, 0.9139816601790368, 0.9226500059969688, 0.9226500059969688, 0.8187606991375268, 0.8187606991375268, 0.8271782626236194, 0.8271782626236194, 0.8172996194650703, 0.8172996194650703, 0.5736809394524223, 0.5736809394524223, 0.8296969895216599, 0.8296969895216599, 0.7973024543957782, 0.7973024543957782, 0.8005408175504019, 0.8005408175504019, 0.6317643082223894, 0.6317643082223894, 0.9199241110856694, 0.9199241110856694, 0.8251065824910319, 0.8251065824910319, 0.7861698995780315, 0.7861698995780315, 0.7917852430953082, 0.7917852430953082, 0.8281595847916872, 0.8281595847916872, 0.6462660691505021, 0.6462660691505021, 0.6555559190082104, 0.6555559190082104, 0.6461679369336953, 0.6461679369336953, 0.7197234852201978, 0.7197234852201978, 0.8282250062695583, 0.8282250062695583, 0.8332951708045752, 0.8332951708045752, 0.8280723561545256, 0.8280723561545256, 0.874412569646615, 0.874412569646615], \"yaxis\": \"y\"}],\n",
       "                        {\"barmode\": \"relative\", \"legend\": {\"tracegroupgap\": 0}, \"margin\": {\"t\": 60}, \"template\": {\"data\": {\"bar\": [{\"error_x\": {\"color\": \"#2a3f5f\"}, \"error_y\": {\"color\": \"#2a3f5f\"}, \"marker\": {\"line\": {\"color\": \"#E5ECF6\", \"width\": 0.5}}, \"type\": \"bar\"}], \"barpolar\": [{\"marker\": {\"line\": {\"color\": \"#E5ECF6\", \"width\": 0.5}}, \"type\": \"barpolar\"}], \"carpet\": [{\"aaxis\": {\"endlinecolor\": \"#2a3f5f\", \"gridcolor\": \"white\", \"linecolor\": \"white\", \"minorgridcolor\": \"white\", \"startlinecolor\": \"#2a3f5f\"}, \"baxis\": {\"endlinecolor\": \"#2a3f5f\", \"gridcolor\": \"white\", \"linecolor\": \"white\", \"minorgridcolor\": \"white\", \"startlinecolor\": \"#2a3f5f\"}, \"type\": \"carpet\"}], \"choropleth\": [{\"colorbar\": {\"outlinewidth\": 0, \"ticks\": \"\"}, \"type\": \"choropleth\"}], \"contour\": [{\"colorbar\": {\"outlinewidth\": 0, \"ticks\": \"\"}, \"colorscale\": [[0.0, \"#0d0887\"], [0.1111111111111111, \"#46039f\"], [0.2222222222222222, \"#7201a8\"], [0.3333333333333333, \"#9c179e\"], [0.4444444444444444, \"#bd3786\"], [0.5555555555555556, \"#d8576b\"], [0.6666666666666666, \"#ed7953\"], [0.7777777777777778, \"#fb9f3a\"], [0.8888888888888888, \"#fdca26\"], [1.0, \"#f0f921\"]], \"type\": \"contour\"}], \"contourcarpet\": [{\"colorbar\": {\"outlinewidth\": 0, \"ticks\": \"\"}, \"type\": \"contourcarpet\"}], \"heatmap\": [{\"colorbar\": {\"outlinewidth\": 0, \"ticks\": \"\"}, \"colorscale\": [[0.0, \"#0d0887\"], [0.1111111111111111, \"#46039f\"], [0.2222222222222222, \"#7201a8\"], [0.3333333333333333, \"#9c179e\"], [0.4444444444444444, \"#bd3786\"], [0.5555555555555556, \"#d8576b\"], [0.6666666666666666, \"#ed7953\"], [0.7777777777777778, \"#fb9f3a\"], [0.8888888888888888, \"#fdca26\"], [1.0, \"#f0f921\"]], \"type\": \"heatmap\"}], \"heatmapgl\": [{\"colorbar\": {\"outlinewidth\": 0, \"ticks\": \"\"}, \"colorscale\": [[0.0, \"#0d0887\"], [0.1111111111111111, \"#46039f\"], [0.2222222222222222, \"#7201a8\"], [0.3333333333333333, \"#9c179e\"], [0.4444444444444444, \"#bd3786\"], [0.5555555555555556, \"#d8576b\"], [0.6666666666666666, \"#ed7953\"], [0.7777777777777778, \"#fb9f3a\"], [0.8888888888888888, \"#fdca26\"], [1.0, \"#f0f921\"]], \"type\": \"heatmapgl\"}], \"histogram\": [{\"marker\": {\"colorbar\": {\"outlinewidth\": 0, \"ticks\": \"\"}}, \"type\": \"histogram\"}], \"histogram2d\": [{\"colorbar\": {\"outlinewidth\": 0, \"ticks\": \"\"}, \"colorscale\": [[0.0, \"#0d0887\"], [0.1111111111111111, \"#46039f\"], [0.2222222222222222, \"#7201a8\"], [0.3333333333333333, \"#9c179e\"], [0.4444444444444444, \"#bd3786\"], [0.5555555555555556, \"#d8576b\"], [0.6666666666666666, \"#ed7953\"], [0.7777777777777778, \"#fb9f3a\"], [0.8888888888888888, \"#fdca26\"], [1.0, \"#f0f921\"]], \"type\": \"histogram2d\"}], \"histogram2dcontour\": [{\"colorbar\": {\"outlinewidth\": 0, \"ticks\": \"\"}, \"colorscale\": [[0.0, \"#0d0887\"], [0.1111111111111111, \"#46039f\"], [0.2222222222222222, \"#7201a8\"], [0.3333333333333333, \"#9c179e\"], [0.4444444444444444, \"#bd3786\"], [0.5555555555555556, \"#d8576b\"], [0.6666666666666666, \"#ed7953\"], [0.7777777777777778, \"#fb9f3a\"], [0.8888888888888888, \"#fdca26\"], [1.0, \"#f0f921\"]], \"type\": \"histogram2dcontour\"}], \"mesh3d\": [{\"colorbar\": {\"outlinewidth\": 0, \"ticks\": \"\"}, \"type\": \"mesh3d\"}], \"parcoords\": [{\"line\": {\"colorbar\": {\"outlinewidth\": 0, \"ticks\": \"\"}}, \"type\": \"parcoords\"}], \"pie\": [{\"automargin\": true, \"type\": \"pie\"}], \"scatter\": [{\"marker\": {\"colorbar\": {\"outlinewidth\": 0, \"ticks\": \"\"}}, \"type\": \"scatter\"}], \"scatter3d\": [{\"line\": {\"colorbar\": {\"outlinewidth\": 0, \"ticks\": \"\"}}, \"marker\": {\"colorbar\": {\"outlinewidth\": 0, \"ticks\": \"\"}}, \"type\": \"scatter3d\"}], \"scattercarpet\": [{\"marker\": {\"colorbar\": {\"outlinewidth\": 0, \"ticks\": \"\"}}, \"type\": \"scattercarpet\"}], \"scattergeo\": [{\"marker\": {\"colorbar\": {\"outlinewidth\": 0, \"ticks\": \"\"}}, \"type\": \"scattergeo\"}], \"scattergl\": [{\"marker\": {\"colorbar\": {\"outlinewidth\": 0, \"ticks\": \"\"}}, \"type\": \"scattergl\"}], \"scattermapbox\": [{\"marker\": {\"colorbar\": {\"outlinewidth\": 0, \"ticks\": \"\"}}, \"type\": \"scattermapbox\"}], \"scatterpolar\": [{\"marker\": {\"colorbar\": {\"outlinewidth\": 0, \"ticks\": \"\"}}, \"type\": \"scatterpolar\"}], \"scatterpolargl\": [{\"marker\": {\"colorbar\": {\"outlinewidth\": 0, \"ticks\": \"\"}}, \"type\": \"scatterpolargl\"}], \"scatterternary\": [{\"marker\": {\"colorbar\": {\"outlinewidth\": 0, \"ticks\": \"\"}}, \"type\": \"scatterternary\"}], \"surface\": [{\"colorbar\": {\"outlinewidth\": 0, \"ticks\": \"\"}, \"colorscale\": [[0.0, \"#0d0887\"], [0.1111111111111111, \"#46039f\"], [0.2222222222222222, \"#7201a8\"], [0.3333333333333333, \"#9c179e\"], [0.4444444444444444, \"#bd3786\"], [0.5555555555555556, \"#d8576b\"], [0.6666666666666666, \"#ed7953\"], [0.7777777777777778, \"#fb9f3a\"], [0.8888888888888888, \"#fdca26\"], [1.0, \"#f0f921\"]], \"type\": \"surface\"}], \"table\": [{\"cells\": {\"fill\": {\"color\": \"#EBF0F8\"}, \"line\": {\"color\": \"white\"}}, \"header\": {\"fill\": {\"color\": \"#C8D4E3\"}, \"line\": {\"color\": \"white\"}}, \"type\": \"table\"}]}, \"layout\": {\"annotationdefaults\": {\"arrowcolor\": \"#2a3f5f\", \"arrowhead\": 0, \"arrowwidth\": 1}, \"coloraxis\": {\"colorbar\": {\"outlinewidth\": 0, \"ticks\": \"\"}}, \"colorscale\": {\"diverging\": [[0, \"#8e0152\"], [0.1, \"#c51b7d\"], [0.2, \"#de77ae\"], [0.3, \"#f1b6da\"], [0.4, \"#fde0ef\"], [0.5, \"#f7f7f7\"], [0.6, \"#e6f5d0\"], [0.7, \"#b8e186\"], [0.8, \"#7fbc41\"], [0.9, \"#4d9221\"], [1, \"#276419\"]], \"sequential\": [[0.0, \"#0d0887\"], [0.1111111111111111, \"#46039f\"], [0.2222222222222222, \"#7201a8\"], [0.3333333333333333, \"#9c179e\"], [0.4444444444444444, \"#bd3786\"], [0.5555555555555556, \"#d8576b\"], [0.6666666666666666, \"#ed7953\"], [0.7777777777777778, \"#fb9f3a\"], [0.8888888888888888, \"#fdca26\"], [1.0, \"#f0f921\"]], \"sequentialminus\": [[0.0, \"#0d0887\"], [0.1111111111111111, \"#46039f\"], [0.2222222222222222, \"#7201a8\"], [0.3333333333333333, \"#9c179e\"], [0.4444444444444444, \"#bd3786\"], [0.5555555555555556, \"#d8576b\"], [0.6666666666666666, \"#ed7953\"], [0.7777777777777778, \"#fb9f3a\"], [0.8888888888888888, \"#fdca26\"], [1.0, \"#f0f921\"]]}, \"colorway\": [\"#636efa\", \"#EF553B\", \"#00cc96\", \"#ab63fa\", \"#FFA15A\", \"#19d3f3\", \"#FF6692\", \"#B6E880\", \"#FF97FF\", \"#FECB52\"], \"font\": {\"color\": \"#2a3f5f\"}, \"geo\": {\"bgcolor\": \"white\", \"lakecolor\": \"white\", \"landcolor\": \"#E5ECF6\", \"showlakes\": true, \"showland\": true, \"subunitcolor\": \"white\"}, \"hoverlabel\": {\"align\": \"left\"}, \"hovermode\": \"closest\", \"mapbox\": {\"style\": \"light\"}, \"paper_bgcolor\": \"white\", \"plot_bgcolor\": \"#E5ECF6\", \"polar\": {\"angularaxis\": {\"gridcolor\": \"white\", \"linecolor\": \"white\", \"ticks\": \"\"}, \"bgcolor\": \"#E5ECF6\", \"radialaxis\": {\"gridcolor\": \"white\", \"linecolor\": \"white\", \"ticks\": \"\"}}, \"scene\": {\"xaxis\": {\"backgroundcolor\": \"#E5ECF6\", \"gridcolor\": \"white\", \"gridwidth\": 2, \"linecolor\": \"white\", \"showbackground\": true, \"ticks\": \"\", \"zerolinecolor\": \"white\"}, \"yaxis\": {\"backgroundcolor\": \"#E5ECF6\", \"gridcolor\": \"white\", \"gridwidth\": 2, \"linecolor\": \"white\", \"showbackground\": true, \"ticks\": \"\", \"zerolinecolor\": \"white\"}, \"zaxis\": {\"backgroundcolor\": \"#E5ECF6\", \"gridcolor\": \"white\", \"gridwidth\": 2, \"linecolor\": \"white\", \"showbackground\": true, \"ticks\": \"\", \"zerolinecolor\": \"white\"}}, \"shapedefaults\": {\"line\": {\"color\": \"#2a3f5f\"}}, \"ternary\": {\"aaxis\": {\"gridcolor\": \"white\", \"linecolor\": \"white\", \"ticks\": \"\"}, \"baxis\": {\"gridcolor\": \"white\", \"linecolor\": \"white\", \"ticks\": \"\"}, \"bgcolor\": \"#E5ECF6\", \"caxis\": {\"gridcolor\": \"white\", \"linecolor\": \"white\", \"ticks\": \"\"}}, \"title\": {\"x\": 0.05}, \"xaxis\": {\"automargin\": true, \"gridcolor\": \"white\", \"linecolor\": \"white\", \"ticks\": \"\", \"title\": {\"standoff\": 15}, \"zerolinecolor\": \"white\", \"zerolinewidth\": 2}, \"yaxis\": {\"automargin\": true, \"gridcolor\": \"white\", \"linecolor\": \"white\", \"ticks\": \"\", \"title\": {\"standoff\": 15}, \"zerolinecolor\": \"white\", \"zerolinewidth\": 2}}}, \"xaxis\": {\"anchor\": \"y\", \"domain\": [0.0, 1.0], \"title\": {\"text\": \"x\"}}, \"yaxis\": {\"anchor\": \"x\", \"domain\": [0.0, 1.0], \"title\": {\"text\": \"miss_rate\"}}},\n",
       "                        {\"responsive\": true}\n",
       "                    ).then(function(){\n",
       "                            \n",
       "var gd = document.getElementById('d1f27642-af91-4f99-92ea-1f466e65c947');\n",
       "var x = new MutationObserver(function (mutations, observer) {{\n",
       "        var display = window.getComputedStyle(gd).display;\n",
       "        if (!display || display === 'none') {{\n",
       "            console.log([gd, 'removed!']);\n",
       "            Plotly.purge(gd);\n",
       "            observer.disconnect();\n",
       "        }}\n",
       "}});\n",
       "\n",
       "// Listen for the removal of the full notebook cells\n",
       "var notebookContainer = gd.closest('#notebook-container');\n",
       "if (notebookContainer) {{\n",
       "    x.observe(notebookContainer, {childList: true});\n",
       "}}\n",
       "\n",
       "// Listen for the clearing of the current output cell\n",
       "var outputEl = gd.closest('.output');\n",
       "if (outputEl) {{\n",
       "    x.observe(outputEl, {childList: true});\n",
       "}}\n",
       "\n",
       "                        })\n",
       "                };\n",
       "                });\n",
       "            </script>\n",
       "        </div>"
      ]
     },
     "metadata": {},
     "output_type": "display_data"
    }
   ],
   "source": [
    "fig = px.bar(missing_stat, x=missing_stat.index, y='miss_rate')\n",
    "fig.show()"
   ]
  },
  {
   "cell_type": "code",
   "execution_count": 26,
   "metadata": {},
   "outputs": [
    {
     "data": {
      "text/plain": [
       "albumin_apache          0.592926\n",
       "bilirubin_apache        0.633869\n",
       "fio2_apache             0.772715\n",
       "paco2_apache            0.772715\n",
       "paco2_for_ph_apache     0.772715\n",
       "                          ...   \n",
       "h1_arterial_ph_min      0.833295\n",
       "h1_arterial_po2_max     0.828072\n",
       "h1_arterial_po2_min     0.828072\n",
       "h1_pao2fio2ratio_max    0.874413\n",
       "h1_pao2fio2ratio_min    0.874413\n",
       "Name: miss_rate, Length: 74, dtype: float64"
      ]
     },
     "execution_count": 26,
     "metadata": {},
     "output_type": "execute_result"
    }
   ],
   "source": [
    "missing_stat.miss_rate"
   ]
  },
  {
   "cell_type": "code",
   "execution_count": 3,
   "metadata": {},
   "outputs": [
    {
     "ename": "NameError",
     "evalue": "name 'missing_stat' is not defined",
     "output_type": "error",
     "traceback": [
      "\u001b[0;31m---------------------------------------------------------------------------\u001b[0m",
      "\u001b[0;31mNameError\u001b[0m                                 Traceback (most recent call last)",
      "\u001b[0;32m<ipython-input-3-c667320894f0>\u001b[0m in \u001b[0;36m<module>\u001b[0;34m()\u001b[0m\n\u001b[1;32m      2\u001b[0m \u001b[0maux_mask\u001b[0m\u001b[0;34m=\u001b[0m \u001b[0mpd\u001b[0m\u001b[0;34m.\u001b[0m\u001b[0misnull\u001b[0m\u001b[0;34m(\u001b[0m\u001b[0mX\u001b[0m\u001b[0;34m)\u001b[0m\u001b[0;34m\u001b[0m\u001b[0m\n\u001b[1;32m      3\u001b[0m \u001b[0maugmented_X\u001b[0m \u001b[0;34m=\u001b[0m \u001b[0mX\u001b[0m\u001b[0;34m\u001b[0m\u001b[0m\n\u001b[0;32m----> 4\u001b[0;31m \u001b[0;32mfor\u001b[0m \u001b[0mm_var\u001b[0m \u001b[0;32min\u001b[0m \u001b[0mlist\u001b[0m\u001b[0;34m(\u001b[0m\u001b[0mmissing_stat\u001b[0m\u001b[0;34m.\u001b[0m\u001b[0mindex\u001b[0m\u001b[0;34m)\u001b[0m\u001b[0;34m:\u001b[0m\u001b[0;34m\u001b[0m\u001b[0m\n\u001b[0m\u001b[1;32m      5\u001b[0m     \u001b[0maugmented_X\u001b[0m\u001b[0;34m[\u001b[0m\u001b[0mm_var\u001b[0m\u001b[0;34m]\u001b[0m \u001b[0;34m=\u001b[0m \u001b[0maux_mask\u001b[0m\u001b[0;34m[\u001b[0m\u001b[0mm_var\u001b[0m\u001b[0;34m]\u001b[0m\u001b[0;34m\u001b[0m\u001b[0m\n\u001b[1;32m      6\u001b[0m \u001b[0maugmented_X\u001b[0m\u001b[0;34m\u001b[0m\u001b[0m\n",
      "\u001b[0;31mNameError\u001b[0m: name 'missing_stat' is not defined"
     ]
    }
   ],
   "source": [
    "#auxiliary matrix (containing the missingness indicators: 0-present, 1-absent)\n",
    "aux_mask= pd.isnull(X)\n",
    "augmented_X = X\n",
    "for m_var in list(missing_stat.index):\n",
    "    augmented_X[m_var] = aux_mask[m_var]\n",
    "augmented_X"
   ]
  },
  {
   "cell_type": "code",
   "execution_count": 4,
   "metadata": {},
   "outputs": [],
   "source": [
    "augmented_X.to_csv(\"Data/Augmented_untrained_data.csv\")"
   ]
  },
  {
   "cell_type": "markdown",
   "metadata": {},
   "source": [
    "### Data imputation\n",
    "Jenny\n",
    "\n",
    "For features that miss not a lot of data, try interpolation or matrix factorization(do it separately for train and test set)"
   ]
  },
  {
   "cell_type": "markdown",
   "metadata": {},
   "source": [
    "convert all categorial variables into dummy variables.\n",
    "For example, under body systems, there are 9 categories: \"cardiovascular\",\n",
    "\"respiratory\", \"Metabolic\" etc\n",
    "will insert 9 columns, each column containing 0 or 1\n",
    "\n",
    "- should not be a string: bmi, apache_2_diagnosis, apache_3j_diagnosis,\n",
    "- categorical variables: ethnicity, gender, hospital_admit_source, icu_admit_source, icu_admit_type, icu_stay_type, icu_type, readmission_status, apache_3j_bodysystem, apache_2_bodysystem"
   ]
  },
  {
   "cell_type": "code",
   "execution_count": null,
   "metadata": {},
   "outputs": [],
   "source": [
    "categorial_variables = ['ethnicity', 'gender', 'hospital_admit_source', 'icu_admit_source', 'icu_admit_type', 'icu_stay_type', 'icu_type', 'readmission_status', 'apache_3j_bodysystem', 'apache_2_bodysystem']"
   ]
  },
  {
   "cell_type": "code",
   "execution_count": null,
   "metadata": {},
   "outputs": [],
   "source": [
    "# some variables should remain 0\n",
    "# some variables are filled in with mean/median/ frequent etc"
   ]
  },
  {
   "cell_type": "code",
   "execution_count": 108,
   "metadata": {},
   "outputs": [
    {
     "name": "stdout",
     "output_type": "stream",
     "text": [
      "[[2.53120e+04 1.18000e+02 6.80000e+01 ... 0.00000e+00 0.00000e+00\n",
      "  0.00000e+00]\n",
      " [5.93420e+04 8.10000e+01 7.70000e+01 ... 0.00000e+00 0.00000e+00\n",
      "  0.00000e+00]\n",
      " [5.07770e+04 1.18000e+02 2.50000e+01 ... 0.00000e+00 0.00000e+00\n",
      "  0.00000e+00]\n",
      " ...\n",
      " [5.81790e+04 1.95000e+02 4.80000e+01 ... 0.00000e+00 0.00000e+00\n",
      "  0.00000e+00]\n",
      " [1.20598e+05 6.60000e+01 0.00000e+00 ... 0.00000e+00 0.00000e+00\n",
      "  0.00000e+00]\n",
      " [5.36120e+04 1.04000e+02 8.20000e+01 ... 0.00000e+00 0.00000e+00\n",
      "  0.00000e+00]]\n"
     ]
    }
   ],
   "source": [
    "from sklearn.impute import SimpleImputer\n",
    "# X_for_imputation = X.copy()\n",
    "X_for_imputation = test_floats.copy()\n",
    "\n",
    "Simple_mean = SimpleImputer(missing_values = np.nan, strategy = \"mean\")\n",
    "# Simple_median = SimpleImputer(missing_values = np.nan, strategy = \"median\")\n",
    "# Simple_frequent = SimpleImputer(missing_values = np.nan, strategy = \"most_frequent\")\n",
    "# Simple_constant = SimpleImputer(missing_values = np.nan, strategy = \"constant\")\n",
    "X_mean = X_for_imputation.copy()\n",
    "Simple_mean.fit(X_mean)\n",
    "print(Simple_mean.transform(X_mean))"
   ]
  },
  {
   "cell_type": "code",
   "execution_count": 101,
   "metadata": {},
   "outputs": [
    {
     "ename": "ImportError",
     "evalue": "No module named 'sklearn.experimental'",
     "output_type": "error",
     "traceback": [
      "\u001b[0;31m---------------------------------------------------------------------------\u001b[0m",
      "\u001b[0;31mImportError\u001b[0m                               Traceback (most recent call last)",
      "\u001b[0;32m<ipython-input-101-dad54130a191>\u001b[0m in \u001b[0;36m<module>\u001b[0;34m()\u001b[0m\n\u001b[1;32m      4\u001b[0m \u001b[0;34m\u001b[0m\u001b[0m\n\u001b[1;32m      5\u001b[0m \u001b[0;31m# require this experimental feature\u001b[0m\u001b[0;34m\u001b[0m\u001b[0;34m\u001b[0m\u001b[0m\n\u001b[0;32m----> 6\u001b[0;31m \u001b[0;32mfrom\u001b[0m \u001b[0msklearn\u001b[0m\u001b[0;34m.\u001b[0m\u001b[0mexperimental\u001b[0m \u001b[0;32mimport\u001b[0m \u001b[0menable_iterative_imputer\u001b[0m \u001b[0;31m# noqa\u001b[0m\u001b[0;34m\u001b[0m\u001b[0m\n\u001b[0m\u001b[1;32m      7\u001b[0m \u001b[0;32mfrom\u001b[0m \u001b[0msklearn\u001b[0m\u001b[0;34m.\u001b[0m\u001b[0mimpute\u001b[0m \u001b[0;32mimport\u001b[0m \u001b[0mIterativeImputer\u001b[0m\u001b[0;34m\u001b[0m\u001b[0m\n\u001b[1;32m      8\u001b[0m \u001b[0;34m\u001b[0m\u001b[0m\n",
      "\u001b[0;31mImportError\u001b[0m: No module named 'sklearn.experimental'"
     ]
    }
   ],
   "source": [
    "# iterative imputation, package is experimental\n",
    "# I ran this on my laptop for 20 minutes and it gave me this error:\n",
    "# [IterativeImputer] Early stopping criterion not reached\n",
    "\n",
    "# require this experimental feature\n",
    "from sklearn.experimental import enable_iterative_imputer # noqa\n",
    "from sklearn.impute import IterativeImputer\n",
    "\n",
    "X_for_imputation = X.copy()\n",
    "\n",
    "# iterative imputer only works with numbers, not categories\n",
    "numerics = ['int16', 'int32', 'int64', 'float16', 'float32', 'float64']\n",
    "iterative_x = X_for_imputation.selecte_dtypes(include=numerics)\n",
    "iterative = IterativeImputer()\n",
    "iterative.fit(iterative_x)"
   ]
  },
  {
   "cell_type": "code",
   "execution_count": 56,
   "metadata": {},
   "outputs": [
    {
     "ename": "ImportError",
     "evalue": "cannot import name 'KNNImputer'",
     "output_type": "error",
     "traceback": [
      "\u001b[0;31m---------------------------------------------------------------------------\u001b[0m",
      "\u001b[0;31mImportError\u001b[0m                               Traceback (most recent call last)",
      "\u001b[0;32m<ipython-input-56-99765ec2ccc8>\u001b[0m in \u001b[0;36m<module>\u001b[0;34m()\u001b[0m\n\u001b[1;32m      3\u001b[0m \u001b[0;32mimport\u001b[0m \u001b[0mnumpy\u001b[0m \u001b[0;32mas\u001b[0m \u001b[0mnp\u001b[0m\u001b[0;34m\u001b[0m\u001b[0m\n\u001b[1;32m      4\u001b[0m \u001b[0;32mfrom\u001b[0m \u001b[0msklearn\u001b[0m\u001b[0;34m.\u001b[0m\u001b[0mimpute\u001b[0m \u001b[0;32mimport\u001b[0m \u001b[0mMissingIndicator\u001b[0m\u001b[0;34m\u001b[0m\u001b[0m\n\u001b[0;32m----> 5\u001b[0;31m \u001b[0;32mfrom\u001b[0m \u001b[0msklearn\u001b[0m\u001b[0;34m.\u001b[0m\u001b[0mimpute\u001b[0m \u001b[0;32mimport\u001b[0m \u001b[0mKNNImputer\u001b[0m\u001b[0;34m\u001b[0m\u001b[0m\n\u001b[0m\u001b[1;32m      6\u001b[0m \u001b[0;34m\u001b[0m\u001b[0m\n\u001b[1;32m      7\u001b[0m \u001b[0mX_for_imputation\u001b[0m \u001b[0;34m=\u001b[0m \u001b[0mX\u001b[0m\u001b[0;34m.\u001b[0m\u001b[0mcopy\u001b[0m\u001b[0;34m(\u001b[0m\u001b[0;34m)\u001b[0m\u001b[0;34m\u001b[0m\u001b[0m\n",
      "\u001b[0;31mImportError\u001b[0m: cannot import name 'KNNImputer'"
     ]
    }
   ],
   "source": [
    "# nearest neighbor imputation\n",
    "\n",
    "import numpy as np\n",
    "from sklearn.impute import MissingIndicator\n",
    "from sklearn.impute import KNNImputer\n",
    "\n",
    "X_for_imputation = X.copy()\n",
    "indicator = MissingIndicator()\n",
    "mask_missing_values_only = indicator.fit_transform(X_for_imputation)\n",
    "mask_missing_values_only\n",
    "\n",
    "nn_imputer = KNNImputer(n_neighbors = 2, weights = \"uniform\")\n",
    "nn_imputer = KNNImputer()\n",
    "imputer.fit_transform(X_for_imputation)"
   ]
  },
  {
   "cell_type": "code",
   "execution_count": null,
   "metadata": {},
   "outputs": [],
   "source": [
    "# matrix factorization imputation"
   ]
  },
  {
   "cell_type": "markdown",
   "metadata": {},
   "source": [
    "##### PLSR\n",
    "\n",
    "PLSR can only identify at most 24% of variance in the data, not good :(. After removing non-numeric columns, and non-essential columns, I had 169 variables. Variables positively correlated with hospital death are: heart rate max min, resprate max min, death_prob, \n",
    "Variables with negative correlations are: gcs_motor, eyes, verbal, d1_spo2_min, d1_mbp_noninvasive_min.\n",
    "\n",
    "I will do imputation later as Yu suggested: If bilirubin has values then convert to 1, if cell is empty then convert to 0. Other values (such as pH) will be imputed with average. Then try PLSR again."
   ]
  },
  {
   "cell_type": "code",
   "execution_count": 24,
   "metadata": {},
   "outputs": [
    {
     "data": {
      "image/png": "[encoded data removed]",
      "text/plain": [
       "<Figure size 1080x1080 with 1 Axes>"
      ]
     },
     "metadata": {
      "needs_background": "light"
     },
     "output_type": "display_data"
    }
   ],
   "source": [
    "# PCA to identify important components, just for understanding\n",
    "# variables in the top right and bottow left quadrants are correlated with outcome\n",
    "\n",
    "from sklearn.cross_decomposition import PLSRegression\n",
    "from sklearn.preprocessing import scale\n",
    "import matplotlib.pyplot as plt\n",
    "\n",
    "og_training = training_v2.copy() # ((91713, 186))\n",
    "# the following columns are deleted, because redundant information, or not useful\n",
    "# height and weight are represented by the variable bmi\n",
    "# readmission_status are all 0\n",
    "# 4 ph values have low variance, also measurement is insensitive, pH values do not indicate patient health well\n",
    "deleted_variables = ['encounter_id', 'height', 'weight', 'readmission_status', 'd1_arterial_ph_max',\n",
    "                    'd1_arterial_ph_min', 'h1_arterial_ph_max', 'h1_arterial_ph_min']\n",
    "cleaned_training = og_training.drop(deleted_variables,1) # (91713, 178)\n",
    "n_missing = cleaned_training.isnull().sum()\n",
    "missing_n_per_col = list(zip(list(cleaned_training), n_missing))\n",
    "# number of missing cells per column\n",
    "missing_n_per_col.sort(key = lambda x:x[1], reverse = True);\n",
    "\n",
    "true_y = np.asarray(cleaned_training['hospital_death'])\n",
    "test_j = cleaned_training.drop(\"hospital_death\", 1)\n",
    "\n",
    "# remove non-numeric columns\n",
    "numerics = ['int16', 'int32', 'int64', 'float16', 'float32', 'float64']\n",
    "test_floats = np.asarray(test_j.select_dtypes(include=numerics).fillna(0)) # (91713, 119)\n",
    "\n",
    "PLSRmodel = PLSRegression(n_components=15)\n",
    "PLSRmodel.fit_transform(test_floats, true_y);\n",
    "xloadscores, yloadscores = PLSRmodel.x_loadings_, PLSRmodel.y_loadings_\n",
    "\n",
    "plt.figure(figsize=(15,15))\n",
    "plt.xlim(-0.2, 0.25)\n",
    "plt.ylim(-0.2, 0.1)\n",
    "plt.xlabel('PC1')\n",
    "plt.ylabel('PC2')\n",
    "plt.scatter(xloadscores[:, 0], xloadscores[:, 1], c='b', marker='^')\n",
    "plt.scatter(yloadscores[:, 0], yloadscores[:, 1], c='r', marker='o')\n",
    "plt.axhline(0, linestyle = \":\")\n",
    "plt.axvline(0, linestyle = \":\")\n",
    "plt.annotate('hospital_death', (yloadscores[:, 0], yloadscores[:, 1]))\n",
    "column_names = list(test_j.select_dtypes(include=numerics))\n",
    "for i, label in enumerate(column_names):\n",
    "    plt.annotate(label, (xloadscores[i, 0], xloadscores[i, 1]));"
   ]
  },
  {
   "cell_type": "code",
   "execution_count": 128,
   "metadata": {
    "scrolled": false
   },
   "outputs": [
    {
     "name": "stdout",
     "output_type": "stream",
     "text": [
      "TP rate is 0.9649275639036731\n",
      "FN rate is 0.03507243609632688\n",
      "FP rate is 0.5706885660138976\n",
      "TN rate is 0.42931143398610233\n"
     ]
    }
   ],
   "source": [
    "# PLSR prediction on training data (augmented_X) (185 variables)\n",
    "# if in the future want to try different imputation methods, just change input_data\n",
    "input_data = augmented_X\n",
    "\n",
    "from sklearn.cross_decomposition import PLSRegression\n",
    "from sklearn.preprocessing import scale\n",
    "\n",
    "\n",
    "cleaned_testing = input_data.copy()\n",
    "# remove non-numerical variables\n",
    "numerics = ['int16', 'int32', 'int64', 'float16', 'float32', 'float64']\n",
    "training_set = cleaned_testing.select_dtypes(include=numerics)\n",
    "# change NaN to 0, this step shouldn't be here? input matrix shouldn't have NaN\n",
    "training_set = np.asarray(training_set.fillna(0))\n",
    "\n",
    "# R^2 value with 5 components is 0.23011710092292928\n",
    "# R^2 value with 10 components is 0.2378901747393631\n",
    "# R^2 value with 15 components is 0.24083956607470738\n",
    "# R^2 value with 25 components is 0.24233640027140324\n",
    "\n",
    "PLSRmodel = PLSRegression(n_components = 15)\n",
    "PLSRmodel.fit_transform(training_set, true_y)\n",
    "train_predictions = PLSRmodel.predict(training_set)\n",
    "\n",
    "# define threshold\n",
    "\n",
    "def PLSR_threshold (input_prediction, threshold):\n",
    "    binary_output = np.zeros(input_prediction.shape)\n",
    "    for idx, patient in enumerate(input_prediction):\n",
    "        if patient <= threshold:\n",
    "            binary_output[idx] = 0\n",
    "        else:\n",
    "            binary_output[idx] = 1\n",
    "            \n",
    "    return binary_output\n",
    "\n",
    "converted_prediction = PLSR_threshold(train_predictions, 0.3)\n",
    "converted_prediction = [int(i) for i in converted_prediction]\n",
    "\n",
    "\n",
    "def truth_table(real, pred):\n",
    "    # positive = no death\n",
    "    # negative = death\n",
    "    true_positive = 0# real no death, predicted no death\n",
    "    false_positive = 0 # real death, predicted no death\n",
    "    false_negative = 0 # real no death, predicted death\n",
    "    true_negative = 0 # real death, predicted death\n",
    "    for idx, subject in enumerate(real):\n",
    "        \n",
    "        # real patient no death\n",
    "        if subject == 0:\n",
    "            \n",
    "            # predicted no death\n",
    "            if pred[idx] == 0:\n",
    "                # true positive\n",
    "                true_positive += 1\n",
    "                \n",
    "            else:\n",
    "                # pred[idx] >= threshold\n",
    "                # predicted death\n",
    "                # false negative\n",
    "                false_negative += 1\n",
    "        \n",
    "        # real patient is death\n",
    "        else:\n",
    "            \n",
    "            # predicted no death\n",
    "            if pred[idx] == 0:\n",
    "                # false positive\n",
    "                false_positive += 1\n",
    "            \n",
    "            # predicted death\n",
    "            else:\n",
    "                # pred[idx] >= threshold\n",
    "                # prediced death\n",
    "                # true negative\n",
    "                true_negative += 1\n",
    "        \n",
    "        num_real_death = 7915\n",
    "        num_no_death = 83798\n",
    "                \n",
    "    print(\"TP rate is\", true_positive/num_no_death)\n",
    "    print(\"FN rate is\", false_negative/num_no_death)\n",
    "    print(\"FP rate is\", false_positive/num_real_death)\n",
    "    print('TN rate is', true_negative/num_real_death)\n",
    "    return true_positive, false_positive, false_negative, true_negative\n",
    "    \n",
    "tp, fp, fn, tn = truth_table(true_y, converted_prediction)"
   ]
  },
  {
   "cell_type": "code",
   "execution_count": 71,
   "metadata": {},
   "outputs": [
    {
     "ename": "ValueError",
     "evalue": "Input contains NaN, infinity or a value too large for dtype('float64').",
     "output_type": "error",
     "traceback": [
      "\u001b[0;31m---------------------------------------------------------------------------\u001b[0m",
      "\u001b[0;31mValueError\u001b[0m                                Traceback (most recent call last)",
      "\u001b[0;32m<ipython-input-71-280dc7af3486>\u001b[0m in \u001b[0;36m<module>\u001b[0;34m()\u001b[0m\n\u001b[1;32m     10\u001b[0m \u001b[0;34m\u001b[0m\u001b[0m\n\u001b[1;32m     11\u001b[0m \u001b[0mPLSRpredict\u001b[0m \u001b[0;34m=\u001b[0m \u001b[0mPLSRegression\u001b[0m\u001b[0;34m(\u001b[0m\u001b[0mn_components\u001b[0m \u001b[0;34m=\u001b[0m \u001b[0;36m15\u001b[0m\u001b[0;34m)\u001b[0m\u001b[0;34m\u001b[0m\u001b[0m\n\u001b[0;32m---> 12\u001b[0;31m \u001b[0mPLSRpredict\u001b[0m\u001b[0;34m.\u001b[0m\u001b[0mfit_transform\u001b[0m\u001b[0;34m(\u001b[0m\u001b[0mtest_set\u001b[0m\u001b[0;34m)\u001b[0m\u001b[0;34m\u001b[0m\u001b[0m\n\u001b[0m\u001b[1;32m     13\u001b[0m \u001b[0mtest_predictions\u001b[0m \u001b[0;34m=\u001b[0m \u001b[0mPLSRpredict\u001b[0m\u001b[0;34m.\u001b[0m\u001b[0mpredict\u001b[0m\u001b[0;34m(\u001b[0m\u001b[0mtest_set\u001b[0m\u001b[0;34m)\u001b[0m\u001b[0;34m\u001b[0m\u001b[0m\n",
      "\u001b[0;32m/usr/local/lib/python3.5/dist-packages/sklearn/cross_decomposition/pls_.py\u001b[0m in \u001b[0;36mfit_transform\u001b[0;34m(self, X, y)\u001b[0m\n\u001b[1;32m    454\u001b[0m         \u001b[0mx_scores\u001b[0m \u001b[0;32mif\u001b[0m \u001b[0mY\u001b[0m \u001b[0;32mis\u001b[0m \u001b[0;32mnot\u001b[0m \u001b[0mgiven\u001b[0m\u001b[0;34m,\u001b[0m \u001b[0;34m(\u001b[0m\u001b[0mx_scores\u001b[0m\u001b[0;34m,\u001b[0m \u001b[0my_scores\u001b[0m\u001b[0;34m)\u001b[0m \u001b[0motherwise\u001b[0m\u001b[0;34m.\u001b[0m\u001b[0;34m\u001b[0m\u001b[0m\n\u001b[1;32m    455\u001b[0m         \"\"\"\n\u001b[0;32m--> 456\u001b[0;31m         \u001b[0;32mreturn\u001b[0m \u001b[0mself\u001b[0m\u001b[0;34m.\u001b[0m\u001b[0mfit\u001b[0m\u001b[0;34m(\u001b[0m\u001b[0mX\u001b[0m\u001b[0;34m,\u001b[0m \u001b[0my\u001b[0m\u001b[0;34m)\u001b[0m\u001b[0;34m.\u001b[0m\u001b[0mtransform\u001b[0m\u001b[0;34m(\u001b[0m\u001b[0mX\u001b[0m\u001b[0;34m,\u001b[0m \u001b[0my\u001b[0m\u001b[0;34m)\u001b[0m\u001b[0;34m\u001b[0m\u001b[0m\n\u001b[0m\u001b[1;32m    457\u001b[0m \u001b[0;34m\u001b[0m\u001b[0m\n\u001b[1;32m    458\u001b[0m \u001b[0;34m\u001b[0m\u001b[0m\n",
      "\u001b[0;32m/usr/local/lib/python3.5/dist-packages/sklearn/cross_decomposition/pls_.py\u001b[0m in \u001b[0;36mfit\u001b[0;34m(self, X, Y)\u001b[0m\n\u001b[1;32m    251\u001b[0m         X = check_array(X, dtype=np.float64, copy=self.copy,\n\u001b[1;32m    252\u001b[0m                         ensure_min_samples=2)\n\u001b[0;32m--> 253\u001b[0;31m         \u001b[0mY\u001b[0m \u001b[0;34m=\u001b[0m \u001b[0mcheck_array\u001b[0m\u001b[0;34m(\u001b[0m\u001b[0mY\u001b[0m\u001b[0;34m,\u001b[0m \u001b[0mdtype\u001b[0m\u001b[0;34m=\u001b[0m\u001b[0mnp\u001b[0m\u001b[0;34m.\u001b[0m\u001b[0mfloat64\u001b[0m\u001b[0;34m,\u001b[0m \u001b[0mcopy\u001b[0m\u001b[0;34m=\u001b[0m\u001b[0mself\u001b[0m\u001b[0;34m.\u001b[0m\u001b[0mcopy\u001b[0m\u001b[0;34m,\u001b[0m \u001b[0mensure_2d\u001b[0m\u001b[0;34m=\u001b[0m\u001b[0;32mFalse\u001b[0m\u001b[0;34m)\u001b[0m\u001b[0;34m\u001b[0m\u001b[0m\n\u001b[0m\u001b[1;32m    254\u001b[0m         \u001b[0;32mif\u001b[0m \u001b[0mY\u001b[0m\u001b[0;34m.\u001b[0m\u001b[0mndim\u001b[0m \u001b[0;34m==\u001b[0m \u001b[0;36m1\u001b[0m\u001b[0;34m:\u001b[0m\u001b[0;34m\u001b[0m\u001b[0m\n\u001b[1;32m    255\u001b[0m             \u001b[0mY\u001b[0m \u001b[0;34m=\u001b[0m \u001b[0mY\u001b[0m\u001b[0;34m.\u001b[0m\u001b[0mreshape\u001b[0m\u001b[0;34m(\u001b[0m\u001b[0;34m-\u001b[0m\u001b[0;36m1\u001b[0m\u001b[0;34m,\u001b[0m \u001b[0;36m1\u001b[0m\u001b[0;34m)\u001b[0m\u001b[0;34m\u001b[0m\u001b[0m\n",
      "\u001b[0;32m/usr/local/lib/python3.5/dist-packages/sklearn/utils/validation.py\u001b[0m in \u001b[0;36mcheck_array\u001b[0;34m(array, accept_sparse, accept_large_sparse, dtype, order, copy, force_all_finite, ensure_2d, allow_nd, ensure_min_samples, ensure_min_features, warn_on_dtype, estimator)\u001b[0m\n\u001b[1;32m    571\u001b[0m         \u001b[0;32mif\u001b[0m \u001b[0mforce_all_finite\u001b[0m\u001b[0;34m:\u001b[0m\u001b[0;34m\u001b[0m\u001b[0m\n\u001b[1;32m    572\u001b[0m             _assert_all_finite(array,\n\u001b[0;32m--> 573\u001b[0;31m                                allow_nan=force_all_finite == 'allow-nan')\n\u001b[0m\u001b[1;32m    574\u001b[0m \u001b[0;34m\u001b[0m\u001b[0m\n\u001b[1;32m    575\u001b[0m     \u001b[0mshape_repr\u001b[0m \u001b[0;34m=\u001b[0m \u001b[0m_shape_repr\u001b[0m\u001b[0;34m(\u001b[0m\u001b[0marray\u001b[0m\u001b[0;34m.\u001b[0m\u001b[0mshape\u001b[0m\u001b[0;34m)\u001b[0m\u001b[0;34m\u001b[0m\u001b[0m\n",
      "\u001b[0;32m/usr/local/lib/python3.5/dist-packages/sklearn/utils/validation.py\u001b[0m in \u001b[0;36m_assert_all_finite\u001b[0;34m(X, allow_nan)\u001b[0m\n\u001b[1;32m     54\u001b[0m                 not allow_nan and not np.isfinite(X).all()):\n\u001b[1;32m     55\u001b[0m             \u001b[0mtype_err\u001b[0m \u001b[0;34m=\u001b[0m \u001b[0;34m'infinity'\u001b[0m \u001b[0;32mif\u001b[0m \u001b[0mallow_nan\u001b[0m \u001b[0;32melse\u001b[0m \u001b[0;34m'NaN, infinity'\u001b[0m\u001b[0;34m\u001b[0m\u001b[0m\n\u001b[0;32m---> 56\u001b[0;31m             \u001b[0;32mraise\u001b[0m \u001b[0mValueError\u001b[0m\u001b[0;34m(\u001b[0m\u001b[0mmsg_err\u001b[0m\u001b[0;34m.\u001b[0m\u001b[0mformat\u001b[0m\u001b[0;34m(\u001b[0m\u001b[0mtype_err\u001b[0m\u001b[0;34m,\u001b[0m \u001b[0mX\u001b[0m\u001b[0;34m.\u001b[0m\u001b[0mdtype\u001b[0m\u001b[0;34m)\u001b[0m\u001b[0;34m)\u001b[0m\u001b[0;34m\u001b[0m\u001b[0m\n\u001b[0m\u001b[1;32m     57\u001b[0m \u001b[0;34m\u001b[0m\u001b[0m\n\u001b[1;32m     58\u001b[0m \u001b[0;34m\u001b[0m\u001b[0m\n",
      "\u001b[0;31mValueError\u001b[0m: Input contains NaN, infinity or a value too large for dtype('float64')."
     ]
    }
   ],
   "source": [
    "# PLSR prediction on test data\n",
    "\n",
    "from sklearn.cross_decomposition import PLSRegression\n",
    "\n",
    "cleaned_testing =test.copy()\n",
    "# cleaned_testing = cleaned_testing.drop(deleted_variables,1)\n",
    "numerics = ['int16', 'int32', 'int64', 'float16', 'float32', 'float64']\n",
    "test_set = np.asarray(cleaned_testing.select_dtypes(include=numerics).fillna(0))\n",
    "# print(test_set)\n",
    "\n",
    "PLSRpredict = PLSRegression(n_components = 15)\n",
    "PLSRpredict.fit_transform(test_set)\n",
    "test_predictions = PLSRpredict.predict(test_set)"
   ]
  },
  {
   "cell_type": "code",
   "execution_count": null,
   "metadata": {},
   "outputs": [],
   "source": [
    "#before imputation, should delete categorical "
   ]
  },
  {
   "cell_type": "code",
   "execution_count": 46,
   "metadata": {},
   "outputs": [],
   "source": [
    "#impute values based on different methods\n",
    "\n",
    "#method 1: just fill in 0 for all NA\n",
    "sim_impute_X = augmented_X.fillna(0)\n",
    "\n",
    "#method 2: impute based on univariate features (mean,median, most frequent)\n",
    "#problem with using this is... significant APACHE var influenced are probably biased  \n",
    "freq_impute = SimpleImputer(missing_values = np.nan, strategy='most_frequent')\n",
    "freq_impute.fit(augmented_X)\n",
    "freq_impute_X = mean_impute.transform(augmented_X)\n",
    "freq_impute_X = pd.DataFrame(mean_impute_X, columns= augmented_X.columns) \n",
    "\n",
    "\n",
    "#method 3: multple imputations\n",
    "\n",
    "\n",
    "#method 4: matrix factorization\n",
    "\n",
    "\n",
    "\n",
    "imputed_X = sim_impute_X"
   ]
  },
  {
   "cell_type": "code",
   "execution_count": 43,
   "metadata": {},
   "outputs": [],
   "source": []
  },
  {
   "cell_type": "code",
   "execution_count": null,
   "metadata": {},
   "outputs": [],
   "source": []
  },
  {
   "cell_type": "code",
   "execution_count": null,
   "metadata": {},
   "outputs": [],
   "source": []
  },
  {
   "cell_type": "code",
   "execution_count": null,
   "metadata": {},
   "outputs": [],
   "source": []
  },
  {
   "cell_type": "markdown",
   "metadata": {},
   "source": [
    "### Feature selection\n",
    "Yu\n",
    "\n",
    "remove Collinear (highly correlated) features\n",
    "\n",
    "(Optional)remove Features with zero importance in a tree-based model\n"
   ]
  },
  {
   "cell_type": "code",
   "execution_count": 18,
   "metadata": {},
   "outputs": [
    {
     "data": {
      "text/html": [
       "<div>\n",
       "<style scoped>\n",
       "    .dataframe tbody tr th:only-of-type {\n",
       "        vertical-align: middle;\n",
       "    }\n",
       "\n",
       "    .dataframe tbody tr th {\n",
       "        vertical-align: top;\n",
       "    }\n",
       "\n",
       "    .dataframe thead th {\n",
       "        text-align: right;\n",
       "    }\n",
       "</style>\n",
       "<table border=\"1\" class=\"dataframe\">\n",
       "  <thead>\n",
       "    <tr style=\"text-align: right;\">\n",
       "      <th></th>\n",
       "      <th>encounter_id</th>\n",
       "      <th>patient_id</th>\n",
       "      <th>hospital_id</th>\n",
       "      <th>age</th>\n",
       "      <th>bmi</th>\n",
       "      <th>elective_surgery</th>\n",
       "      <th>height</th>\n",
       "      <th>icu_id</th>\n",
       "      <th>pre_icu_los_days</th>\n",
       "      <th>readmission_status</th>\n",
       "      <th>...</th>\n",
       "      <th>apache_4a_hospital_death_prob</th>\n",
       "      <th>apache_4a_icu_death_prob</th>\n",
       "      <th>aids</th>\n",
       "      <th>cirrhosis</th>\n",
       "      <th>diabetes_mellitus</th>\n",
       "      <th>hepatic_failure</th>\n",
       "      <th>immunosuppression</th>\n",
       "      <th>leukemia</th>\n",
       "      <th>lymphoma</th>\n",
       "      <th>solid_tumor_with_metastasis</th>\n",
       "    </tr>\n",
       "  </thead>\n",
       "  <tbody>\n",
       "    <tr>\n",
       "      <td>encounter_id</td>\n",
       "      <td>1.000000</td>\n",
       "      <td>0.009575</td>\n",
       "      <td>0.004532</td>\n",
       "      <td>0.003990</td>\n",
       "      <td>0.001068</td>\n",
       "      <td>0.002036</td>\n",
       "      <td>0.005400</td>\n",
       "      <td>0.000992</td>\n",
       "      <td>0.000570</td>\n",
       "      <td>NaN</td>\n",
       "      <td>...</td>\n",
       "      <td>0.000513</td>\n",
       "      <td>0.000344</td>\n",
       "      <td>0.001907</td>\n",
       "      <td>0.007601</td>\n",
       "      <td>0.003402</td>\n",
       "      <td>0.000972</td>\n",
       "      <td>0.001707</td>\n",
       "      <td>0.002172</td>\n",
       "      <td>0.001176</td>\n",
       "      <td>0.004646</td>\n",
       "    </tr>\n",
       "    <tr>\n",
       "      <td>patient_id</td>\n",
       "      <td>0.009575</td>\n",
       "      <td>1.000000</td>\n",
       "      <td>0.007075</td>\n",
       "      <td>0.006343</td>\n",
       "      <td>0.001380</td>\n",
       "      <td>0.001387</td>\n",
       "      <td>0.002902</td>\n",
       "      <td>0.001770</td>\n",
       "      <td>0.004412</td>\n",
       "      <td>NaN</td>\n",
       "      <td>...</td>\n",
       "      <td>0.003735</td>\n",
       "      <td>0.001625</td>\n",
       "      <td>0.002426</td>\n",
       "      <td>0.001307</td>\n",
       "      <td>0.000434</td>\n",
       "      <td>0.001667</td>\n",
       "      <td>0.000548</td>\n",
       "      <td>0.000844</td>\n",
       "      <td>0.002333</td>\n",
       "      <td>0.003065</td>\n",
       "    </tr>\n",
       "    <tr>\n",
       "      <td>hospital_id</td>\n",
       "      <td>0.004532</td>\n",
       "      <td>0.007075</td>\n",
       "      <td>1.000000</td>\n",
       "      <td>0.008673</td>\n",
       "      <td>0.012874</td>\n",
       "      <td>0.052123</td>\n",
       "      <td>0.027895</td>\n",
       "      <td>0.004526</td>\n",
       "      <td>0.001285</td>\n",
       "      <td>NaN</td>\n",
       "      <td>...</td>\n",
       "      <td>0.006993</td>\n",
       "      <td>0.000283</td>\n",
       "      <td>0.004947</td>\n",
       "      <td>0.002962</td>\n",
       "      <td>0.011978</td>\n",
       "      <td>0.001362</td>\n",
       "      <td>0.000146</td>\n",
       "      <td>0.002992</td>\n",
       "      <td>0.002588</td>\n",
       "      <td>0.004730</td>\n",
       "    </tr>\n",
       "    <tr>\n",
       "      <td>age</td>\n",
       "      <td>0.003990</td>\n",
       "      <td>0.006343</td>\n",
       "      <td>0.008673</td>\n",
       "      <td>1.000000</td>\n",
       "      <td>0.087077</td>\n",
       "      <td>0.067320</td>\n",
       "      <td>0.109937</td>\n",
       "      <td>0.024257</td>\n",
       "      <td>0.049872</td>\n",
       "      <td>NaN</td>\n",
       "      <td>...</td>\n",
       "      <td>0.143167</td>\n",
       "      <td>0.076275</td>\n",
       "      <td>0.029477</td>\n",
       "      <td>0.028065</td>\n",
       "      <td>0.077908</td>\n",
       "      <td>0.020061</td>\n",
       "      <td>0.025007</td>\n",
       "      <td>0.030310</td>\n",
       "      <td>0.023335</td>\n",
       "      <td>0.025924</td>\n",
       "    </tr>\n",
       "    <tr>\n",
       "      <td>bmi</td>\n",
       "      <td>0.001068</td>\n",
       "      <td>0.001380</td>\n",
       "      <td>0.012874</td>\n",
       "      <td>0.087077</td>\n",
       "      <td>1.000000</td>\n",
       "      <td>0.015921</td>\n",
       "      <td>0.056316</td>\n",
       "      <td>0.001403</td>\n",
       "      <td>0.001531</td>\n",
       "      <td>NaN</td>\n",
       "      <td>...</td>\n",
       "      <td>0.033546</td>\n",
       "      <td>0.013796</td>\n",
       "      <td>0.020434</td>\n",
       "      <td>0.002377</td>\n",
       "      <td>0.172943</td>\n",
       "      <td>0.001855</td>\n",
       "      <td>0.031144</td>\n",
       "      <td>0.013375</td>\n",
       "      <td>0.010017</td>\n",
       "      <td>0.043380</td>\n",
       "    </tr>\n",
       "  </tbody>\n",
       "</table>\n",
       "<p>5 rows × 177 columns</p>\n",
       "</div>"
      ],
      "text/plain": [
       "              encounter_id  patient_id  hospital_id       age       bmi  \\\n",
       "encounter_id      1.000000    0.009575     0.004532  0.003990  0.001068   \n",
       "patient_id        0.009575    1.000000     0.007075  0.006343  0.001380   \n",
       "hospital_id       0.004532    0.007075     1.000000  0.008673  0.012874   \n",
       "age               0.003990    0.006343     0.008673  1.000000  0.087077   \n",
       "bmi               0.001068    0.001380     0.012874  0.087077  1.000000   \n",
       "\n",
       "              elective_surgery    height    icu_id  pre_icu_los_days  \\\n",
       "encounter_id          0.002036  0.005400  0.000992          0.000570   \n",
       "patient_id            0.001387  0.002902  0.001770          0.004412   \n",
       "hospital_id           0.052123  0.027895  0.004526          0.001285   \n",
       "age                   0.067320  0.109937  0.024257          0.049872   \n",
       "bmi                   0.015921  0.056316  0.001403          0.001531   \n",
       "\n",
       "              readmission_status  ...  apache_4a_hospital_death_prob  \\\n",
       "encounter_id                 NaN  ...                       0.000513   \n",
       "patient_id                   NaN  ...                       0.003735   \n",
       "hospital_id                  NaN  ...                       0.006993   \n",
       "age                          NaN  ...                       0.143167   \n",
       "bmi                          NaN  ...                       0.033546   \n",
       "\n",
       "              apache_4a_icu_death_prob      aids  cirrhosis  \\\n",
       "encounter_id                  0.000344  0.001907   0.007601   \n",
       "patient_id                    0.001625  0.002426   0.001307   \n",
       "hospital_id                   0.000283  0.004947   0.002962   \n",
       "age                           0.076275  0.029477   0.028065   \n",
       "bmi                           0.013796  0.020434   0.002377   \n",
       "\n",
       "              diabetes_mellitus  hepatic_failure  immunosuppression  leukemia  \\\n",
       "encounter_id           0.003402         0.000972           0.001707  0.002172   \n",
       "patient_id             0.000434         0.001667           0.000548  0.000844   \n",
       "hospital_id            0.011978         0.001362           0.000146  0.002992   \n",
       "age                    0.077908         0.020061           0.025007  0.030310   \n",
       "bmi                    0.172943         0.001855           0.031144  0.013375   \n",
       "\n",
       "              lymphoma  solid_tumor_with_metastasis  \n",
       "encounter_id  0.001176                     0.004646  \n",
       "patient_id    0.002333                     0.003065  \n",
       "hospital_id   0.002588                     0.004730  \n",
       "age           0.023335                     0.025924  \n",
       "bmi           0.010017                     0.043380  \n",
       "\n",
       "[5 rows x 177 columns]"
      ]
     },
     "execution_count": 18,
     "metadata": {},
     "output_type": "execute_result"
    }
   ],
   "source": [
    "# Remove the colinear features\n",
    "# threshold for the correlation\n",
    "threshold = 0.9\n",
    "\n",
    "# Absolute value correlation matrix\n",
    "corr_matrix = X.corr().abs()\n",
    "corr_matrix.head()"
   ]
  },
  {
   "cell_type": "code",
   "execution_count": 19,
   "metadata": {},
   "outputs": [
    {
     "name": "stdout",
     "output_type": "stream",
     "text": [
      "There are 59 columns to be removed.\n",
      "These are columns to be removed ['apache_post_operative', 'paco2_for_ph_apache', 'd1_diasbp_noninvasive_max', 'd1_diasbp_noninvasive_min', 'd1_mbp_noninvasive_max', 'd1_mbp_noninvasive_min', 'd1_sysbp_noninvasive_max', 'd1_sysbp_noninvasive_min', 'h1_diasbp_noninvasive_max', 'h1_diasbp_noninvasive_min', 'h1_mbp_noninvasive_max', 'h1_mbp_noninvasive_min', 'h1_sysbp_noninvasive_max', 'h1_sysbp_noninvasive_min', 'd1_albumin_max', 'd1_albumin_min', 'd1_bilirubin_max', 'd1_bilirubin_min', 'd1_bun_max', 'd1_bun_min', 'd1_creatinine_max', 'd1_creatinine_min', 'd1_glucose_max', 'd1_hemaglobin_min', 'd1_hematocrit_max', 'd1_hematocrit_min', 'd1_platelets_min', 'd1_sodium_min', 'd1_wbc_max', 'd1_wbc_min', 'h1_albumin_min', 'h1_bilirubin_max', 'h1_bilirubin_min', 'h1_bun_max', 'h1_bun_min', 'h1_calcium_min', 'h1_creatinine_max', 'h1_creatinine_min', 'h1_glucose_min', 'h1_hco3_max', 'h1_hco3_min', 'h1_hemaglobin_max', 'h1_hemaglobin_min', 'h1_hematocrit_max', 'h1_hematocrit_min', 'h1_inr_max', 'h1_inr_min', 'h1_lactate_max', 'h1_lactate_min', 'h1_platelets_max', 'h1_platelets_min', 'h1_potassium_min', 'h1_sodium_min', 'h1_wbc_max', 'h1_wbc_min', 'h1_arterial_pco2_max', 'h1_arterial_pco2_min', 'h1_arterial_ph_min', 'h1_pao2fio2ratio_min']\n"
     ]
    }
   ],
   "source": [
    "# Upper triangle of correlations\n",
    "upper = corr_matrix.where(np.triu(np.ones(corr_matrix.shape), k=1).astype(np.bool))\n",
    "upper.head()\n",
    "# Select columns with correlations above threshold\n",
    "to_drop = [column for column in upper.columns if any(upper[column] > threshold)]\n",
    "print('There are %d columns to be removed.' % (len(to_drop)))\n",
    "print(\"These are columns to be removed\", to_drop)\n",
    "#Drop the columns with high correlations\n",
    "X = X.drop(columns = to_drop)"
   ]
  },
  {
   "cell_type": "markdown",
   "metadata": {},
   "source": [
    "### Features preprocessing\n",
    "\n",
    "convert features into their correct form, categories to categories, numeric number to real number\n"
   ]
  },
  {
   "cell_type": "code",
   "execution_count": 33,
   "metadata": {},
   "outputs": [],
   "source": [
    "from sklearn import preprocessing"
   ]
  },
  {
   "cell_type": "code",
   "execution_count": 1,
   "metadata": {
    "scrolled": true
   },
   "outputs": [
    {
     "ename": "NameError",
     "evalue": "name 'X' is not defined",
     "output_type": "error",
     "traceback": [
      "\u001b[1;31m---------------------------------------------------------------------------\u001b[0m",
      "\u001b[1;31mNameError\u001b[0m                                 Traceback (most recent call last)",
      "\u001b[1;32m<ipython-input-1-6553d95dc43b>\u001b[0m in \u001b[0;36m<module>\u001b[1;34m\u001b[0m\n\u001b[0;32m      5\u001b[0m categories = [ 'hospital_id','ethnicity','gender','hospital_admit_source','icu_admit_source',\n\u001b[0;32m      6\u001b[0m               'icu_stay_type','apache_3j_bodysystem','apache_2_bodysystem']\n\u001b[1;32m----> 7\u001b[1;33m \u001b[0mx_copy\u001b[0m \u001b[1;33m=\u001b[0m \u001b[0mX\u001b[0m\u001b[1;33m.\u001b[0m\u001b[0mastype\u001b[0m\u001b[1;33m(\u001b[0m\u001b[1;33m{\u001b[0m\u001b[1;34m'hospital_id'\u001b[0m\u001b[1;33m:\u001b[0m \u001b[1;34m'object'\u001b[0m\u001b[1;33m}\u001b[0m\u001b[1;33m)\u001b[0m\u001b[1;33m\u001b[0m\u001b[1;33m\u001b[0m\u001b[0m\n\u001b[0m\u001b[0;32m      8\u001b[0m \u001b[0mcategorical\u001b[0m \u001b[1;33m=\u001b[0m \u001b[0mpd\u001b[0m\u001b[1;33m.\u001b[0m\u001b[0mget_dummies\u001b[0m\u001b[1;33m(\u001b[0m\u001b[0mx_copy\u001b[0m\u001b[1;33m[\u001b[0m\u001b[0mcategories\u001b[0m\u001b[1;33m]\u001b[0m\u001b[1;33m,\u001b[0m \u001b[0mdummy_na\u001b[0m\u001b[1;33m=\u001b[0m\u001b[1;32mTrue\u001b[0m\u001b[1;33m)\u001b[0m\u001b[1;33m\u001b[0m\u001b[1;33m\u001b[0m\u001b[0m\n\u001b[0;32m      9\u001b[0m \u001b[0mcontinuous\u001b[0m \u001b[1;33m=\u001b[0m \u001b[0mX\u001b[0m\u001b[1;33m.\u001b[0m\u001b[0mdrop\u001b[0m\u001b[1;33m(\u001b[0m\u001b[0mcolumns\u001b[0m\u001b[1;33m=\u001b[0m\u001b[0mcategories\u001b[0m\u001b[1;33m)\u001b[0m\u001b[1;33m\u001b[0m\u001b[1;33m\u001b[0m\u001b[0m\n",
      "\u001b[1;31mNameError\u001b[0m: name 'X' is not defined"
     ]
    }
   ],
   "source": [
    "#if we decided to use imputed data\n",
    "#X = augmented_X\n",
    "\n",
    "\n",
    "categories = [ 'hospital_id','ethnicity','gender','hospital_admit_source','icu_admit_source',\n",
    "              'icu_stay_type','apache_3j_bodysystem','apache_2_bodysystem']\n",
    "x_copy = X.astype({'hospital_id': 'object'})\n",
    "categorical = pd.get_dummies(x_copy[categories], dummy_na=True)\n",
    "continuous = X.drop(columns=categories)\n",
    "continuous = continuous.astype('int32')                                       #after imputation, this error should be fixed\n",
    "x = pd.concat([continuous,categorical],axis=1)"
   ]
  },
  {
   "cell_type": "code",
   "execution_count": null,
   "metadata": {},
   "outputs": [],
   "source": []
  },
  {
   "cell_type": "markdown",
   "metadata": {},
   "source": [
    "### Splitting data\n"
   ]
  },
  {
   "cell_type": "code",
   "execution_count": 20,
   "metadata": {},
   "outputs": [],
   "source": [
    "X_train, X_test ,y_train, y_test = train_test_split(X, y, test_size=0.2, random_state=1)\n"
   ]
  },
  {
   "cell_type": "markdown",
   "metadata": {},
   "source": [
    "### Models\n",
    "pick whichever you want\n",
    "### Logistic regression\n",
    "Jewel"
   ]
  },
  {
   "cell_type": "code",
   "execution_count": null,
   "metadata": {},
   "outputs": [],
   "source": []
  },
  {
   "cell_type": "code",
   "execution_count": null,
   "metadata": {},
   "outputs": [],
   "source": []
  },
  {
   "cell_type": "code",
   "execution_count": null,
   "metadata": {},
   "outputs": [],
   "source": []
  },
  {
   "cell_type": "code",
   "execution_count": null,
   "metadata": {},
   "outputs": [],
   "source": []
  },
  {
   "cell_type": "code",
   "execution_count": null,
   "metadata": {},
   "outputs": [],
   "source": []
  },
  {
   "cell_type": "code",
   "execution_count": null,
   "metadata": {},
   "outputs": [],
   "source": []
  },
  {
   "cell_type": "markdown",
   "metadata": {},
   "source": [
    "### SVM \n",
    "(Tina)"
   ]
  },
  {
   "cell_type": "code",
   "execution_count": 23,
   "metadata": {},
   "outputs": [
    {
     "ename": "ValueError",
     "evalue": "could not convert string to float: 'Neurologic'",
     "output_type": "error",
     "traceback": [
      "\u001b[1;31m---------------------------------------------------------------------------\u001b[0m",
      "\u001b[1;31mValueError\u001b[0m                                Traceback (most recent call last)",
      "\u001b[1;32m<ipython-input-23-db23c586e676>\u001b[0m in \u001b[0;36m<module>\u001b[1;34m\u001b[0m\n\u001b[0;32m      1\u001b[0m \u001b[0mclf\u001b[0m \u001b[1;33m=\u001b[0m \u001b[0mSVC\u001b[0m\u001b[1;33m(\u001b[0m\u001b[0mkernel\u001b[0m \u001b[1;33m=\u001b[0m \u001b[1;34m'poly'\u001b[0m\u001b[1;33m)\u001b[0m    \u001b[1;31m# try 'linear’, ‘poly’, ‘rbf’, ‘sigmoid’, ‘precomputed’\u001b[0m\u001b[1;33m\u001b[0m\u001b[1;33m\u001b[0m\u001b[0m\n\u001b[1;32m----> 2\u001b[1;33m \u001b[0mclf\u001b[0m\u001b[1;33m.\u001b[0m\u001b[0mfit\u001b[0m\u001b[1;33m(\u001b[0m\u001b[0mX_train\u001b[0m\u001b[1;33m,\u001b[0m \u001b[0my_train\u001b[0m\u001b[1;33m)\u001b[0m                  \u001b[1;31m#Train the model using the training sets\u001b[0m\u001b[1;33m\u001b[0m\u001b[1;33m\u001b[0m\u001b[0m\n\u001b[0m\u001b[0;32m      3\u001b[0m \u001b[0my_pred\u001b[0m \u001b[1;33m=\u001b[0m \u001b[0mclf\u001b[0m\u001b[1;33m.\u001b[0m\u001b[0mpredict\u001b[0m\u001b[1;33m(\u001b[0m\u001b[0mX_test\u001b[0m\u001b[1;33m)\u001b[0m                \u001b[1;31m#Predict the response for test dataset\u001b[0m\u001b[1;33m\u001b[0m\u001b[1;33m\u001b[0m\u001b[0m\n\u001b[0;32m      4\u001b[0m \u001b[0mprint\u001b[0m\u001b[1;33m(\u001b[0m\u001b[0mprecision_recall_fscore_support\u001b[0m\u001b[1;33m(\u001b[0m\u001b[0my_test\u001b[0m\u001b[1;33m,\u001b[0m \u001b[0my_pred\u001b[0m\u001b[1;33m,\u001b[0m \u001b[0maverage\u001b[0m\u001b[1;33m=\u001b[0m\u001b[1;34m'binary'\u001b[0m\u001b[1;33m)\u001b[0m\u001b[1;33m)\u001b[0m\u001b[1;33m\u001b[0m\u001b[1;33m\u001b[0m\u001b[0m\n",
      "\u001b[1;32mC:\\ProgramData\\Anaconda3\\lib\\site-packages\\sklearn\\svm\\base.py\u001b[0m in \u001b[0;36mfit\u001b[1;34m(self, X, y, sample_weight)\u001b[0m\n\u001b[0;32m    144\u001b[0m         X, y = check_X_y(X, y, dtype=np.float64,\n\u001b[0;32m    145\u001b[0m                          \u001b[0morder\u001b[0m\u001b[1;33m=\u001b[0m\u001b[1;34m'C'\u001b[0m\u001b[1;33m,\u001b[0m \u001b[0maccept_sparse\u001b[0m\u001b[1;33m=\u001b[0m\u001b[1;34m'csr'\u001b[0m\u001b[1;33m,\u001b[0m\u001b[1;33m\u001b[0m\u001b[1;33m\u001b[0m\u001b[0m\n\u001b[1;32m--> 146\u001b[1;33m                          accept_large_sparse=False)\n\u001b[0m\u001b[0;32m    147\u001b[0m         \u001b[0my\u001b[0m \u001b[1;33m=\u001b[0m \u001b[0mself\u001b[0m\u001b[1;33m.\u001b[0m\u001b[0m_validate_targets\u001b[0m\u001b[1;33m(\u001b[0m\u001b[0my\u001b[0m\u001b[1;33m)\u001b[0m\u001b[1;33m\u001b[0m\u001b[1;33m\u001b[0m\u001b[0m\n\u001b[0;32m    148\u001b[0m \u001b[1;33m\u001b[0m\u001b[0m\n",
      "\u001b[1;32mC:\\ProgramData\\Anaconda3\\lib\\site-packages\\sklearn\\utils\\validation.py\u001b[0m in \u001b[0;36mcheck_X_y\u001b[1;34m(X, y, accept_sparse, accept_large_sparse, dtype, order, copy, force_all_finite, ensure_2d, allow_nd, multi_output, ensure_min_samples, ensure_min_features, y_numeric, warn_on_dtype, estimator)\u001b[0m\n\u001b[0;32m    717\u001b[0m                     \u001b[0mensure_min_features\u001b[0m\u001b[1;33m=\u001b[0m\u001b[0mensure_min_features\u001b[0m\u001b[1;33m,\u001b[0m\u001b[1;33m\u001b[0m\u001b[1;33m\u001b[0m\u001b[0m\n\u001b[0;32m    718\u001b[0m                     \u001b[0mwarn_on_dtype\u001b[0m\u001b[1;33m=\u001b[0m\u001b[0mwarn_on_dtype\u001b[0m\u001b[1;33m,\u001b[0m\u001b[1;33m\u001b[0m\u001b[1;33m\u001b[0m\u001b[0m\n\u001b[1;32m--> 719\u001b[1;33m                     estimator=estimator)\n\u001b[0m\u001b[0;32m    720\u001b[0m     \u001b[1;32mif\u001b[0m \u001b[0mmulti_output\u001b[0m\u001b[1;33m:\u001b[0m\u001b[1;33m\u001b[0m\u001b[1;33m\u001b[0m\u001b[0m\n\u001b[0;32m    721\u001b[0m         y = check_array(y, 'csr', force_all_finite=True, ensure_2d=False,\n",
      "\u001b[1;32mC:\\ProgramData\\Anaconda3\\lib\\site-packages\\sklearn\\utils\\validation.py\u001b[0m in \u001b[0;36mcheck_array\u001b[1;34m(array, accept_sparse, accept_large_sparse, dtype, order, copy, force_all_finite, ensure_2d, allow_nd, ensure_min_samples, ensure_min_features, warn_on_dtype, estimator)\u001b[0m\n\u001b[0;32m    494\u001b[0m             \u001b[1;32mtry\u001b[0m\u001b[1;33m:\u001b[0m\u001b[1;33m\u001b[0m\u001b[1;33m\u001b[0m\u001b[0m\n\u001b[0;32m    495\u001b[0m                 \u001b[0mwarnings\u001b[0m\u001b[1;33m.\u001b[0m\u001b[0msimplefilter\u001b[0m\u001b[1;33m(\u001b[0m\u001b[1;34m'error'\u001b[0m\u001b[1;33m,\u001b[0m \u001b[0mComplexWarning\u001b[0m\u001b[1;33m)\u001b[0m\u001b[1;33m\u001b[0m\u001b[1;33m\u001b[0m\u001b[0m\n\u001b[1;32m--> 496\u001b[1;33m                 \u001b[0marray\u001b[0m \u001b[1;33m=\u001b[0m \u001b[0mnp\u001b[0m\u001b[1;33m.\u001b[0m\u001b[0masarray\u001b[0m\u001b[1;33m(\u001b[0m\u001b[0marray\u001b[0m\u001b[1;33m,\u001b[0m \u001b[0mdtype\u001b[0m\u001b[1;33m=\u001b[0m\u001b[0mdtype\u001b[0m\u001b[1;33m,\u001b[0m \u001b[0morder\u001b[0m\u001b[1;33m=\u001b[0m\u001b[0morder\u001b[0m\u001b[1;33m)\u001b[0m\u001b[1;33m\u001b[0m\u001b[1;33m\u001b[0m\u001b[0m\n\u001b[0m\u001b[0;32m    497\u001b[0m             \u001b[1;32mexcept\u001b[0m \u001b[0mComplexWarning\u001b[0m\u001b[1;33m:\u001b[0m\u001b[1;33m\u001b[0m\u001b[1;33m\u001b[0m\u001b[0m\n\u001b[0;32m    498\u001b[0m                 raise ValueError(\"Complex data not supported\\n\"\n",
      "\u001b[1;32mC:\\ProgramData\\Anaconda3\\lib\\site-packages\\numpy\\core\\numeric.py\u001b[0m in \u001b[0;36masarray\u001b[1;34m(a, dtype, order)\u001b[0m\n\u001b[0;32m    536\u001b[0m \u001b[1;33m\u001b[0m\u001b[0m\n\u001b[0;32m    537\u001b[0m     \"\"\"\n\u001b[1;32m--> 538\u001b[1;33m     \u001b[1;32mreturn\u001b[0m \u001b[0marray\u001b[0m\u001b[1;33m(\u001b[0m\u001b[0ma\u001b[0m\u001b[1;33m,\u001b[0m \u001b[0mdtype\u001b[0m\u001b[1;33m,\u001b[0m \u001b[0mcopy\u001b[0m\u001b[1;33m=\u001b[0m\u001b[1;32mFalse\u001b[0m\u001b[1;33m,\u001b[0m \u001b[0morder\u001b[0m\u001b[1;33m=\u001b[0m\u001b[0morder\u001b[0m\u001b[1;33m)\u001b[0m\u001b[1;33m\u001b[0m\u001b[1;33m\u001b[0m\u001b[0m\n\u001b[0m\u001b[0;32m    539\u001b[0m \u001b[1;33m\u001b[0m\u001b[0m\n\u001b[0;32m    540\u001b[0m \u001b[1;33m\u001b[0m\u001b[0m\n",
      "\u001b[1;31mValueError\u001b[0m: could not convert string to float: 'Neurologic'"
     ]
    }
   ],
   "source": [
    "clf = SVC(kernel = 'poly')    # try 'linear’, ‘poly’, ‘rbf’, ‘sigmoid’, ‘precomputed’ \n",
    "clf.fit(X_train, y_train)                  #Train the model using the training sets\n",
    "y_pred = clf.predict(X_test)                #Predict the response for test dataset\n",
    "print(precision_recall_fscore_support(y_test, y_pred, average='binary'))"
   ]
  },
  {
   "cell_type": "markdown",
   "metadata": {},
   "source": [
    "### Random forest"
   ]
  },
  {
   "cell_type": "code",
   "execution_count": 22,
   "metadata": {
    "scrolled": true
   },
   "outputs": [
    {
     "ename": "ValueError",
     "evalue": "could not convert string to float: 'Other/Unknown'",
     "output_type": "error",
     "traceback": [
      "\u001b[1;31m---------------------------------------------------------------------------\u001b[0m",
      "\u001b[1;31mValueError\u001b[0m                                Traceback (most recent call last)",
      "\u001b[1;32m<ipython-input-22-5afb409781d5>\u001b[0m in \u001b[0;36m<module>\u001b[1;34m\u001b[0m\n\u001b[0;32m      1\u001b[0m \u001b[0mrf\u001b[0m \u001b[1;33m=\u001b[0m \u001b[0mRandomForestClassifier\u001b[0m\u001b[1;33m(\u001b[0m\u001b[0mn_estimators\u001b[0m\u001b[1;33m=\u001b[0m\u001b[1;36m100\u001b[0m\u001b[1;33m)\u001b[0m\u001b[1;33m\u001b[0m\u001b[1;33m\u001b[0m\u001b[0m\n\u001b[1;32m----> 2\u001b[1;33m \u001b[0mrf\u001b[0m\u001b[1;33m.\u001b[0m\u001b[0mfit\u001b[0m\u001b[1;33m(\u001b[0m\u001b[0mX_train\u001b[0m\u001b[1;33m,\u001b[0m \u001b[0my_train\u001b[0m\u001b[1;33m)\u001b[0m\u001b[1;33m\u001b[0m\u001b[1;33m\u001b[0m\u001b[0m\n\u001b[0m\u001b[0;32m      3\u001b[0m \u001b[0mpredictions\u001b[0m \u001b[1;33m=\u001b[0m \u001b[0mrf\u001b[0m\u001b[1;33m.\u001b[0m\u001b[0mpredict\u001b[0m\u001b[1;33m(\u001b[0m\u001b[0mX_test\u001b[0m\u001b[1;33m)\u001b[0m\u001b[1;33m\u001b[0m\u001b[1;33m\u001b[0m\u001b[0m\n\u001b[0;32m      4\u001b[0m \u001b[0mprint\u001b[0m\u001b[1;33m(\u001b[0m\u001b[0mprecision_recall_fscore_support\u001b[0m\u001b[1;33m(\u001b[0m\u001b[0my_test\u001b[0m\u001b[1;33m,\u001b[0m \u001b[0mpredictions\u001b[0m\u001b[1;33m,\u001b[0m \u001b[0maverage\u001b[0m\u001b[1;33m=\u001b[0m\u001b[1;34m'binary'\u001b[0m\u001b[1;33m)\u001b[0m\u001b[1;33m)\u001b[0m\u001b[1;33m\u001b[0m\u001b[1;33m\u001b[0m\u001b[0m\n",
      "\u001b[1;32mC:\\ProgramData\\Anaconda3\\lib\\site-packages\\sklearn\\ensemble\\forest.py\u001b[0m in \u001b[0;36mfit\u001b[1;34m(self, X, y, sample_weight)\u001b[0m\n\u001b[0;32m    247\u001b[0m \u001b[1;33m\u001b[0m\u001b[0m\n\u001b[0;32m    248\u001b[0m         \u001b[1;31m# Validate or convert input data\u001b[0m\u001b[1;33m\u001b[0m\u001b[1;33m\u001b[0m\u001b[1;33m\u001b[0m\u001b[0m\n\u001b[1;32m--> 249\u001b[1;33m         \u001b[0mX\u001b[0m \u001b[1;33m=\u001b[0m \u001b[0mcheck_array\u001b[0m\u001b[1;33m(\u001b[0m\u001b[0mX\u001b[0m\u001b[1;33m,\u001b[0m \u001b[0maccept_sparse\u001b[0m\u001b[1;33m=\u001b[0m\u001b[1;34m\"csc\"\u001b[0m\u001b[1;33m,\u001b[0m \u001b[0mdtype\u001b[0m\u001b[1;33m=\u001b[0m\u001b[0mDTYPE\u001b[0m\u001b[1;33m)\u001b[0m\u001b[1;33m\u001b[0m\u001b[1;33m\u001b[0m\u001b[0m\n\u001b[0m\u001b[0;32m    250\u001b[0m         \u001b[0my\u001b[0m \u001b[1;33m=\u001b[0m \u001b[0mcheck_array\u001b[0m\u001b[1;33m(\u001b[0m\u001b[0my\u001b[0m\u001b[1;33m,\u001b[0m \u001b[0maccept_sparse\u001b[0m\u001b[1;33m=\u001b[0m\u001b[1;34m'csc'\u001b[0m\u001b[1;33m,\u001b[0m \u001b[0mensure_2d\u001b[0m\u001b[1;33m=\u001b[0m\u001b[1;32mFalse\u001b[0m\u001b[1;33m,\u001b[0m \u001b[0mdtype\u001b[0m\u001b[1;33m=\u001b[0m\u001b[1;32mNone\u001b[0m\u001b[1;33m)\u001b[0m\u001b[1;33m\u001b[0m\u001b[1;33m\u001b[0m\u001b[0m\n\u001b[0;32m    251\u001b[0m         \u001b[1;32mif\u001b[0m \u001b[0msample_weight\u001b[0m \u001b[1;32mis\u001b[0m \u001b[1;32mnot\u001b[0m \u001b[1;32mNone\u001b[0m\u001b[1;33m:\u001b[0m\u001b[1;33m\u001b[0m\u001b[1;33m\u001b[0m\u001b[0m\n",
      "\u001b[1;32mC:\\ProgramData\\Anaconda3\\lib\\site-packages\\sklearn\\utils\\validation.py\u001b[0m in \u001b[0;36mcheck_array\u001b[1;34m(array, accept_sparse, accept_large_sparse, dtype, order, copy, force_all_finite, ensure_2d, allow_nd, ensure_min_samples, ensure_min_features, warn_on_dtype, estimator)\u001b[0m\n\u001b[0;32m    494\u001b[0m             \u001b[1;32mtry\u001b[0m\u001b[1;33m:\u001b[0m\u001b[1;33m\u001b[0m\u001b[1;33m\u001b[0m\u001b[0m\n\u001b[0;32m    495\u001b[0m                 \u001b[0mwarnings\u001b[0m\u001b[1;33m.\u001b[0m\u001b[0msimplefilter\u001b[0m\u001b[1;33m(\u001b[0m\u001b[1;34m'error'\u001b[0m\u001b[1;33m,\u001b[0m \u001b[0mComplexWarning\u001b[0m\u001b[1;33m)\u001b[0m\u001b[1;33m\u001b[0m\u001b[1;33m\u001b[0m\u001b[0m\n\u001b[1;32m--> 496\u001b[1;33m                 \u001b[0marray\u001b[0m \u001b[1;33m=\u001b[0m \u001b[0mnp\u001b[0m\u001b[1;33m.\u001b[0m\u001b[0masarray\u001b[0m\u001b[1;33m(\u001b[0m\u001b[0marray\u001b[0m\u001b[1;33m,\u001b[0m \u001b[0mdtype\u001b[0m\u001b[1;33m=\u001b[0m\u001b[0mdtype\u001b[0m\u001b[1;33m,\u001b[0m \u001b[0morder\u001b[0m\u001b[1;33m=\u001b[0m\u001b[0morder\u001b[0m\u001b[1;33m)\u001b[0m\u001b[1;33m\u001b[0m\u001b[1;33m\u001b[0m\u001b[0m\n\u001b[0m\u001b[0;32m    497\u001b[0m             \u001b[1;32mexcept\u001b[0m \u001b[0mComplexWarning\u001b[0m\u001b[1;33m:\u001b[0m\u001b[1;33m\u001b[0m\u001b[1;33m\u001b[0m\u001b[0m\n\u001b[0;32m    498\u001b[0m                 raise ValueError(\"Complex data not supported\\n\"\n",
      "\u001b[1;32mC:\\ProgramData\\Anaconda3\\lib\\site-packages\\numpy\\core\\numeric.py\u001b[0m in \u001b[0;36masarray\u001b[1;34m(a, dtype, order)\u001b[0m\n\u001b[0;32m    536\u001b[0m \u001b[1;33m\u001b[0m\u001b[0m\n\u001b[0;32m    537\u001b[0m     \"\"\"\n\u001b[1;32m--> 538\u001b[1;33m     \u001b[1;32mreturn\u001b[0m \u001b[0marray\u001b[0m\u001b[1;33m(\u001b[0m\u001b[0ma\u001b[0m\u001b[1;33m,\u001b[0m \u001b[0mdtype\u001b[0m\u001b[1;33m,\u001b[0m \u001b[0mcopy\u001b[0m\u001b[1;33m=\u001b[0m\u001b[1;32mFalse\u001b[0m\u001b[1;33m,\u001b[0m \u001b[0morder\u001b[0m\u001b[1;33m=\u001b[0m\u001b[0morder\u001b[0m\u001b[1;33m)\u001b[0m\u001b[1;33m\u001b[0m\u001b[1;33m\u001b[0m\u001b[0m\n\u001b[0m\u001b[0;32m    539\u001b[0m \u001b[1;33m\u001b[0m\u001b[0m\n\u001b[0;32m    540\u001b[0m \u001b[1;33m\u001b[0m\u001b[0m\n",
      "\u001b[1;31mValueError\u001b[0m: could not convert string to float: 'Other/Unknown'"
     ]
    }
   ],
   "source": [
    "rf = RandomForestClassifier(n_estimators=100)\n",
    "rf.fit(X_train, y_train)\n",
    "predictions = rf.predict(X_test)\n",
    "print(precision_recall_fscore_support(y_test, predictions, average='binary'))"
   ]
  },
  {
   "cell_type": "markdown",
   "metadata": {},
   "source": [
    "### Boosting methods\n",
    "Yu"
   ]
  },
  {
   "cell_type": "code",
   "execution_count": null,
   "metadata": {},
   "outputs": [],
   "source": [
    "\n"
   ]
  },
  {
   "cell_type": "markdown",
   "metadata": {},
   "source": [
    "### Neural Net"
   ]
  },
  {
   "cell_type": "code",
   "execution_count": null,
   "metadata": {},
   "outputs": [],
   "source": []
  }
 ],
 "metadata": {
  "kernelspec": {
   "display_name": "Python 3",
   "language": "python",
   "name": "python3"
  },
  "language_info": {
   "codemirror_mode": {
    "name": "ipython",
    "version": 3
   },
   "file_extension": ".py",
   "mimetype": "text/x-python",
   "name": "python",
   "nbconvert_exporter": "python",
   "pygments_lexer": "ipython3",
   "version": "3.5.2"
  }
 },
 "nbformat": 4,
 "nbformat_minor": 4
}
